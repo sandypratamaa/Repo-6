{
  "cells": [
    {
      "cell_type": "markdown",
      "metadata": {
        "id": "QQzFvuEXYO29"
      },
      "source": [
        "## Klasifikasi Text Mining menggunakan Naive Bayes"
      ]
    },
    {
      "cell_type": "markdown",
      "metadata": {
        "id": "wDD8_BOAYhz9"
      },
      "source": [
        "# load drive"
      ]
    },
    {
      "cell_type": "code",
      "execution_count": 1,
      "metadata": {
        "id": "nGp1bD18YjLY",
        "colab": {
          "base_uri": "https://localhost:8080/"
        },
        "outputId": "2768dab7-1e90-415c-a54a-f14b3a117edb"
      },
      "outputs": [
        {
          "output_type": "stream",
          "name": "stdout",
          "text": [
            "Mounted at /content/drive\n"
          ]
        }
      ],
      "source": [
        "from google.colab import drive\n",
        "drive.mount('/content/drive')\n",
        "import sys\n",
        "sys.path.append('/content/drive/My Drive/Colab Notebooks/AMS2023')"
      ]
    },
    {
      "cell_type": "markdown",
      "metadata": {
        "id": "4ha0Iz7KZPNI"
      },
      "source": [
        "# install library ekphrasis"
      ]
    },
    {
      "cell_type": "code",
      "execution_count": 2,
      "metadata": {
        "id": "o0lyD-xfZQge",
        "colab": {
          "base_uri": "https://localhost:8080/",
          "height": 758
        },
        "outputId": "ae0cd26e-d6eb-425e-f938-080bf9cd4b70"
      },
      "outputs": [
        {
          "output_type": "stream",
          "name": "stdout",
          "text": [
            "Collecting ekphrasis\n",
            "  Downloading ekphrasis-0.5.4-py3-none-any.whl (83 kB)\n",
            "\u001b[?25l     \u001b[90m━━━━━━━━━━━━━━━━━━━━━━━━━━━━━━━━━━━━━━━━\u001b[0m \u001b[32m0.0/83.8 kB\u001b[0m \u001b[31m?\u001b[0m eta \u001b[36m-:--:--\u001b[0m\r\u001b[2K     \u001b[90m━━━━━━━━━━━━━━━━━━━━━━━━━━━━━━━━━━━━━━━━\u001b[0m \u001b[32m83.8/83.8 kB\u001b[0m \u001b[31m2.7 MB/s\u001b[0m eta \u001b[36m0:00:00\u001b[0m\n",
            "\u001b[?25hRequirement already satisfied: termcolor in /usr/local/lib/python3.10/dist-packages (from ekphrasis) (2.3.0)\n",
            "Requirement already satisfied: tqdm in /usr/local/lib/python3.10/dist-packages (from ekphrasis) (4.66.1)\n",
            "Collecting colorama (from ekphrasis)\n",
            "  Downloading colorama-0.4.6-py2.py3-none-any.whl (25 kB)\n",
            "Collecting ujson (from ekphrasis)\n",
            "  Downloading ujson-5.8.0-cp310-cp310-manylinux_2_17_x86_64.manylinux2014_x86_64.whl (53 kB)\n",
            "\u001b[2K     \u001b[90m━━━━━━━━━━━━━━━━━━━━━━━━━━━━━━━━━━━━━━━━\u001b[0m \u001b[32m53.9/53.9 kB\u001b[0m \u001b[31m8.5 MB/s\u001b[0m eta \u001b[36m0:00:00\u001b[0m\n",
            "\u001b[?25hRequirement already satisfied: matplotlib in /usr/local/lib/python3.10/dist-packages (from ekphrasis) (3.7.1)\n",
            "Requirement already satisfied: nltk in /usr/local/lib/python3.10/dist-packages (from ekphrasis) (3.8.1)\n",
            "Collecting ftfy (from ekphrasis)\n",
            "  Downloading ftfy-6.1.3-py3-none-any.whl (53 kB)\n",
            "\u001b[2K     \u001b[90m━━━━━━━━━━━━━━━━━━━━━━━━━━━━━━━━━━━━━━━━\u001b[0m \u001b[32m53.4/53.4 kB\u001b[0m \u001b[31m8.5 MB/s\u001b[0m eta \u001b[36m0:00:00\u001b[0m\n",
            "\u001b[?25hRequirement already satisfied: numpy in /usr/local/lib/python3.10/dist-packages (from ekphrasis) (1.23.5)\n",
            "Collecting wcwidth<0.3.0,>=0.2.12 (from ftfy->ekphrasis)\n",
            "  Downloading wcwidth-0.2.12-py2.py3-none-any.whl (34 kB)\n",
            "Requirement already satisfied: contourpy>=1.0.1 in /usr/local/lib/python3.10/dist-packages (from matplotlib->ekphrasis) (1.2.0)\n",
            "Requirement already satisfied: cycler>=0.10 in /usr/local/lib/python3.10/dist-packages (from matplotlib->ekphrasis) (0.12.1)\n",
            "Requirement already satisfied: fonttools>=4.22.0 in /usr/local/lib/python3.10/dist-packages (from matplotlib->ekphrasis) (4.44.3)\n",
            "Requirement already satisfied: kiwisolver>=1.0.1 in /usr/local/lib/python3.10/dist-packages (from matplotlib->ekphrasis) (1.4.5)\n",
            "Requirement already satisfied: packaging>=20.0 in /usr/local/lib/python3.10/dist-packages (from matplotlib->ekphrasis) (23.2)\n",
            "Requirement already satisfied: pillow>=6.2.0 in /usr/local/lib/python3.10/dist-packages (from matplotlib->ekphrasis) (9.4.0)\n",
            "Requirement already satisfied: pyparsing>=2.3.1 in /usr/local/lib/python3.10/dist-packages (from matplotlib->ekphrasis) (3.1.1)\n",
            "Requirement already satisfied: python-dateutil>=2.7 in /usr/local/lib/python3.10/dist-packages (from matplotlib->ekphrasis) (2.8.2)\n",
            "Requirement already satisfied: click in /usr/local/lib/python3.10/dist-packages (from nltk->ekphrasis) (8.1.7)\n",
            "Requirement already satisfied: joblib in /usr/local/lib/python3.10/dist-packages (from nltk->ekphrasis) (1.3.2)\n",
            "Requirement already satisfied: regex>=2021.8.3 in /usr/local/lib/python3.10/dist-packages (from nltk->ekphrasis) (2023.6.3)\n",
            "Requirement already satisfied: six>=1.5 in /usr/local/lib/python3.10/dist-packages (from python-dateutil>=2.7->matplotlib->ekphrasis) (1.16.0)\n",
            "Installing collected packages: wcwidth, ujson, ftfy, colorama, ekphrasis\n",
            "  Attempting uninstall: wcwidth\n",
            "    Found existing installation: wcwidth 0.2.10\n",
            "    Uninstalling wcwidth-0.2.10:\n",
            "      Successfully uninstalled wcwidth-0.2.10\n",
            "Successfully installed colorama-0.4.6 ekphrasis-0.5.4 ftfy-6.1.3 ujson-5.8.0 wcwidth-0.2.12\n"
          ]
        },
        {
          "output_type": "display_data",
          "data": {
            "application/vnd.colab-display-data+json": {
              "pip_warning": {
                "packages": [
                  "wcwidth"
                ]
              }
            }
          },
          "metadata": {}
        }
      ],
      "source": [
        "!pip install ekphrasis"
      ]
    },
    {
      "cell_type": "code",
      "execution_count": 3,
      "metadata": {
        "colab": {
          "base_uri": "https://localhost:8080/"
        },
        "id": "2n8VFUcCZWuV",
        "outputId": "f328ee8b-f6f5-467c-87a9-23c57ce446e7",
        "tags": []
      },
      "outputs": [
        {
          "output_type": "stream",
          "name": "stderr",
          "text": [
            "/usr/local/lib/python3.10/dist-packages/ekphrasis/classes/tokenizer.py:225: FutureWarning: Possible nested set at position 2190\n",
            "  self.tok = re.compile(r\"({})\".format(\"|\".join(pipeline)))\n"
          ]
        },
        {
          "output_type": "stream",
          "name": "stdout",
          "text": [
            "Word statistics files not found!\n",
            "Downloading... done!\n",
            "Unpacking... done!\n",
            "Reading twitter - 1grams ...\n",
            "generating cache file for faster loading...\n",
            "reading ngrams /root/.ekphrasis/stats/twitter/counts_1grams.txt\n",
            "Reading twitter - 2grams ...\n",
            "generating cache file for faster loading...\n",
            "reading ngrams /root/.ekphrasis/stats/twitter/counts_2grams.txt\n",
            "Reading twitter - 1grams ...\n"
          ]
        },
        {
          "output_type": "stream",
          "name": "stderr",
          "text": [
            "/usr/local/lib/python3.10/dist-packages/ekphrasis/classes/exmanager.py:14: FutureWarning: Possible nested set at position 42\n",
            "  regexes = {k.lower(): re.compile(self.expressions[k]) for k, v in\n"
          ]
        }
      ],
      "source": [
        "from ekphrasis.classes.preprocessor import TextPreProcessor\n",
        "from ekphrasis.classes.tokenizer import SocialTokenizer\n",
        "from ekphrasis.dicts.emoticons import emoticons\n",
        "\n",
        "text_processor = TextPreProcessor(\n",
        "    # terms that will be normalized\n",
        "    normalize=['email', 'percent', 'money', 'phone', 'user',\n",
        "        'time', 'date', 'number'],\n",
        "    # terms that will be annotated\n",
        "    #annotate={\"hashtag\", \"allcaps\", \"elongated\", \"repeated\",'emphasis', 'censored'},\n",
        "    annotate={\"hashtag\",\"allcaps\",\"elongated\",\"repeated\",'emphasis','censored'},\n",
        "    fix_html=True,  # fix HTML tokens\n",
        "\n",
        "    # corpus from which the word statistics are going to be used\n",
        "    # for word segmentation\n",
        "    segmenter=\"twitter\",\n",
        "\n",
        "    # corpus from which the word statistics are going to be used\n",
        "    # for spell correction\n",
        "    corrector=\"twitter\",\n",
        "\n",
        "    unpack_hashtags=True,  # perform word segmentation on hashtags\n",
        "    unpack_contractions=True,  # Unpack contractions (can't -> can not)\n",
        "    spell_correct_elong=False,  # spell correction for elongated words\n",
        "\n",
        "    # select a tokenizer. You can use SocialTokenizer, or pass your own\n",
        "    # the tokenizer, should take as input a string and return a list of tokens\n",
        "    tokenizer=SocialTokenizer(lowercase=True).tokenize,\n",
        "\n",
        "    # list of dictionaries, for replacing tokens extracted from the text,\n",
        "    # with other expressions. You can pass more than one dictionaries.\n",
        "    dicts=[emoticons]\n",
        ")"
      ]
    },
    {
      "cell_type": "markdown",
      "metadata": {
        "id": "OOwAOicWYajI"
      },
      "source": [
        "# load library"
      ]
    },
    {
      "cell_type": "code",
      "execution_count": 4,
      "metadata": {
        "id": "BmapjRiEYGPd",
        "tags": []
      },
      "outputs": [],
      "source": [
        "import re\n",
        "import string\n",
        "import pandas as pd\n",
        "from copy import deepcopy\n",
        "\n",
        "import matplotlib.pyplot as plt\n",
        "import seaborn as sns\n",
        "%matplotlib inline\n",
        "\n",
        "from sklearn.model_selection import train_test_split\n",
        "from sklearn.metrics import accuracy_score\n",
        "from sklearn.metrics import recall_score\n",
        "from sklearn.metrics import precision_score"
      ]
    },
    {
      "cell_type": "markdown",
      "metadata": {
        "id": "iR6F1PJMZgY_"
      },
      "source": [
        "# load dataset"
      ]
    },
    {
      "cell_type": "code",
      "execution_count": 7,
      "metadata": {
        "id": "i533Vd_pZfnq",
        "tags": []
      },
      "outputs": [],
      "source": [
        "df = pd.read_csv('Dataset_Sentimen_Emosi.csv')"
      ]
    },
    {
      "cell_type": "code",
      "execution_count": 9,
      "metadata": {
        "colab": {
          "base_uri": "https://localhost:8080/",
          "height": 206
        },
        "id": "tNNt78OHZp6G",
        "outputId": "41157006-03c5-4059-dc42-5f08509cc5c2",
        "tags": []
      },
      "outputs": [
        {
          "output_type": "execute_result",
          "data": {
            "text/plain": [
              "                                               Tweet  Sentimen  Emosi\n",
              "0  emang lemes bgt ya mulut lu, gue yg mau beli-b...      -1.0     -2\n",
              "1  Cegah mata rantai Covid-19,mari kita dirumah s...       1.0      1\n",
              "2  aku mohon yaAllah semoga wabah covid-19 menghi...       1.0     -1\n",
              "3  Pemprov Papua Naikkan Status Jadi Tanggap Daru...       1.0      1\n",
              "4            Covid belum nyampe prigen mbak hmm hoax       0.0     -2"
            ],
            "text/html": [
              "\n",
              "  <div id=\"df-6a6239c5-c2d2-4859-ba8e-8b9c7e9b5f4d\" class=\"colab-df-container\">\n",
              "    <div>\n",
              "<style scoped>\n",
              "    .dataframe tbody tr th:only-of-type {\n",
              "        vertical-align: middle;\n",
              "    }\n",
              "\n",
              "    .dataframe tbody tr th {\n",
              "        vertical-align: top;\n",
              "    }\n",
              "\n",
              "    .dataframe thead th {\n",
              "        text-align: right;\n",
              "    }\n",
              "</style>\n",
              "<table border=\"1\" class=\"dataframe\">\n",
              "  <thead>\n",
              "    <tr style=\"text-align: right;\">\n",
              "      <th></th>\n",
              "      <th>Tweet</th>\n",
              "      <th>Sentimen</th>\n",
              "      <th>Emosi</th>\n",
              "    </tr>\n",
              "  </thead>\n",
              "  <tbody>\n",
              "    <tr>\n",
              "      <th>0</th>\n",
              "      <td>emang lemes bgt ya mulut lu, gue yg mau beli-b...</td>\n",
              "      <td>-1.0</td>\n",
              "      <td>-2</td>\n",
              "    </tr>\n",
              "    <tr>\n",
              "      <th>1</th>\n",
              "      <td>Cegah mata rantai Covid-19,mari kita dirumah s...</td>\n",
              "      <td>1.0</td>\n",
              "      <td>1</td>\n",
              "    </tr>\n",
              "    <tr>\n",
              "      <th>2</th>\n",
              "      <td>aku mohon yaAllah semoga wabah covid-19 menghi...</td>\n",
              "      <td>1.0</td>\n",
              "      <td>-1</td>\n",
              "    </tr>\n",
              "    <tr>\n",
              "      <th>3</th>\n",
              "      <td>Pemprov Papua Naikkan Status Jadi Tanggap Daru...</td>\n",
              "      <td>1.0</td>\n",
              "      <td>1</td>\n",
              "    </tr>\n",
              "    <tr>\n",
              "      <th>4</th>\n",
              "      <td>Covid belum nyampe prigen mbak hmm hoax</td>\n",
              "      <td>0.0</td>\n",
              "      <td>-2</td>\n",
              "    </tr>\n",
              "  </tbody>\n",
              "</table>\n",
              "</div>\n",
              "    <div class=\"colab-df-buttons\">\n",
              "\n",
              "  <div class=\"colab-df-container\">\n",
              "    <button class=\"colab-df-convert\" onclick=\"convertToInteractive('df-6a6239c5-c2d2-4859-ba8e-8b9c7e9b5f4d')\"\n",
              "            title=\"Convert this dataframe to an interactive table.\"\n",
              "            style=\"display:none;\">\n",
              "\n",
              "  <svg xmlns=\"http://www.w3.org/2000/svg\" height=\"24px\" viewBox=\"0 -960 960 960\">\n",
              "    <path d=\"M120-120v-720h720v720H120Zm60-500h600v-160H180v160Zm220 220h160v-160H400v160Zm0 220h160v-160H400v160ZM180-400h160v-160H180v160Zm440 0h160v-160H620v160ZM180-180h160v-160H180v160Zm440 0h160v-160H620v160Z\"/>\n",
              "  </svg>\n",
              "    </button>\n",
              "\n",
              "  <style>\n",
              "    .colab-df-container {\n",
              "      display:flex;\n",
              "      gap: 12px;\n",
              "    }\n",
              "\n",
              "    .colab-df-convert {\n",
              "      background-color: #E8F0FE;\n",
              "      border: none;\n",
              "      border-radius: 50%;\n",
              "      cursor: pointer;\n",
              "      display: none;\n",
              "      fill: #1967D2;\n",
              "      height: 32px;\n",
              "      padding: 0 0 0 0;\n",
              "      width: 32px;\n",
              "    }\n",
              "\n",
              "    .colab-df-convert:hover {\n",
              "      background-color: #E2EBFA;\n",
              "      box-shadow: 0px 1px 2px rgba(60, 64, 67, 0.3), 0px 1px 3px 1px rgba(60, 64, 67, 0.15);\n",
              "      fill: #174EA6;\n",
              "    }\n",
              "\n",
              "    .colab-df-buttons div {\n",
              "      margin-bottom: 4px;\n",
              "    }\n",
              "\n",
              "    [theme=dark] .colab-df-convert {\n",
              "      background-color: #3B4455;\n",
              "      fill: #D2E3FC;\n",
              "    }\n",
              "\n",
              "    [theme=dark] .colab-df-convert:hover {\n",
              "      background-color: #434B5C;\n",
              "      box-shadow: 0px 1px 3px 1px rgba(0, 0, 0, 0.15);\n",
              "      filter: drop-shadow(0px 1px 2px rgba(0, 0, 0, 0.3));\n",
              "      fill: #FFFFFF;\n",
              "    }\n",
              "  </style>\n",
              "\n",
              "    <script>\n",
              "      const buttonEl =\n",
              "        document.querySelector('#df-6a6239c5-c2d2-4859-ba8e-8b9c7e9b5f4d button.colab-df-convert');\n",
              "      buttonEl.style.display =\n",
              "        google.colab.kernel.accessAllowed ? 'block' : 'none';\n",
              "\n",
              "      async function convertToInteractive(key) {\n",
              "        const element = document.querySelector('#df-6a6239c5-c2d2-4859-ba8e-8b9c7e9b5f4d');\n",
              "        const dataTable =\n",
              "          await google.colab.kernel.invokeFunction('convertToInteractive',\n",
              "                                                    [key], {});\n",
              "        if (!dataTable) return;\n",
              "\n",
              "        const docLinkHtml = 'Like what you see? Visit the ' +\n",
              "          '<a target=\"_blank\" href=https://colab.research.google.com/notebooks/data_table.ipynb>data table notebook</a>'\n",
              "          + ' to learn more about interactive tables.';\n",
              "        element.innerHTML = '';\n",
              "        dataTable['output_type'] = 'display_data';\n",
              "        await google.colab.output.renderOutput(dataTable, element);\n",
              "        const docLink = document.createElement('div');\n",
              "        docLink.innerHTML = docLinkHtml;\n",
              "        element.appendChild(docLink);\n",
              "      }\n",
              "    </script>\n",
              "  </div>\n",
              "\n",
              "\n",
              "<div id=\"df-435fbc6a-72f3-4f48-a5bc-9b4d73e7ef08\">\n",
              "  <button class=\"colab-df-quickchart\" onclick=\"quickchart('df-435fbc6a-72f3-4f48-a5bc-9b4d73e7ef08')\"\n",
              "            title=\"Suggest charts\"\n",
              "            style=\"display:none;\">\n",
              "\n",
              "<svg xmlns=\"http://www.w3.org/2000/svg\" height=\"24px\"viewBox=\"0 0 24 24\"\n",
              "     width=\"24px\">\n",
              "    <g>\n",
              "        <path d=\"M19 3H5c-1.1 0-2 .9-2 2v14c0 1.1.9 2 2 2h14c1.1 0 2-.9 2-2V5c0-1.1-.9-2-2-2zM9 17H7v-7h2v7zm4 0h-2V7h2v10zm4 0h-2v-4h2v4z\"/>\n",
              "    </g>\n",
              "</svg>\n",
              "  </button>\n",
              "\n",
              "<style>\n",
              "  .colab-df-quickchart {\n",
              "      --bg-color: #E8F0FE;\n",
              "      --fill-color: #1967D2;\n",
              "      --hover-bg-color: #E2EBFA;\n",
              "      --hover-fill-color: #174EA6;\n",
              "      --disabled-fill-color: #AAA;\n",
              "      --disabled-bg-color: #DDD;\n",
              "  }\n",
              "\n",
              "  [theme=dark] .colab-df-quickchart {\n",
              "      --bg-color: #3B4455;\n",
              "      --fill-color: #D2E3FC;\n",
              "      --hover-bg-color: #434B5C;\n",
              "      --hover-fill-color: #FFFFFF;\n",
              "      --disabled-bg-color: #3B4455;\n",
              "      --disabled-fill-color: #666;\n",
              "  }\n",
              "\n",
              "  .colab-df-quickchart {\n",
              "    background-color: var(--bg-color);\n",
              "    border: none;\n",
              "    border-radius: 50%;\n",
              "    cursor: pointer;\n",
              "    display: none;\n",
              "    fill: var(--fill-color);\n",
              "    height: 32px;\n",
              "    padding: 0;\n",
              "    width: 32px;\n",
              "  }\n",
              "\n",
              "  .colab-df-quickchart:hover {\n",
              "    background-color: var(--hover-bg-color);\n",
              "    box-shadow: 0 1px 2px rgba(60, 64, 67, 0.3), 0 1px 3px 1px rgba(60, 64, 67, 0.15);\n",
              "    fill: var(--button-hover-fill-color);\n",
              "  }\n",
              "\n",
              "  .colab-df-quickchart-complete:disabled,\n",
              "  .colab-df-quickchart-complete:disabled:hover {\n",
              "    background-color: var(--disabled-bg-color);\n",
              "    fill: var(--disabled-fill-color);\n",
              "    box-shadow: none;\n",
              "  }\n",
              "\n",
              "  .colab-df-spinner {\n",
              "    border: 2px solid var(--fill-color);\n",
              "    border-color: transparent;\n",
              "    border-bottom-color: var(--fill-color);\n",
              "    animation:\n",
              "      spin 1s steps(1) infinite;\n",
              "  }\n",
              "\n",
              "  @keyframes spin {\n",
              "    0% {\n",
              "      border-color: transparent;\n",
              "      border-bottom-color: var(--fill-color);\n",
              "      border-left-color: var(--fill-color);\n",
              "    }\n",
              "    20% {\n",
              "      border-color: transparent;\n",
              "      border-left-color: var(--fill-color);\n",
              "      border-top-color: var(--fill-color);\n",
              "    }\n",
              "    30% {\n",
              "      border-color: transparent;\n",
              "      border-left-color: var(--fill-color);\n",
              "      border-top-color: var(--fill-color);\n",
              "      border-right-color: var(--fill-color);\n",
              "    }\n",
              "    40% {\n",
              "      border-color: transparent;\n",
              "      border-right-color: var(--fill-color);\n",
              "      border-top-color: var(--fill-color);\n",
              "    }\n",
              "    60% {\n",
              "      border-color: transparent;\n",
              "      border-right-color: var(--fill-color);\n",
              "    }\n",
              "    80% {\n",
              "      border-color: transparent;\n",
              "      border-right-color: var(--fill-color);\n",
              "      border-bottom-color: var(--fill-color);\n",
              "    }\n",
              "    90% {\n",
              "      border-color: transparent;\n",
              "      border-bottom-color: var(--fill-color);\n",
              "    }\n",
              "  }\n",
              "</style>\n",
              "\n",
              "  <script>\n",
              "    async function quickchart(key) {\n",
              "      const quickchartButtonEl =\n",
              "        document.querySelector('#' + key + ' button');\n",
              "      quickchartButtonEl.disabled = true;  // To prevent multiple clicks.\n",
              "      quickchartButtonEl.classList.add('colab-df-spinner');\n",
              "      try {\n",
              "        const charts = await google.colab.kernel.invokeFunction(\n",
              "            'suggestCharts', [key], {});\n",
              "      } catch (error) {\n",
              "        console.error('Error during call to suggestCharts:', error);\n",
              "      }\n",
              "      quickchartButtonEl.classList.remove('colab-df-spinner');\n",
              "      quickchartButtonEl.classList.add('colab-df-quickchart-complete');\n",
              "    }\n",
              "    (() => {\n",
              "      let quickchartButtonEl =\n",
              "        document.querySelector('#df-435fbc6a-72f3-4f48-a5bc-9b4d73e7ef08 button');\n",
              "      quickchartButtonEl.style.display =\n",
              "        google.colab.kernel.accessAllowed ? 'block' : 'none';\n",
              "    })();\n",
              "  </script>\n",
              "</div>\n",
              "    </div>\n",
              "  </div>\n"
            ]
          },
          "metadata": {},
          "execution_count": 9
        }
      ],
      "source": [
        "df.head()"
      ]
    },
    {
      "cell_type": "markdown",
      "metadata": {
        "id": "wI1_sMOYZ10L"
      },
      "source": [
        "karena kita hanya ingin fokus di Sentimen analysis, maka kita hanya pakai `Sentimen` sebagai target class nya **class**"
      ]
    },
    {
      "cell_type": "code",
      "execution_count": 10,
      "metadata": {
        "id": "ORRk3QgCZzIZ",
        "tags": []
      },
      "outputs": [],
      "source": [
        "df = df.drop(['Emosi'], axis=1)"
      ]
    },
    {
      "cell_type": "code",
      "execution_count": 11,
      "metadata": {
        "colab": {
          "base_uri": "https://localhost:8080/",
          "height": 206
        },
        "id": "Fw9T_vxxaGlO",
        "outputId": "682ac173-fca8-4a65-826f-aaebdb04c30d",
        "tags": []
      },
      "outputs": [
        {
          "output_type": "execute_result",
          "data": {
            "text/plain": [
              "                                               Tweet  Sentimen\n",
              "0  emang lemes bgt ya mulut lu, gue yg mau beli-b...      -1.0\n",
              "1  Cegah mata rantai Covid-19,mari kita dirumah s...       1.0\n",
              "2  aku mohon yaAllah semoga wabah covid-19 menghi...       1.0\n",
              "3  Pemprov Papua Naikkan Status Jadi Tanggap Daru...       1.0\n",
              "4            Covid belum nyampe prigen mbak hmm hoax       0.0"
            ],
            "text/html": [
              "\n",
              "  <div id=\"df-ac973d69-a446-4ef0-8557-8226b0b21ec5\" class=\"colab-df-container\">\n",
              "    <div>\n",
              "<style scoped>\n",
              "    .dataframe tbody tr th:only-of-type {\n",
              "        vertical-align: middle;\n",
              "    }\n",
              "\n",
              "    .dataframe tbody tr th {\n",
              "        vertical-align: top;\n",
              "    }\n",
              "\n",
              "    .dataframe thead th {\n",
              "        text-align: right;\n",
              "    }\n",
              "</style>\n",
              "<table border=\"1\" class=\"dataframe\">\n",
              "  <thead>\n",
              "    <tr style=\"text-align: right;\">\n",
              "      <th></th>\n",
              "      <th>Tweet</th>\n",
              "      <th>Sentimen</th>\n",
              "    </tr>\n",
              "  </thead>\n",
              "  <tbody>\n",
              "    <tr>\n",
              "      <th>0</th>\n",
              "      <td>emang lemes bgt ya mulut lu, gue yg mau beli-b...</td>\n",
              "      <td>-1.0</td>\n",
              "    </tr>\n",
              "    <tr>\n",
              "      <th>1</th>\n",
              "      <td>Cegah mata rantai Covid-19,mari kita dirumah s...</td>\n",
              "      <td>1.0</td>\n",
              "    </tr>\n",
              "    <tr>\n",
              "      <th>2</th>\n",
              "      <td>aku mohon yaAllah semoga wabah covid-19 menghi...</td>\n",
              "      <td>1.0</td>\n",
              "    </tr>\n",
              "    <tr>\n",
              "      <th>3</th>\n",
              "      <td>Pemprov Papua Naikkan Status Jadi Tanggap Daru...</td>\n",
              "      <td>1.0</td>\n",
              "    </tr>\n",
              "    <tr>\n",
              "      <th>4</th>\n",
              "      <td>Covid belum nyampe prigen mbak hmm hoax</td>\n",
              "      <td>0.0</td>\n",
              "    </tr>\n",
              "  </tbody>\n",
              "</table>\n",
              "</div>\n",
              "    <div class=\"colab-df-buttons\">\n",
              "\n",
              "  <div class=\"colab-df-container\">\n",
              "    <button class=\"colab-df-convert\" onclick=\"convertToInteractive('df-ac973d69-a446-4ef0-8557-8226b0b21ec5')\"\n",
              "            title=\"Convert this dataframe to an interactive table.\"\n",
              "            style=\"display:none;\">\n",
              "\n",
              "  <svg xmlns=\"http://www.w3.org/2000/svg\" height=\"24px\" viewBox=\"0 -960 960 960\">\n",
              "    <path d=\"M120-120v-720h720v720H120Zm60-500h600v-160H180v160Zm220 220h160v-160H400v160Zm0 220h160v-160H400v160ZM180-400h160v-160H180v160Zm440 0h160v-160H620v160ZM180-180h160v-160H180v160Zm440 0h160v-160H620v160Z\"/>\n",
              "  </svg>\n",
              "    </button>\n",
              "\n",
              "  <style>\n",
              "    .colab-df-container {\n",
              "      display:flex;\n",
              "      gap: 12px;\n",
              "    }\n",
              "\n",
              "    .colab-df-convert {\n",
              "      background-color: #E8F0FE;\n",
              "      border: none;\n",
              "      border-radius: 50%;\n",
              "      cursor: pointer;\n",
              "      display: none;\n",
              "      fill: #1967D2;\n",
              "      height: 32px;\n",
              "      padding: 0 0 0 0;\n",
              "      width: 32px;\n",
              "    }\n",
              "\n",
              "    .colab-df-convert:hover {\n",
              "      background-color: #E2EBFA;\n",
              "      box-shadow: 0px 1px 2px rgba(60, 64, 67, 0.3), 0px 1px 3px 1px rgba(60, 64, 67, 0.15);\n",
              "      fill: #174EA6;\n",
              "    }\n",
              "\n",
              "    .colab-df-buttons div {\n",
              "      margin-bottom: 4px;\n",
              "    }\n",
              "\n",
              "    [theme=dark] .colab-df-convert {\n",
              "      background-color: #3B4455;\n",
              "      fill: #D2E3FC;\n",
              "    }\n",
              "\n",
              "    [theme=dark] .colab-df-convert:hover {\n",
              "      background-color: #434B5C;\n",
              "      box-shadow: 0px 1px 3px 1px rgba(0, 0, 0, 0.15);\n",
              "      filter: drop-shadow(0px 1px 2px rgba(0, 0, 0, 0.3));\n",
              "      fill: #FFFFFF;\n",
              "    }\n",
              "  </style>\n",
              "\n",
              "    <script>\n",
              "      const buttonEl =\n",
              "        document.querySelector('#df-ac973d69-a446-4ef0-8557-8226b0b21ec5 button.colab-df-convert');\n",
              "      buttonEl.style.display =\n",
              "        google.colab.kernel.accessAllowed ? 'block' : 'none';\n",
              "\n",
              "      async function convertToInteractive(key) {\n",
              "        const element = document.querySelector('#df-ac973d69-a446-4ef0-8557-8226b0b21ec5');\n",
              "        const dataTable =\n",
              "          await google.colab.kernel.invokeFunction('convertToInteractive',\n",
              "                                                    [key], {});\n",
              "        if (!dataTable) return;\n",
              "\n",
              "        const docLinkHtml = 'Like what you see? Visit the ' +\n",
              "          '<a target=\"_blank\" href=https://colab.research.google.com/notebooks/data_table.ipynb>data table notebook</a>'\n",
              "          + ' to learn more about interactive tables.';\n",
              "        element.innerHTML = '';\n",
              "        dataTable['output_type'] = 'display_data';\n",
              "        await google.colab.output.renderOutput(dataTable, element);\n",
              "        const docLink = document.createElement('div');\n",
              "        docLink.innerHTML = docLinkHtml;\n",
              "        element.appendChild(docLink);\n",
              "      }\n",
              "    </script>\n",
              "  </div>\n",
              "\n",
              "\n",
              "<div id=\"df-20aafce0-f687-4d48-80ca-3b11fdab27b4\">\n",
              "  <button class=\"colab-df-quickchart\" onclick=\"quickchart('df-20aafce0-f687-4d48-80ca-3b11fdab27b4')\"\n",
              "            title=\"Suggest charts\"\n",
              "            style=\"display:none;\">\n",
              "\n",
              "<svg xmlns=\"http://www.w3.org/2000/svg\" height=\"24px\"viewBox=\"0 0 24 24\"\n",
              "     width=\"24px\">\n",
              "    <g>\n",
              "        <path d=\"M19 3H5c-1.1 0-2 .9-2 2v14c0 1.1.9 2 2 2h14c1.1 0 2-.9 2-2V5c0-1.1-.9-2-2-2zM9 17H7v-7h2v7zm4 0h-2V7h2v10zm4 0h-2v-4h2v4z\"/>\n",
              "    </g>\n",
              "</svg>\n",
              "  </button>\n",
              "\n",
              "<style>\n",
              "  .colab-df-quickchart {\n",
              "      --bg-color: #E8F0FE;\n",
              "      --fill-color: #1967D2;\n",
              "      --hover-bg-color: #E2EBFA;\n",
              "      --hover-fill-color: #174EA6;\n",
              "      --disabled-fill-color: #AAA;\n",
              "      --disabled-bg-color: #DDD;\n",
              "  }\n",
              "\n",
              "  [theme=dark] .colab-df-quickchart {\n",
              "      --bg-color: #3B4455;\n",
              "      --fill-color: #D2E3FC;\n",
              "      --hover-bg-color: #434B5C;\n",
              "      --hover-fill-color: #FFFFFF;\n",
              "      --disabled-bg-color: #3B4455;\n",
              "      --disabled-fill-color: #666;\n",
              "  }\n",
              "\n",
              "  .colab-df-quickchart {\n",
              "    background-color: var(--bg-color);\n",
              "    border: none;\n",
              "    border-radius: 50%;\n",
              "    cursor: pointer;\n",
              "    display: none;\n",
              "    fill: var(--fill-color);\n",
              "    height: 32px;\n",
              "    padding: 0;\n",
              "    width: 32px;\n",
              "  }\n",
              "\n",
              "  .colab-df-quickchart:hover {\n",
              "    background-color: var(--hover-bg-color);\n",
              "    box-shadow: 0 1px 2px rgba(60, 64, 67, 0.3), 0 1px 3px 1px rgba(60, 64, 67, 0.15);\n",
              "    fill: var(--button-hover-fill-color);\n",
              "  }\n",
              "\n",
              "  .colab-df-quickchart-complete:disabled,\n",
              "  .colab-df-quickchart-complete:disabled:hover {\n",
              "    background-color: var(--disabled-bg-color);\n",
              "    fill: var(--disabled-fill-color);\n",
              "    box-shadow: none;\n",
              "  }\n",
              "\n",
              "  .colab-df-spinner {\n",
              "    border: 2px solid var(--fill-color);\n",
              "    border-color: transparent;\n",
              "    border-bottom-color: var(--fill-color);\n",
              "    animation:\n",
              "      spin 1s steps(1) infinite;\n",
              "  }\n",
              "\n",
              "  @keyframes spin {\n",
              "    0% {\n",
              "      border-color: transparent;\n",
              "      border-bottom-color: var(--fill-color);\n",
              "      border-left-color: var(--fill-color);\n",
              "    }\n",
              "    20% {\n",
              "      border-color: transparent;\n",
              "      border-left-color: var(--fill-color);\n",
              "      border-top-color: var(--fill-color);\n",
              "    }\n",
              "    30% {\n",
              "      border-color: transparent;\n",
              "      border-left-color: var(--fill-color);\n",
              "      border-top-color: var(--fill-color);\n",
              "      border-right-color: var(--fill-color);\n",
              "    }\n",
              "    40% {\n",
              "      border-color: transparent;\n",
              "      border-right-color: var(--fill-color);\n",
              "      border-top-color: var(--fill-color);\n",
              "    }\n",
              "    60% {\n",
              "      border-color: transparent;\n",
              "      border-right-color: var(--fill-color);\n",
              "    }\n",
              "    80% {\n",
              "      border-color: transparent;\n",
              "      border-right-color: var(--fill-color);\n",
              "      border-bottom-color: var(--fill-color);\n",
              "    }\n",
              "    90% {\n",
              "      border-color: transparent;\n",
              "      border-bottom-color: var(--fill-color);\n",
              "    }\n",
              "  }\n",
              "</style>\n",
              "\n",
              "  <script>\n",
              "    async function quickchart(key) {\n",
              "      const quickchartButtonEl =\n",
              "        document.querySelector('#' + key + ' button');\n",
              "      quickchartButtonEl.disabled = true;  // To prevent multiple clicks.\n",
              "      quickchartButtonEl.classList.add('colab-df-spinner');\n",
              "      try {\n",
              "        const charts = await google.colab.kernel.invokeFunction(\n",
              "            'suggestCharts', [key], {});\n",
              "      } catch (error) {\n",
              "        console.error('Error during call to suggestCharts:', error);\n",
              "      }\n",
              "      quickchartButtonEl.classList.remove('colab-df-spinner');\n",
              "      quickchartButtonEl.classList.add('colab-df-quickchart-complete');\n",
              "    }\n",
              "    (() => {\n",
              "      let quickchartButtonEl =\n",
              "        document.querySelector('#df-20aafce0-f687-4d48-80ca-3b11fdab27b4 button');\n",
              "      quickchartButtonEl.style.display =\n",
              "        google.colab.kernel.accessAllowed ? 'block' : 'none';\n",
              "    })();\n",
              "  </script>\n",
              "</div>\n",
              "    </div>\n",
              "  </div>\n"
            ]
          },
          "metadata": {},
          "execution_count": 11
        }
      ],
      "source": [
        "df.head()"
      ]
    },
    {
      "cell_type": "markdown",
      "metadata": {
        "id": "BJQVC4IFaQVN"
      },
      "source": [
        "# Preprocessing"
      ]
    },
    {
      "cell_type": "markdown",
      "metadata": {
        "id": "gsZ7w0D6bB_G"
      },
      "source": [
        "## setting fungsi"
      ]
    },
    {
      "cell_type": "code",
      "execution_count": 12,
      "metadata": {
        "id": "CUL7cOXDaKwK",
        "tags": []
      },
      "outputs": [],
      "source": [
        "def bersih_data(text):\n",
        "    return \" \".join(text_processor.pre_process_doc(text))\n",
        "\n",
        "def non_ascii(text):\n",
        "    return text.encode('ascii', 'replace').decode('ascii')\n",
        "\n",
        "def remove_space_alzami(text):\n",
        "    return \" \".join(text.split())\n",
        "\n",
        "def remove_emoji_alzami(text):\n",
        "    return ' '.join(re.sub(\"([x#][A-Za-z0-9]+)\",\" \", text).split())\n",
        "\n",
        "def remove_tab(text):\n",
        "    return text.replace('\\\\t',\" \").replace('\\\\n',\" \").replace('\\\\u',\" \").replace('\\\\',\"\")\n",
        "\n",
        "def remove_tab2(text):\n",
        "    return re.sub('\\s+',' ',text)\n",
        "\n",
        "def remove_rt(text):\n",
        "    return text.replace('RT',\" \")\n",
        "\n",
        "def remove_mention(text):\n",
        "    return ' '.join(re.sub(\"([@#][A-Za-z0-9]+)|(\\w+:\\/\\/\\S+)\",\" \", text).split())\n",
        "\n",
        "def remove_incomplete_url(text):\n",
        "    return text.replace(\"http://\", \" \").replace(\"https://\", \" \")\n",
        "\n",
        "def remove_single_char(text):\n",
        "    return re.sub(r\"\\b[a-zA-Z]\\b\", \"\", text)\n",
        "\n",
        "def change_stripe(text):\n",
        "    return text.replace('-',\" \")\n",
        "\n",
        "def lower(text):\n",
        "    return text.lower()\n",
        "\n",
        "def remove_punctuation(text):\n",
        "    remove = string.punctuation\n",
        "    remove = remove.replace(\"_\", \"\") # don't remove hyphens\n",
        "    pattern = r\"[{}]\".format(remove) # create the pattern\n",
        "    return re.sub(pattern, \"\", text)"
      ]
    },
    {
      "cell_type": "markdown",
      "metadata": {
        "id": "dKWc2zLWa1vU"
      },
      "source": [
        "## running preprocessing\n",
        "logika main disini"
      ]
    },
    {
      "cell_type": "code",
      "execution_count": 13,
      "metadata": {
        "id": "WK9Su5bBbG2G",
        "tags": []
      },
      "outputs": [],
      "source": [
        "final_string = []\n",
        "for text in df['Tweet'].values:\n",
        "    EachReviewText = \"\"\n",
        "    proc = bersih_data(text)\n",
        "    proc = remove_rt(proc)\n",
        "    proc = lower(proc)\n",
        "    proc = change_stripe(proc)\n",
        "    proc = remove_tab(proc)\n",
        "    proc = remove_tab2(proc)\n",
        "    proc = non_ascii(proc)\n",
        "    proc = remove_incomplete_url(proc)\n",
        "    proc = remove_single_char(proc)\n",
        "    proc = remove_punctuation(proc)\n",
        "    proc = remove_space_alzami(proc)\n",
        "    EachReviewText = proc\n",
        "    final_string.append(EachReviewText)"
      ]
    },
    {
      "cell_type": "markdown",
      "metadata": {
        "id": "gG-9xjmJbrja"
      },
      "source": [
        "masukkan hasil preprocessing ke kolom `step01`"
      ]
    },
    {
      "cell_type": "code",
      "execution_count": 14,
      "metadata": {
        "id": "ALrxEwRJbjb2",
        "tags": []
      },
      "outputs": [],
      "source": [
        "df[\"step01\"] = final_string"
      ]
    },
    {
      "cell_type": "code",
      "execution_count": 15,
      "metadata": {
        "colab": {
          "base_uri": "https://localhost:8080/",
          "height": 363
        },
        "id": "hOmgeMAMbwGu",
        "outputId": "00d687e0-de54-4277-aac8-a201bb93c764",
        "tags": []
      },
      "outputs": [
        {
          "output_type": "execute_result",
          "data": {
            "text/plain": [
              "                                               Tweet  Sentimen  \\\n",
              "0  emang lemes bgt ya mulut lu, gue yg mau beli-b...      -1.0   \n",
              "1  Cegah mata rantai Covid-19,mari kita dirumah s...       1.0   \n",
              "2  aku mohon yaAllah semoga wabah covid-19 menghi...       1.0   \n",
              "3  Pemprov Papua Naikkan Status Jadi Tanggap Daru...       1.0   \n",
              "4            Covid belum nyampe prigen mbak hmm hoax       0.0   \n",
              "5  Nyuruh orang pintar, lu aja Togog. Itu kerumun...      -1.0   \n",
              "6  Pikir2 balik byk mnde plk nk setelkn lepas covid.       0.0   \n",
              "7  Selamat pagi, hari jum'at. Jum'at keempat di k...       1.0   \n",
              "8  Hikmah di balik musibah covid-19, smg para pej...       1.0   \n",
              "9  Cegah covid-19 beserta jajaran Polsek Kuranji ...       1.0   \n",
              "\n",
              "                                              step01  \n",
              "0  emang lemes bgt ya mulut lu gue yg mau beli be...  \n",
              "1  cegah mata rantai covid number mari kita dirum...  \n",
              "2  aku mohon yaallah semoga wabah covid number me...  \n",
              "3  pemprov papua naikkan status jadi tanggap daru...  \n",
              "4            covid belum nyampe prigen mbak hmm hoax  \n",
              "5  nyuruh orang pintar lu aja togog itu kerumunan...  \n",
              "6   pikir2 balik byk mnde plk nk setelkn lepas covid  \n",
              "7  selamat pagi hari jum at jum at keempat di kal...  \n",
              "8  hikmah di balik musibah covid number smg para ...  \n",
              "9  cegah covid number beserta jajaran polsek kura...  "
            ],
            "text/html": [
              "\n",
              "  <div id=\"df-a9757dda-c9e7-4916-9d5e-4ff4ef37dcf9\" class=\"colab-df-container\">\n",
              "    <div>\n",
              "<style scoped>\n",
              "    .dataframe tbody tr th:only-of-type {\n",
              "        vertical-align: middle;\n",
              "    }\n",
              "\n",
              "    .dataframe tbody tr th {\n",
              "        vertical-align: top;\n",
              "    }\n",
              "\n",
              "    .dataframe thead th {\n",
              "        text-align: right;\n",
              "    }\n",
              "</style>\n",
              "<table border=\"1\" class=\"dataframe\">\n",
              "  <thead>\n",
              "    <tr style=\"text-align: right;\">\n",
              "      <th></th>\n",
              "      <th>Tweet</th>\n",
              "      <th>Sentimen</th>\n",
              "      <th>step01</th>\n",
              "    </tr>\n",
              "  </thead>\n",
              "  <tbody>\n",
              "    <tr>\n",
              "      <th>0</th>\n",
              "      <td>emang lemes bgt ya mulut lu, gue yg mau beli-b...</td>\n",
              "      <td>-1.0</td>\n",
              "      <td>emang lemes bgt ya mulut lu gue yg mau beli be...</td>\n",
              "    </tr>\n",
              "    <tr>\n",
              "      <th>1</th>\n",
              "      <td>Cegah mata rantai Covid-19,mari kita dirumah s...</td>\n",
              "      <td>1.0</td>\n",
              "      <td>cegah mata rantai covid number mari kita dirum...</td>\n",
              "    </tr>\n",
              "    <tr>\n",
              "      <th>2</th>\n",
              "      <td>aku mohon yaAllah semoga wabah covid-19 menghi...</td>\n",
              "      <td>1.0</td>\n",
              "      <td>aku mohon yaallah semoga wabah covid number me...</td>\n",
              "    </tr>\n",
              "    <tr>\n",
              "      <th>3</th>\n",
              "      <td>Pemprov Papua Naikkan Status Jadi Tanggap Daru...</td>\n",
              "      <td>1.0</td>\n",
              "      <td>pemprov papua naikkan status jadi tanggap daru...</td>\n",
              "    </tr>\n",
              "    <tr>\n",
              "      <th>4</th>\n",
              "      <td>Covid belum nyampe prigen mbak hmm hoax</td>\n",
              "      <td>0.0</td>\n",
              "      <td>covid belum nyampe prigen mbak hmm hoax</td>\n",
              "    </tr>\n",
              "    <tr>\n",
              "      <th>5</th>\n",
              "      <td>Nyuruh orang pintar, lu aja Togog. Itu kerumun...</td>\n",
              "      <td>-1.0</td>\n",
              "      <td>nyuruh orang pintar lu aja togog itu kerumunan...</td>\n",
              "    </tr>\n",
              "    <tr>\n",
              "      <th>6</th>\n",
              "      <td>Pikir2 balik byk mnde plk nk setelkn lepas covid.</td>\n",
              "      <td>0.0</td>\n",
              "      <td>pikir2 balik byk mnde plk nk setelkn lepas covid</td>\n",
              "    </tr>\n",
              "    <tr>\n",
              "      <th>7</th>\n",
              "      <td>Selamat pagi, hari jum'at. Jum'at keempat di k...</td>\n",
              "      <td>1.0</td>\n",
              "      <td>selamat pagi hari jum at jum at keempat di kal...</td>\n",
              "    </tr>\n",
              "    <tr>\n",
              "      <th>8</th>\n",
              "      <td>Hikmah di balik musibah covid-19, smg para pej...</td>\n",
              "      <td>1.0</td>\n",
              "      <td>hikmah di balik musibah covid number smg para ...</td>\n",
              "    </tr>\n",
              "    <tr>\n",
              "      <th>9</th>\n",
              "      <td>Cegah covid-19 beserta jajaran Polsek Kuranji ...</td>\n",
              "      <td>1.0</td>\n",
              "      <td>cegah covid number beserta jajaran polsek kura...</td>\n",
              "    </tr>\n",
              "  </tbody>\n",
              "</table>\n",
              "</div>\n",
              "    <div class=\"colab-df-buttons\">\n",
              "\n",
              "  <div class=\"colab-df-container\">\n",
              "    <button class=\"colab-df-convert\" onclick=\"convertToInteractive('df-a9757dda-c9e7-4916-9d5e-4ff4ef37dcf9')\"\n",
              "            title=\"Convert this dataframe to an interactive table.\"\n",
              "            style=\"display:none;\">\n",
              "\n",
              "  <svg xmlns=\"http://www.w3.org/2000/svg\" height=\"24px\" viewBox=\"0 -960 960 960\">\n",
              "    <path d=\"M120-120v-720h720v720H120Zm60-500h600v-160H180v160Zm220 220h160v-160H400v160Zm0 220h160v-160H400v160ZM180-400h160v-160H180v160Zm440 0h160v-160H620v160ZM180-180h160v-160H180v160Zm440 0h160v-160H620v160Z\"/>\n",
              "  </svg>\n",
              "    </button>\n",
              "\n",
              "  <style>\n",
              "    .colab-df-container {\n",
              "      display:flex;\n",
              "      gap: 12px;\n",
              "    }\n",
              "\n",
              "    .colab-df-convert {\n",
              "      background-color: #E8F0FE;\n",
              "      border: none;\n",
              "      border-radius: 50%;\n",
              "      cursor: pointer;\n",
              "      display: none;\n",
              "      fill: #1967D2;\n",
              "      height: 32px;\n",
              "      padding: 0 0 0 0;\n",
              "      width: 32px;\n",
              "    }\n",
              "\n",
              "    .colab-df-convert:hover {\n",
              "      background-color: #E2EBFA;\n",
              "      box-shadow: 0px 1px 2px rgba(60, 64, 67, 0.3), 0px 1px 3px 1px rgba(60, 64, 67, 0.15);\n",
              "      fill: #174EA6;\n",
              "    }\n",
              "\n",
              "    .colab-df-buttons div {\n",
              "      margin-bottom: 4px;\n",
              "    }\n",
              "\n",
              "    [theme=dark] .colab-df-convert {\n",
              "      background-color: #3B4455;\n",
              "      fill: #D2E3FC;\n",
              "    }\n",
              "\n",
              "    [theme=dark] .colab-df-convert:hover {\n",
              "      background-color: #434B5C;\n",
              "      box-shadow: 0px 1px 3px 1px rgba(0, 0, 0, 0.15);\n",
              "      filter: drop-shadow(0px 1px 2px rgba(0, 0, 0, 0.3));\n",
              "      fill: #FFFFFF;\n",
              "    }\n",
              "  </style>\n",
              "\n",
              "    <script>\n",
              "      const buttonEl =\n",
              "        document.querySelector('#df-a9757dda-c9e7-4916-9d5e-4ff4ef37dcf9 button.colab-df-convert');\n",
              "      buttonEl.style.display =\n",
              "        google.colab.kernel.accessAllowed ? 'block' : 'none';\n",
              "\n",
              "      async function convertToInteractive(key) {\n",
              "        const element = document.querySelector('#df-a9757dda-c9e7-4916-9d5e-4ff4ef37dcf9');\n",
              "        const dataTable =\n",
              "          await google.colab.kernel.invokeFunction('convertToInteractive',\n",
              "                                                    [key], {});\n",
              "        if (!dataTable) return;\n",
              "\n",
              "        const docLinkHtml = 'Like what you see? Visit the ' +\n",
              "          '<a target=\"_blank\" href=https://colab.research.google.com/notebooks/data_table.ipynb>data table notebook</a>'\n",
              "          + ' to learn more about interactive tables.';\n",
              "        element.innerHTML = '';\n",
              "        dataTable['output_type'] = 'display_data';\n",
              "        await google.colab.output.renderOutput(dataTable, element);\n",
              "        const docLink = document.createElement('div');\n",
              "        docLink.innerHTML = docLinkHtml;\n",
              "        element.appendChild(docLink);\n",
              "      }\n",
              "    </script>\n",
              "  </div>\n",
              "\n",
              "\n",
              "<div id=\"df-58037f39-9e3a-473f-b432-2c8d934f0e81\">\n",
              "  <button class=\"colab-df-quickchart\" onclick=\"quickchart('df-58037f39-9e3a-473f-b432-2c8d934f0e81')\"\n",
              "            title=\"Suggest charts\"\n",
              "            style=\"display:none;\">\n",
              "\n",
              "<svg xmlns=\"http://www.w3.org/2000/svg\" height=\"24px\"viewBox=\"0 0 24 24\"\n",
              "     width=\"24px\">\n",
              "    <g>\n",
              "        <path d=\"M19 3H5c-1.1 0-2 .9-2 2v14c0 1.1.9 2 2 2h14c1.1 0 2-.9 2-2V5c0-1.1-.9-2-2-2zM9 17H7v-7h2v7zm4 0h-2V7h2v10zm4 0h-2v-4h2v4z\"/>\n",
              "    </g>\n",
              "</svg>\n",
              "  </button>\n",
              "\n",
              "<style>\n",
              "  .colab-df-quickchart {\n",
              "      --bg-color: #E8F0FE;\n",
              "      --fill-color: #1967D2;\n",
              "      --hover-bg-color: #E2EBFA;\n",
              "      --hover-fill-color: #174EA6;\n",
              "      --disabled-fill-color: #AAA;\n",
              "      --disabled-bg-color: #DDD;\n",
              "  }\n",
              "\n",
              "  [theme=dark] .colab-df-quickchart {\n",
              "      --bg-color: #3B4455;\n",
              "      --fill-color: #D2E3FC;\n",
              "      --hover-bg-color: #434B5C;\n",
              "      --hover-fill-color: #FFFFFF;\n",
              "      --disabled-bg-color: #3B4455;\n",
              "      --disabled-fill-color: #666;\n",
              "  }\n",
              "\n",
              "  .colab-df-quickchart {\n",
              "    background-color: var(--bg-color);\n",
              "    border: none;\n",
              "    border-radius: 50%;\n",
              "    cursor: pointer;\n",
              "    display: none;\n",
              "    fill: var(--fill-color);\n",
              "    height: 32px;\n",
              "    padding: 0;\n",
              "    width: 32px;\n",
              "  }\n",
              "\n",
              "  .colab-df-quickchart:hover {\n",
              "    background-color: var(--hover-bg-color);\n",
              "    box-shadow: 0 1px 2px rgba(60, 64, 67, 0.3), 0 1px 3px 1px rgba(60, 64, 67, 0.15);\n",
              "    fill: var(--button-hover-fill-color);\n",
              "  }\n",
              "\n",
              "  .colab-df-quickchart-complete:disabled,\n",
              "  .colab-df-quickchart-complete:disabled:hover {\n",
              "    background-color: var(--disabled-bg-color);\n",
              "    fill: var(--disabled-fill-color);\n",
              "    box-shadow: none;\n",
              "  }\n",
              "\n",
              "  .colab-df-spinner {\n",
              "    border: 2px solid var(--fill-color);\n",
              "    border-color: transparent;\n",
              "    border-bottom-color: var(--fill-color);\n",
              "    animation:\n",
              "      spin 1s steps(1) infinite;\n",
              "  }\n",
              "\n",
              "  @keyframes spin {\n",
              "    0% {\n",
              "      border-color: transparent;\n",
              "      border-bottom-color: var(--fill-color);\n",
              "      border-left-color: var(--fill-color);\n",
              "    }\n",
              "    20% {\n",
              "      border-color: transparent;\n",
              "      border-left-color: var(--fill-color);\n",
              "      border-top-color: var(--fill-color);\n",
              "    }\n",
              "    30% {\n",
              "      border-color: transparent;\n",
              "      border-left-color: var(--fill-color);\n",
              "      border-top-color: var(--fill-color);\n",
              "      border-right-color: var(--fill-color);\n",
              "    }\n",
              "    40% {\n",
              "      border-color: transparent;\n",
              "      border-right-color: var(--fill-color);\n",
              "      border-top-color: var(--fill-color);\n",
              "    }\n",
              "    60% {\n",
              "      border-color: transparent;\n",
              "      border-right-color: var(--fill-color);\n",
              "    }\n",
              "    80% {\n",
              "      border-color: transparent;\n",
              "      border-right-color: var(--fill-color);\n",
              "      border-bottom-color: var(--fill-color);\n",
              "    }\n",
              "    90% {\n",
              "      border-color: transparent;\n",
              "      border-bottom-color: var(--fill-color);\n",
              "    }\n",
              "  }\n",
              "</style>\n",
              "\n",
              "  <script>\n",
              "    async function quickchart(key) {\n",
              "      const quickchartButtonEl =\n",
              "        document.querySelector('#' + key + ' button');\n",
              "      quickchartButtonEl.disabled = true;  // To prevent multiple clicks.\n",
              "      quickchartButtonEl.classList.add('colab-df-spinner');\n",
              "      try {\n",
              "        const charts = await google.colab.kernel.invokeFunction(\n",
              "            'suggestCharts', [key], {});\n",
              "      } catch (error) {\n",
              "        console.error('Error during call to suggestCharts:', error);\n",
              "      }\n",
              "      quickchartButtonEl.classList.remove('colab-df-spinner');\n",
              "      quickchartButtonEl.classList.add('colab-df-quickchart-complete');\n",
              "    }\n",
              "    (() => {\n",
              "      let quickchartButtonEl =\n",
              "        document.querySelector('#df-58037f39-9e3a-473f-b432-2c8d934f0e81 button');\n",
              "      quickchartButtonEl.style.display =\n",
              "        google.colab.kernel.accessAllowed ? 'block' : 'none';\n",
              "    })();\n",
              "  </script>\n",
              "</div>\n",
              "    </div>\n",
              "  </div>\n"
            ]
          },
          "metadata": {},
          "execution_count": 15
        }
      ],
      "source": [
        "df.head(10)"
      ]
    },
    {
      "cell_type": "markdown",
      "metadata": {
        "id": "M_mswe6Ab5Fn"
      },
      "source": [
        "cek jumlah dataset"
      ]
    },
    {
      "cell_type": "code",
      "execution_count": 16,
      "metadata": {
        "colab": {
          "base_uri": "https://localhost:8080/"
        },
        "id": "RmArdHI8bxVD",
        "outputId": "9a3c5ccf-5509-46d1-8b48-a3deb5dd03f4",
        "tags": []
      },
      "outputs": [
        {
          "output_type": "stream",
          "name": "stdout",
          "text": [
            "<class 'pandas.core.frame.DataFrame'>\n",
            "RangeIndex: 905 entries, 0 to 904\n",
            "Data columns (total 3 columns):\n",
            " #   Column    Non-Null Count  Dtype  \n",
            "---  ------    --------------  -----  \n",
            " 0   Tweet     905 non-null    object \n",
            " 1   Sentimen  904 non-null    float64\n",
            " 2   step01    905 non-null    object \n",
            "dtypes: float64(1), object(2)\n",
            "memory usage: 21.3+ KB\n"
          ]
        }
      ],
      "source": [
        "df.info()"
      ]
    },
    {
      "cell_type": "markdown",
      "metadata": {
        "id": "ERYpQ-KYb9rJ"
      },
      "source": [
        "## hapus record yang kosong"
      ]
    },
    {
      "cell_type": "code",
      "execution_count": 17,
      "metadata": {
        "id": "ro18ixq6b7aS",
        "tags": []
      },
      "outputs": [],
      "source": [
        "df_hapus = df[~df['step01'].str.contains(\" \")]"
      ]
    },
    {
      "cell_type": "code",
      "execution_count": 18,
      "metadata": {
        "id": "tk6cqwtvcBNT",
        "tags": []
      },
      "outputs": [],
      "source": [
        "df_new = df[~df.isin(df_hapus)].dropna()"
      ]
    },
    {
      "cell_type": "code",
      "execution_count": 19,
      "metadata": {
        "colab": {
          "base_uri": "https://localhost:8080/"
        },
        "id": "Yu6dRIGycCuH",
        "outputId": "a190e9c5-cb07-43cd-9a40-5f8d54db3642",
        "tags": []
      },
      "outputs": [
        {
          "output_type": "stream",
          "name": "stdout",
          "text": [
            "<class 'pandas.core.frame.DataFrame'>\n",
            "Int64Index: 903 entries, 0 to 904\n",
            "Data columns (total 3 columns):\n",
            " #   Column    Non-Null Count  Dtype  \n",
            "---  ------    --------------  -----  \n",
            " 0   Tweet     903 non-null    object \n",
            " 1   Sentimen  903 non-null    float64\n",
            " 2   step01    903 non-null    object \n",
            "dtypes: float64(1), object(2)\n",
            "memory usage: 28.2+ KB\n"
          ]
        }
      ],
      "source": [
        "df_new.info()"
      ]
    },
    {
      "cell_type": "markdown",
      "metadata": {
        "id": "HpC4mJyDcLNo"
      },
      "source": [
        "## normalisasi kata slang"
      ]
    },
    {
      "cell_type": "code",
      "execution_count": 20,
      "metadata": {
        "colab": {
          "base_uri": "https://localhost:8080/"
        },
        "id": "3GTurr6RcYiW",
        "outputId": "e5be75fa-2f71-44cf-91ca-b6f5d6f5a9d5",
        "tags": []
      },
      "outputs": [
        {
          "output_type": "stream",
          "name": "stderr",
          "text": [
            "[nltk_data] Downloading package punkt to /root/nltk_data...\n",
            "[nltk_data]   Unzipping tokenizers/punkt.zip.\n"
          ]
        }
      ],
      "source": [
        "# token\n",
        "import nltk\n",
        "nltk.download('punkt')\n",
        "from nltk.tokenize import word_tokenize"
      ]
    },
    {
      "cell_type": "code",
      "execution_count": 21,
      "metadata": {
        "id": "qMe9R6gLcaQ-",
        "tags": []
      },
      "outputs": [],
      "source": [
        "def word_tokenize_wrapper(text):\n",
        "  return word_tokenize(text)"
      ]
    },
    {
      "cell_type": "code",
      "execution_count": 22,
      "metadata": {
        "id": "jMoHPkw7cdMq",
        "tags": []
      },
      "outputs": [],
      "source": [
        "df_new['tokens'] = df['step01'].apply(word_tokenize_wrapper)"
      ]
    },
    {
      "cell_type": "code",
      "execution_count": 23,
      "metadata": {
        "colab": {
          "base_uri": "https://localhost:8080/",
          "height": 536
        },
        "id": "xebbaeOVcfGT",
        "outputId": "731b8222-13d4-47a2-b00b-067f9fd103bc",
        "tags": []
      },
      "outputs": [
        {
          "output_type": "execute_result",
          "data": {
            "text/plain": [
              "                                               Tweet  Sentimen  \\\n",
              "0  emang lemes bgt ya mulut lu, gue yg mau beli-b...      -1.0   \n",
              "1  Cegah mata rantai Covid-19,mari kita dirumah s...       1.0   \n",
              "2  aku mohon yaAllah semoga wabah covid-19 menghi...       1.0   \n",
              "3  Pemprov Papua Naikkan Status Jadi Tanggap Daru...       1.0   \n",
              "4            Covid belum nyampe prigen mbak hmm hoax       0.0   \n",
              "5  Nyuruh orang pintar, lu aja Togog. Itu kerumun...      -1.0   \n",
              "6  Pikir2 balik byk mnde plk nk setelkn lepas covid.       0.0   \n",
              "7  Selamat pagi, hari jum'at. Jum'at keempat di k...       1.0   \n",
              "8  Hikmah di balik musibah covid-19, smg para pej...       1.0   \n",
              "9  Cegah covid-19 beserta jajaran Polsek Kuranji ...       1.0   \n",
              "\n",
              "                                              step01  \\\n",
              "0  emang lemes bgt ya mulut lu gue yg mau beli be...   \n",
              "1  cegah mata rantai covid number mari kita dirum...   \n",
              "2  aku mohon yaallah semoga wabah covid number me...   \n",
              "3  pemprov papua naikkan status jadi tanggap daru...   \n",
              "4            covid belum nyampe prigen mbak hmm hoax   \n",
              "5  nyuruh orang pintar lu aja togog itu kerumunan...   \n",
              "6   pikir2 balik byk mnde plk nk setelkn lepas covid   \n",
              "7  selamat pagi hari jum at jum at keempat di kal...   \n",
              "8  hikmah di balik musibah covid number smg para ...   \n",
              "9  cegah covid number beserta jajaran polsek kura...   \n",
              "\n",
              "                                              tokens  \n",
              "0  [emang, lemes, bgt, ya, mulut, lu, gue, yg, ma...  \n",
              "1  [cegah, mata, rantai, covid, number, mari, kit...  \n",
              "2  [aku, mohon, yaallah, semoga, wabah, covid, nu...  \n",
              "3  [pemprov, papua, naikkan, status, jadi, tangga...  \n",
              "4    [covid, belum, nyampe, prigen, mbak, hmm, hoax]  \n",
              "5  [nyuruh, orang, pintar, lu, aja, togog, itu, k...  \n",
              "6  [pikir2, balik, byk, mnde, plk, nk, setelkn, l...  \n",
              "7  [selamat, pagi, hari, jum, at, jum, at, keempa...  \n",
              "8  [hikmah, di, balik, musibah, covid, number, sm...  \n",
              "9  [cegah, covid, number, beserta, jajaran, polse...  "
            ],
            "text/html": [
              "\n",
              "  <div id=\"df-b9781ff0-1a11-4b64-a8fe-ae9381abc062\" class=\"colab-df-container\">\n",
              "    <div>\n",
              "<style scoped>\n",
              "    .dataframe tbody tr th:only-of-type {\n",
              "        vertical-align: middle;\n",
              "    }\n",
              "\n",
              "    .dataframe tbody tr th {\n",
              "        vertical-align: top;\n",
              "    }\n",
              "\n",
              "    .dataframe thead th {\n",
              "        text-align: right;\n",
              "    }\n",
              "</style>\n",
              "<table border=\"1\" class=\"dataframe\">\n",
              "  <thead>\n",
              "    <tr style=\"text-align: right;\">\n",
              "      <th></th>\n",
              "      <th>Tweet</th>\n",
              "      <th>Sentimen</th>\n",
              "      <th>step01</th>\n",
              "      <th>tokens</th>\n",
              "    </tr>\n",
              "  </thead>\n",
              "  <tbody>\n",
              "    <tr>\n",
              "      <th>0</th>\n",
              "      <td>emang lemes bgt ya mulut lu, gue yg mau beli-b...</td>\n",
              "      <td>-1.0</td>\n",
              "      <td>emang lemes bgt ya mulut lu gue yg mau beli be...</td>\n",
              "      <td>[emang, lemes, bgt, ya, mulut, lu, gue, yg, ma...</td>\n",
              "    </tr>\n",
              "    <tr>\n",
              "      <th>1</th>\n",
              "      <td>Cegah mata rantai Covid-19,mari kita dirumah s...</td>\n",
              "      <td>1.0</td>\n",
              "      <td>cegah mata rantai covid number mari kita dirum...</td>\n",
              "      <td>[cegah, mata, rantai, covid, number, mari, kit...</td>\n",
              "    </tr>\n",
              "    <tr>\n",
              "      <th>2</th>\n",
              "      <td>aku mohon yaAllah semoga wabah covid-19 menghi...</td>\n",
              "      <td>1.0</td>\n",
              "      <td>aku mohon yaallah semoga wabah covid number me...</td>\n",
              "      <td>[aku, mohon, yaallah, semoga, wabah, covid, nu...</td>\n",
              "    </tr>\n",
              "    <tr>\n",
              "      <th>3</th>\n",
              "      <td>Pemprov Papua Naikkan Status Jadi Tanggap Daru...</td>\n",
              "      <td>1.0</td>\n",
              "      <td>pemprov papua naikkan status jadi tanggap daru...</td>\n",
              "      <td>[pemprov, papua, naikkan, status, jadi, tangga...</td>\n",
              "    </tr>\n",
              "    <tr>\n",
              "      <th>4</th>\n",
              "      <td>Covid belum nyampe prigen mbak hmm hoax</td>\n",
              "      <td>0.0</td>\n",
              "      <td>covid belum nyampe prigen mbak hmm hoax</td>\n",
              "      <td>[covid, belum, nyampe, prigen, mbak, hmm, hoax]</td>\n",
              "    </tr>\n",
              "    <tr>\n",
              "      <th>5</th>\n",
              "      <td>Nyuruh orang pintar, lu aja Togog. Itu kerumun...</td>\n",
              "      <td>-1.0</td>\n",
              "      <td>nyuruh orang pintar lu aja togog itu kerumunan...</td>\n",
              "      <td>[nyuruh, orang, pintar, lu, aja, togog, itu, k...</td>\n",
              "    </tr>\n",
              "    <tr>\n",
              "      <th>6</th>\n",
              "      <td>Pikir2 balik byk mnde plk nk setelkn lepas covid.</td>\n",
              "      <td>0.0</td>\n",
              "      <td>pikir2 balik byk mnde plk nk setelkn lepas covid</td>\n",
              "      <td>[pikir2, balik, byk, mnde, plk, nk, setelkn, l...</td>\n",
              "    </tr>\n",
              "    <tr>\n",
              "      <th>7</th>\n",
              "      <td>Selamat pagi, hari jum'at. Jum'at keempat di k...</td>\n",
              "      <td>1.0</td>\n",
              "      <td>selamat pagi hari jum at jum at keempat di kal...</td>\n",
              "      <td>[selamat, pagi, hari, jum, at, jum, at, keempa...</td>\n",
              "    </tr>\n",
              "    <tr>\n",
              "      <th>8</th>\n",
              "      <td>Hikmah di balik musibah covid-19, smg para pej...</td>\n",
              "      <td>1.0</td>\n",
              "      <td>hikmah di balik musibah covid number smg para ...</td>\n",
              "      <td>[hikmah, di, balik, musibah, covid, number, sm...</td>\n",
              "    </tr>\n",
              "    <tr>\n",
              "      <th>9</th>\n",
              "      <td>Cegah covid-19 beserta jajaran Polsek Kuranji ...</td>\n",
              "      <td>1.0</td>\n",
              "      <td>cegah covid number beserta jajaran polsek kura...</td>\n",
              "      <td>[cegah, covid, number, beserta, jajaran, polse...</td>\n",
              "    </tr>\n",
              "  </tbody>\n",
              "</table>\n",
              "</div>\n",
              "    <div class=\"colab-df-buttons\">\n",
              "\n",
              "  <div class=\"colab-df-container\">\n",
              "    <button class=\"colab-df-convert\" onclick=\"convertToInteractive('df-b9781ff0-1a11-4b64-a8fe-ae9381abc062')\"\n",
              "            title=\"Convert this dataframe to an interactive table.\"\n",
              "            style=\"display:none;\">\n",
              "\n",
              "  <svg xmlns=\"http://www.w3.org/2000/svg\" height=\"24px\" viewBox=\"0 -960 960 960\">\n",
              "    <path d=\"M120-120v-720h720v720H120Zm60-500h600v-160H180v160Zm220 220h160v-160H400v160Zm0 220h160v-160H400v160ZM180-400h160v-160H180v160Zm440 0h160v-160H620v160ZM180-180h160v-160H180v160Zm440 0h160v-160H620v160Z\"/>\n",
              "  </svg>\n",
              "    </button>\n",
              "\n",
              "  <style>\n",
              "    .colab-df-container {\n",
              "      display:flex;\n",
              "      gap: 12px;\n",
              "    }\n",
              "\n",
              "    .colab-df-convert {\n",
              "      background-color: #E8F0FE;\n",
              "      border: none;\n",
              "      border-radius: 50%;\n",
              "      cursor: pointer;\n",
              "      display: none;\n",
              "      fill: #1967D2;\n",
              "      height: 32px;\n",
              "      padding: 0 0 0 0;\n",
              "      width: 32px;\n",
              "    }\n",
              "\n",
              "    .colab-df-convert:hover {\n",
              "      background-color: #E2EBFA;\n",
              "      box-shadow: 0px 1px 2px rgba(60, 64, 67, 0.3), 0px 1px 3px 1px rgba(60, 64, 67, 0.15);\n",
              "      fill: #174EA6;\n",
              "    }\n",
              "\n",
              "    .colab-df-buttons div {\n",
              "      margin-bottom: 4px;\n",
              "    }\n",
              "\n",
              "    [theme=dark] .colab-df-convert {\n",
              "      background-color: #3B4455;\n",
              "      fill: #D2E3FC;\n",
              "    }\n",
              "\n",
              "    [theme=dark] .colab-df-convert:hover {\n",
              "      background-color: #434B5C;\n",
              "      box-shadow: 0px 1px 3px 1px rgba(0, 0, 0, 0.15);\n",
              "      filter: drop-shadow(0px 1px 2px rgba(0, 0, 0, 0.3));\n",
              "      fill: #FFFFFF;\n",
              "    }\n",
              "  </style>\n",
              "\n",
              "    <script>\n",
              "      const buttonEl =\n",
              "        document.querySelector('#df-b9781ff0-1a11-4b64-a8fe-ae9381abc062 button.colab-df-convert');\n",
              "      buttonEl.style.display =\n",
              "        google.colab.kernel.accessAllowed ? 'block' : 'none';\n",
              "\n",
              "      async function convertToInteractive(key) {\n",
              "        const element = document.querySelector('#df-b9781ff0-1a11-4b64-a8fe-ae9381abc062');\n",
              "        const dataTable =\n",
              "          await google.colab.kernel.invokeFunction('convertToInteractive',\n",
              "                                                    [key], {});\n",
              "        if (!dataTable) return;\n",
              "\n",
              "        const docLinkHtml = 'Like what you see? Visit the ' +\n",
              "          '<a target=\"_blank\" href=https://colab.research.google.com/notebooks/data_table.ipynb>data table notebook</a>'\n",
              "          + ' to learn more about interactive tables.';\n",
              "        element.innerHTML = '';\n",
              "        dataTable['output_type'] = 'display_data';\n",
              "        await google.colab.output.renderOutput(dataTable, element);\n",
              "        const docLink = document.createElement('div');\n",
              "        docLink.innerHTML = docLinkHtml;\n",
              "        element.appendChild(docLink);\n",
              "      }\n",
              "    </script>\n",
              "  </div>\n",
              "\n",
              "\n",
              "<div id=\"df-d8bd69d3-be9d-41de-8ad6-766c5ccadc89\">\n",
              "  <button class=\"colab-df-quickchart\" onclick=\"quickchart('df-d8bd69d3-be9d-41de-8ad6-766c5ccadc89')\"\n",
              "            title=\"Suggest charts\"\n",
              "            style=\"display:none;\">\n",
              "\n",
              "<svg xmlns=\"http://www.w3.org/2000/svg\" height=\"24px\"viewBox=\"0 0 24 24\"\n",
              "     width=\"24px\">\n",
              "    <g>\n",
              "        <path d=\"M19 3H5c-1.1 0-2 .9-2 2v14c0 1.1.9 2 2 2h14c1.1 0 2-.9 2-2V5c0-1.1-.9-2-2-2zM9 17H7v-7h2v7zm4 0h-2V7h2v10zm4 0h-2v-4h2v4z\"/>\n",
              "    </g>\n",
              "</svg>\n",
              "  </button>\n",
              "\n",
              "<style>\n",
              "  .colab-df-quickchart {\n",
              "      --bg-color: #E8F0FE;\n",
              "      --fill-color: #1967D2;\n",
              "      --hover-bg-color: #E2EBFA;\n",
              "      --hover-fill-color: #174EA6;\n",
              "      --disabled-fill-color: #AAA;\n",
              "      --disabled-bg-color: #DDD;\n",
              "  }\n",
              "\n",
              "  [theme=dark] .colab-df-quickchart {\n",
              "      --bg-color: #3B4455;\n",
              "      --fill-color: #D2E3FC;\n",
              "      --hover-bg-color: #434B5C;\n",
              "      --hover-fill-color: #FFFFFF;\n",
              "      --disabled-bg-color: #3B4455;\n",
              "      --disabled-fill-color: #666;\n",
              "  }\n",
              "\n",
              "  .colab-df-quickchart {\n",
              "    background-color: var(--bg-color);\n",
              "    border: none;\n",
              "    border-radius: 50%;\n",
              "    cursor: pointer;\n",
              "    display: none;\n",
              "    fill: var(--fill-color);\n",
              "    height: 32px;\n",
              "    padding: 0;\n",
              "    width: 32px;\n",
              "  }\n",
              "\n",
              "  .colab-df-quickchart:hover {\n",
              "    background-color: var(--hover-bg-color);\n",
              "    box-shadow: 0 1px 2px rgba(60, 64, 67, 0.3), 0 1px 3px 1px rgba(60, 64, 67, 0.15);\n",
              "    fill: var(--button-hover-fill-color);\n",
              "  }\n",
              "\n",
              "  .colab-df-quickchart-complete:disabled,\n",
              "  .colab-df-quickchart-complete:disabled:hover {\n",
              "    background-color: var(--disabled-bg-color);\n",
              "    fill: var(--disabled-fill-color);\n",
              "    box-shadow: none;\n",
              "  }\n",
              "\n",
              "  .colab-df-spinner {\n",
              "    border: 2px solid var(--fill-color);\n",
              "    border-color: transparent;\n",
              "    border-bottom-color: var(--fill-color);\n",
              "    animation:\n",
              "      spin 1s steps(1) infinite;\n",
              "  }\n",
              "\n",
              "  @keyframes spin {\n",
              "    0% {\n",
              "      border-color: transparent;\n",
              "      border-bottom-color: var(--fill-color);\n",
              "      border-left-color: var(--fill-color);\n",
              "    }\n",
              "    20% {\n",
              "      border-color: transparent;\n",
              "      border-left-color: var(--fill-color);\n",
              "      border-top-color: var(--fill-color);\n",
              "    }\n",
              "    30% {\n",
              "      border-color: transparent;\n",
              "      border-left-color: var(--fill-color);\n",
              "      border-top-color: var(--fill-color);\n",
              "      border-right-color: var(--fill-color);\n",
              "    }\n",
              "    40% {\n",
              "      border-color: transparent;\n",
              "      border-right-color: var(--fill-color);\n",
              "      border-top-color: var(--fill-color);\n",
              "    }\n",
              "    60% {\n",
              "      border-color: transparent;\n",
              "      border-right-color: var(--fill-color);\n",
              "    }\n",
              "    80% {\n",
              "      border-color: transparent;\n",
              "      border-right-color: var(--fill-color);\n",
              "      border-bottom-color: var(--fill-color);\n",
              "    }\n",
              "    90% {\n",
              "      border-color: transparent;\n",
              "      border-bottom-color: var(--fill-color);\n",
              "    }\n",
              "  }\n",
              "</style>\n",
              "\n",
              "  <script>\n",
              "    async function quickchart(key) {\n",
              "      const quickchartButtonEl =\n",
              "        document.querySelector('#' + key + ' button');\n",
              "      quickchartButtonEl.disabled = true;  // To prevent multiple clicks.\n",
              "      quickchartButtonEl.classList.add('colab-df-spinner');\n",
              "      try {\n",
              "        const charts = await google.colab.kernel.invokeFunction(\n",
              "            'suggestCharts', [key], {});\n",
              "      } catch (error) {\n",
              "        console.error('Error during call to suggestCharts:', error);\n",
              "      }\n",
              "      quickchartButtonEl.classList.remove('colab-df-spinner');\n",
              "      quickchartButtonEl.classList.add('colab-df-quickchart-complete');\n",
              "    }\n",
              "    (() => {\n",
              "      let quickchartButtonEl =\n",
              "        document.querySelector('#df-d8bd69d3-be9d-41de-8ad6-766c5ccadc89 button');\n",
              "      quickchartButtonEl.style.display =\n",
              "        google.colab.kernel.accessAllowed ? 'block' : 'none';\n",
              "    })();\n",
              "  </script>\n",
              "</div>\n",
              "    </div>\n",
              "  </div>\n"
            ]
          },
          "metadata": {},
          "execution_count": 23
        }
      ],
      "source": [
        "df_new.head(10)"
      ]
    },
    {
      "cell_type": "code",
      "execution_count": 26,
      "metadata": {
        "id": "eFYvCzaLcD2k",
        "tags": []
      },
      "outputs": [],
      "source": [
        "normalized_word = pd.read_excel(\"kamus perbaikan kata.xlsx\")\n",
        "\n",
        "normalized_word_dict = {}\n",
        "\n",
        "for index, row in normalized_word.iterrows():\n",
        "    if row[0] not in normalized_word_dict:\n",
        "        normalized_word_dict[row[0]] = row[1]\n",
        "\n",
        "def normalized_term(document):\n",
        "    return [normalized_word_dict[term] if term in normalized_word_dict else term for term in document]\n",
        "\n",
        "df_new['tokens_perbaikan'] = df_new['tokens'].apply(normalized_term)"
      ]
    },
    {
      "cell_type": "code",
      "execution_count": 27,
      "metadata": {
        "colab": {
          "base_uri": "https://localhost:8080/",
          "height": 379
        },
        "id": "nAmSDdMfdIVR",
        "outputId": "66391360-e14c-431c-d1a9-0695c81197bb",
        "tags": []
      },
      "outputs": [
        {
          "output_type": "execute_result",
          "data": {
            "text/plain": [
              "                                               Tweet  Sentimen  \\\n",
              "0  emang lemes bgt ya mulut lu, gue yg mau beli-b...      -1.0   \n",
              "1  Cegah mata rantai Covid-19,mari kita dirumah s...       1.0   \n",
              "2  aku mohon yaAllah semoga wabah covid-19 menghi...       1.0   \n",
              "3  Pemprov Papua Naikkan Status Jadi Tanggap Daru...       1.0   \n",
              "4            Covid belum nyampe prigen mbak hmm hoax       0.0   \n",
              "\n",
              "                                              step01  \\\n",
              "0  emang lemes bgt ya mulut lu gue yg mau beli be...   \n",
              "1  cegah mata rantai covid number mari kita dirum...   \n",
              "2  aku mohon yaallah semoga wabah covid number me...   \n",
              "3  pemprov papua naikkan status jadi tanggap daru...   \n",
              "4            covid belum nyampe prigen mbak hmm hoax   \n",
              "\n",
              "                                              tokens  \\\n",
              "0  [emang, lemes, bgt, ya, mulut, lu, gue, yg, ma...   \n",
              "1  [cegah, mata, rantai, covid, number, mari, kit...   \n",
              "2  [aku, mohon, yaallah, semoga, wabah, covid, nu...   \n",
              "3  [pemprov, papua, naikkan, status, jadi, tangga...   \n",
              "4    [covid, belum, nyampe, prigen, mbak, hmm, hoax]   \n",
              "\n",
              "                                    tokens_perbaikan  \n",
              "0  [memang, lemes, banget, iya, mulut, kamu, saya...  \n",
              "1  [cegah, mata, rantai, covid, number, mari, kit...  \n",
              "2  [aku, mohon, yaallah, semoga, wabah, covid, nu...  \n",
              "3  [pemprov, papua, naikkan, status, jadi, tangga...  \n",
              "4  [covid, belum, nyampe, prigen, mbak, aduh, boh...  "
            ],
            "text/html": [
              "\n",
              "  <div id=\"df-eb186443-9ea4-4369-8fc0-293ff4895c1f\" class=\"colab-df-container\">\n",
              "    <div>\n",
              "<style scoped>\n",
              "    .dataframe tbody tr th:only-of-type {\n",
              "        vertical-align: middle;\n",
              "    }\n",
              "\n",
              "    .dataframe tbody tr th {\n",
              "        vertical-align: top;\n",
              "    }\n",
              "\n",
              "    .dataframe thead th {\n",
              "        text-align: right;\n",
              "    }\n",
              "</style>\n",
              "<table border=\"1\" class=\"dataframe\">\n",
              "  <thead>\n",
              "    <tr style=\"text-align: right;\">\n",
              "      <th></th>\n",
              "      <th>Tweet</th>\n",
              "      <th>Sentimen</th>\n",
              "      <th>step01</th>\n",
              "      <th>tokens</th>\n",
              "      <th>tokens_perbaikan</th>\n",
              "    </tr>\n",
              "  </thead>\n",
              "  <tbody>\n",
              "    <tr>\n",
              "      <th>0</th>\n",
              "      <td>emang lemes bgt ya mulut lu, gue yg mau beli-b...</td>\n",
              "      <td>-1.0</td>\n",
              "      <td>emang lemes bgt ya mulut lu gue yg mau beli be...</td>\n",
              "      <td>[emang, lemes, bgt, ya, mulut, lu, gue, yg, ma...</td>\n",
              "      <td>[memang, lemes, banget, iya, mulut, kamu, saya...</td>\n",
              "    </tr>\n",
              "    <tr>\n",
              "      <th>1</th>\n",
              "      <td>Cegah mata rantai Covid-19,mari kita dirumah s...</td>\n",
              "      <td>1.0</td>\n",
              "      <td>cegah mata rantai covid number mari kita dirum...</td>\n",
              "      <td>[cegah, mata, rantai, covid, number, mari, kit...</td>\n",
              "      <td>[cegah, mata, rantai, covid, number, mari, kit...</td>\n",
              "    </tr>\n",
              "    <tr>\n",
              "      <th>2</th>\n",
              "      <td>aku mohon yaAllah semoga wabah covid-19 menghi...</td>\n",
              "      <td>1.0</td>\n",
              "      <td>aku mohon yaallah semoga wabah covid number me...</td>\n",
              "      <td>[aku, mohon, yaallah, semoga, wabah, covid, nu...</td>\n",
              "      <td>[aku, mohon, yaallah, semoga, wabah, covid, nu...</td>\n",
              "    </tr>\n",
              "    <tr>\n",
              "      <th>3</th>\n",
              "      <td>Pemprov Papua Naikkan Status Jadi Tanggap Daru...</td>\n",
              "      <td>1.0</td>\n",
              "      <td>pemprov papua naikkan status jadi tanggap daru...</td>\n",
              "      <td>[pemprov, papua, naikkan, status, jadi, tangga...</td>\n",
              "      <td>[pemprov, papua, naikkan, status, jadi, tangga...</td>\n",
              "    </tr>\n",
              "    <tr>\n",
              "      <th>4</th>\n",
              "      <td>Covid belum nyampe prigen mbak hmm hoax</td>\n",
              "      <td>0.0</td>\n",
              "      <td>covid belum nyampe prigen mbak hmm hoax</td>\n",
              "      <td>[covid, belum, nyampe, prigen, mbak, hmm, hoax]</td>\n",
              "      <td>[covid, belum, nyampe, prigen, mbak, aduh, boh...</td>\n",
              "    </tr>\n",
              "  </tbody>\n",
              "</table>\n",
              "</div>\n",
              "    <div class=\"colab-df-buttons\">\n",
              "\n",
              "  <div class=\"colab-df-container\">\n",
              "    <button class=\"colab-df-convert\" onclick=\"convertToInteractive('df-eb186443-9ea4-4369-8fc0-293ff4895c1f')\"\n",
              "            title=\"Convert this dataframe to an interactive table.\"\n",
              "            style=\"display:none;\">\n",
              "\n",
              "  <svg xmlns=\"http://www.w3.org/2000/svg\" height=\"24px\" viewBox=\"0 -960 960 960\">\n",
              "    <path d=\"M120-120v-720h720v720H120Zm60-500h600v-160H180v160Zm220 220h160v-160H400v160Zm0 220h160v-160H400v160ZM180-400h160v-160H180v160Zm440 0h160v-160H620v160ZM180-180h160v-160H180v160Zm440 0h160v-160H620v160Z\"/>\n",
              "  </svg>\n",
              "    </button>\n",
              "\n",
              "  <style>\n",
              "    .colab-df-container {\n",
              "      display:flex;\n",
              "      gap: 12px;\n",
              "    }\n",
              "\n",
              "    .colab-df-convert {\n",
              "      background-color: #E8F0FE;\n",
              "      border: none;\n",
              "      border-radius: 50%;\n",
              "      cursor: pointer;\n",
              "      display: none;\n",
              "      fill: #1967D2;\n",
              "      height: 32px;\n",
              "      padding: 0 0 0 0;\n",
              "      width: 32px;\n",
              "    }\n",
              "\n",
              "    .colab-df-convert:hover {\n",
              "      background-color: #E2EBFA;\n",
              "      box-shadow: 0px 1px 2px rgba(60, 64, 67, 0.3), 0px 1px 3px 1px rgba(60, 64, 67, 0.15);\n",
              "      fill: #174EA6;\n",
              "    }\n",
              "\n",
              "    .colab-df-buttons div {\n",
              "      margin-bottom: 4px;\n",
              "    }\n",
              "\n",
              "    [theme=dark] .colab-df-convert {\n",
              "      background-color: #3B4455;\n",
              "      fill: #D2E3FC;\n",
              "    }\n",
              "\n",
              "    [theme=dark] .colab-df-convert:hover {\n",
              "      background-color: #434B5C;\n",
              "      box-shadow: 0px 1px 3px 1px rgba(0, 0, 0, 0.15);\n",
              "      filter: drop-shadow(0px 1px 2px rgba(0, 0, 0, 0.3));\n",
              "      fill: #FFFFFF;\n",
              "    }\n",
              "  </style>\n",
              "\n",
              "    <script>\n",
              "      const buttonEl =\n",
              "        document.querySelector('#df-eb186443-9ea4-4369-8fc0-293ff4895c1f button.colab-df-convert');\n",
              "      buttonEl.style.display =\n",
              "        google.colab.kernel.accessAllowed ? 'block' : 'none';\n",
              "\n",
              "      async function convertToInteractive(key) {\n",
              "        const element = document.querySelector('#df-eb186443-9ea4-4369-8fc0-293ff4895c1f');\n",
              "        const dataTable =\n",
              "          await google.colab.kernel.invokeFunction('convertToInteractive',\n",
              "                                                    [key], {});\n",
              "        if (!dataTable) return;\n",
              "\n",
              "        const docLinkHtml = 'Like what you see? Visit the ' +\n",
              "          '<a target=\"_blank\" href=https://colab.research.google.com/notebooks/data_table.ipynb>data table notebook</a>'\n",
              "          + ' to learn more about interactive tables.';\n",
              "        element.innerHTML = '';\n",
              "        dataTable['output_type'] = 'display_data';\n",
              "        await google.colab.output.renderOutput(dataTable, element);\n",
              "        const docLink = document.createElement('div');\n",
              "        docLink.innerHTML = docLinkHtml;\n",
              "        element.appendChild(docLink);\n",
              "      }\n",
              "    </script>\n",
              "  </div>\n",
              "\n",
              "\n",
              "<div id=\"df-7c95c3f6-4052-49cc-a3dd-8dd77a97f51f\">\n",
              "  <button class=\"colab-df-quickchart\" onclick=\"quickchart('df-7c95c3f6-4052-49cc-a3dd-8dd77a97f51f')\"\n",
              "            title=\"Suggest charts\"\n",
              "            style=\"display:none;\">\n",
              "\n",
              "<svg xmlns=\"http://www.w3.org/2000/svg\" height=\"24px\"viewBox=\"0 0 24 24\"\n",
              "     width=\"24px\">\n",
              "    <g>\n",
              "        <path d=\"M19 3H5c-1.1 0-2 .9-2 2v14c0 1.1.9 2 2 2h14c1.1 0 2-.9 2-2V5c0-1.1-.9-2-2-2zM9 17H7v-7h2v7zm4 0h-2V7h2v10zm4 0h-2v-4h2v4z\"/>\n",
              "    </g>\n",
              "</svg>\n",
              "  </button>\n",
              "\n",
              "<style>\n",
              "  .colab-df-quickchart {\n",
              "      --bg-color: #E8F0FE;\n",
              "      --fill-color: #1967D2;\n",
              "      --hover-bg-color: #E2EBFA;\n",
              "      --hover-fill-color: #174EA6;\n",
              "      --disabled-fill-color: #AAA;\n",
              "      --disabled-bg-color: #DDD;\n",
              "  }\n",
              "\n",
              "  [theme=dark] .colab-df-quickchart {\n",
              "      --bg-color: #3B4455;\n",
              "      --fill-color: #D2E3FC;\n",
              "      --hover-bg-color: #434B5C;\n",
              "      --hover-fill-color: #FFFFFF;\n",
              "      --disabled-bg-color: #3B4455;\n",
              "      --disabled-fill-color: #666;\n",
              "  }\n",
              "\n",
              "  .colab-df-quickchart {\n",
              "    background-color: var(--bg-color);\n",
              "    border: none;\n",
              "    border-radius: 50%;\n",
              "    cursor: pointer;\n",
              "    display: none;\n",
              "    fill: var(--fill-color);\n",
              "    height: 32px;\n",
              "    padding: 0;\n",
              "    width: 32px;\n",
              "  }\n",
              "\n",
              "  .colab-df-quickchart:hover {\n",
              "    background-color: var(--hover-bg-color);\n",
              "    box-shadow: 0 1px 2px rgba(60, 64, 67, 0.3), 0 1px 3px 1px rgba(60, 64, 67, 0.15);\n",
              "    fill: var(--button-hover-fill-color);\n",
              "  }\n",
              "\n",
              "  .colab-df-quickchart-complete:disabled,\n",
              "  .colab-df-quickchart-complete:disabled:hover {\n",
              "    background-color: var(--disabled-bg-color);\n",
              "    fill: var(--disabled-fill-color);\n",
              "    box-shadow: none;\n",
              "  }\n",
              "\n",
              "  .colab-df-spinner {\n",
              "    border: 2px solid var(--fill-color);\n",
              "    border-color: transparent;\n",
              "    border-bottom-color: var(--fill-color);\n",
              "    animation:\n",
              "      spin 1s steps(1) infinite;\n",
              "  }\n",
              "\n",
              "  @keyframes spin {\n",
              "    0% {\n",
              "      border-color: transparent;\n",
              "      border-bottom-color: var(--fill-color);\n",
              "      border-left-color: var(--fill-color);\n",
              "    }\n",
              "    20% {\n",
              "      border-color: transparent;\n",
              "      border-left-color: var(--fill-color);\n",
              "      border-top-color: var(--fill-color);\n",
              "    }\n",
              "    30% {\n",
              "      border-color: transparent;\n",
              "      border-left-color: var(--fill-color);\n",
              "      border-top-color: var(--fill-color);\n",
              "      border-right-color: var(--fill-color);\n",
              "    }\n",
              "    40% {\n",
              "      border-color: transparent;\n",
              "      border-right-color: var(--fill-color);\n",
              "      border-top-color: var(--fill-color);\n",
              "    }\n",
              "    60% {\n",
              "      border-color: transparent;\n",
              "      border-right-color: var(--fill-color);\n",
              "    }\n",
              "    80% {\n",
              "      border-color: transparent;\n",
              "      border-right-color: var(--fill-color);\n",
              "      border-bottom-color: var(--fill-color);\n",
              "    }\n",
              "    90% {\n",
              "      border-color: transparent;\n",
              "      border-bottom-color: var(--fill-color);\n",
              "    }\n",
              "  }\n",
              "</style>\n",
              "\n",
              "  <script>\n",
              "    async function quickchart(key) {\n",
              "      const quickchartButtonEl =\n",
              "        document.querySelector('#' + key + ' button');\n",
              "      quickchartButtonEl.disabled = true;  // To prevent multiple clicks.\n",
              "      quickchartButtonEl.classList.add('colab-df-spinner');\n",
              "      try {\n",
              "        const charts = await google.colab.kernel.invokeFunction(\n",
              "            'suggestCharts', [key], {});\n",
              "      } catch (error) {\n",
              "        console.error('Error during call to suggestCharts:', error);\n",
              "      }\n",
              "      quickchartButtonEl.classList.remove('colab-df-spinner');\n",
              "      quickchartButtonEl.classList.add('colab-df-quickchart-complete');\n",
              "    }\n",
              "    (() => {\n",
              "      let quickchartButtonEl =\n",
              "        document.querySelector('#df-7c95c3f6-4052-49cc-a3dd-8dd77a97f51f button');\n",
              "      quickchartButtonEl.style.display =\n",
              "        google.colab.kernel.accessAllowed ? 'block' : 'none';\n",
              "    })();\n",
              "  </script>\n",
              "</div>\n",
              "    </div>\n",
              "  </div>\n"
            ]
          },
          "metadata": {},
          "execution_count": 27
        }
      ],
      "source": [
        "df_new.head()"
      ]
    },
    {
      "cell_type": "code",
      "execution_count": 28,
      "metadata": {
        "colab": {
          "base_uri": "https://localhost:8080/"
        },
        "id": "mDa2wUiPwkgp",
        "outputId": "b48fcf61-7c70-4d12-b707-89dbf232e56d",
        "tags": []
      },
      "outputs": [
        {
          "output_type": "execute_result",
          "data": {
            "text/plain": [
              "['emang',\n",
              " 'lemes',\n",
              " 'bgt',\n",
              " 'ya',\n",
              " 'mulut',\n",
              " 'lu',\n",
              " 'gue',\n",
              " 'yg',\n",
              " 'mau',\n",
              " 'beli',\n",
              " 'beli',\n",
              " 'obat',\n",
              " 'aja',\n",
              " 'mikirr',\n",
              " 'drmn',\n",
              " 'bisa',\n",
              " 'beli',\n",
              " 'obat',\n",
              " 'kalo',\n",
              " 'ga',\n",
              " 'kerja',\n",
              " 'devil']"
            ]
          },
          "metadata": {},
          "execution_count": 28
        }
      ],
      "source": [
        "df_new.iloc[0].tokens"
      ]
    },
    {
      "cell_type": "code",
      "execution_count": 29,
      "metadata": {
        "colab": {
          "base_uri": "https://localhost:8080/"
        },
        "id": "z1ock8LEwKeL",
        "outputId": "b547543c-f5dc-472b-dd7b-a867b6b827c6",
        "tags": []
      },
      "outputs": [
        {
          "output_type": "execute_result",
          "data": {
            "text/plain": [
              "['memang',\n",
              " 'lemes',\n",
              " 'banget',\n",
              " 'iya',\n",
              " 'mulut',\n",
              " 'kamu',\n",
              " 'saya',\n",
              " 'yang',\n",
              " 'mau',\n",
              " 'beli',\n",
              " 'beli',\n",
              " 'obat',\n",
              " 'saja',\n",
              " 'mikirr',\n",
              " 'drmn',\n",
              " 'bisa',\n",
              " 'beli',\n",
              " 'obat',\n",
              " 'kalau',\n",
              " 'tidak',\n",
              " 'kerja',\n",
              " 'devil']"
            ]
          },
          "metadata": {},
          "execution_count": 29
        }
      ],
      "source": [
        "df_new.iloc[0].tokens_perbaikan"
      ]
    },
    {
      "cell_type": "markdown",
      "metadata": {
        "id": "oZAFzaeMGppU"
      },
      "source": [
        "## Stopword - Menggunakan Modul NLTK"
      ]
    },
    {
      "cell_type": "code",
      "execution_count": 30,
      "metadata": {
        "colab": {
          "base_uri": "https://localhost:8080/"
        },
        "id": "I5YUrQfjGtD0",
        "outputId": "042d479a-4ec9-4cc1-8a63-79c21d674839",
        "tags": []
      },
      "outputs": [
        {
          "output_type": "stream",
          "name": "stderr",
          "text": [
            "[nltk_data] Downloading package stopwords to /root/nltk_data...\n",
            "[nltk_data]   Unzipping corpora/stopwords.zip.\n"
          ]
        },
        {
          "output_type": "execute_result",
          "data": {
            "text/plain": [
              "True"
            ]
          },
          "metadata": {},
          "execution_count": 30
        }
      ],
      "source": [
        "from nltk.corpus import stopwords\n",
        "nltk.download(\"stopwords\")"
      ]
    },
    {
      "cell_type": "code",
      "execution_count": 31,
      "metadata": {
        "colab": {
          "base_uri": "https://localhost:8080/",
          "height": 857
        },
        "id": "AlpimHRsGs_v",
        "outputId": "de32a983-bcc3-437a-f254-f72493619251",
        "tags": []
      },
      "outputs": [
        {
          "output_type": "execute_result",
          "data": {
            "text/plain": [
              "                                                 Tweet  Sentimen  \\\n",
              "0    emang lemes bgt ya mulut lu, gue yg mau beli-b...      -1.0   \n",
              "1    Cegah mata rantai Covid-19,mari kita dirumah s...       1.0   \n",
              "2    aku mohon yaAllah semoga wabah covid-19 menghi...       1.0   \n",
              "3    Pemprov Papua Naikkan Status Jadi Tanggap Daru...       1.0   \n",
              "4              Covid belum nyampe prigen mbak hmm hoax       0.0   \n",
              "..                                                 ...       ...   \n",
              "900  Seluruh negara di dunia mengalami masa sulit k...       1.0   \n",
              "901  Setelah covid dan skripsi disaster selesai, ma...       1.0   \n",
              "902  Malam ini!! Projek \"BENDA BOLEH BINCANG\" 9 mal...       0.0   \n",
              "903                Pontang - panting di koyak covid 19      -1.0   \n",
              "904  Masalahnya sekarang isu jangkitan covid. Alaaa...      -1.0   \n",
              "\n",
              "                                                step01  \\\n",
              "0    emang lemes bgt ya mulut lu gue yg mau beli be...   \n",
              "1    cegah mata rantai covid number mari kita dirum...   \n",
              "2    aku mohon yaallah semoga wabah covid number me...   \n",
              "3    pemprov papua naikkan status jadi tanggap daru...   \n",
              "4              covid belum nyampe prigen mbak hmm hoax   \n",
              "..                                                 ...   \n",
              "900  seluruh negara di dunia mengalami masa sulit k...   \n",
              "901  setelah covid dan skripsi disaster selesai mau...   \n",
              "902  malam ini repeated projek allcaps benda boleh ...   \n",
              "903              pontang panting di koyak covid number   \n",
              "904  masalahnya sekarang isu jangkitan covid ala el...   \n",
              "\n",
              "                                                tokens  \\\n",
              "0    [emang, lemes, bgt, ya, mulut, lu, gue, yg, ma...   \n",
              "1    [cegah, mata, rantai, covid, number, mari, kit...   \n",
              "2    [aku, mohon, yaallah, semoga, wabah, covid, nu...   \n",
              "3    [pemprov, papua, naikkan, status, jadi, tangga...   \n",
              "4      [covid, belum, nyampe, prigen, mbak, hmm, hoax]   \n",
              "..                                                 ...   \n",
              "900  [seluruh, negara, di, dunia, mengalami, masa, ...   \n",
              "901  [setelah, covid, dan, skripsi, disaster, seles...   \n",
              "902  [malam, ini, repeated, projek, allcaps, benda,...   \n",
              "903       [pontang, panting, di, koyak, covid, number]   \n",
              "904  [masalahnya, sekarang, isu, jangkitan, covid, ...   \n",
              "\n",
              "                                      tokens_perbaikan  \\\n",
              "0    [memang, lemes, banget, iya, mulut, kamu, saya...   \n",
              "1    [cegah, mata, rantai, covid, number, mari, kit...   \n",
              "2    [aku, mohon, yaallah, semoga, wabah, covid, nu...   \n",
              "3    [pemprov, papua, naikkan, status, jadi, tangga...   \n",
              "4    [covid, belum, nyampe, prigen, mbak, aduh, boh...   \n",
              "..                                                 ...   \n",
              "900  [seluruh, negara, di, dunia, mengalami, masa, ...   \n",
              "901  [setelah, covid, dan, skripsi, disaster, seles...   \n",
              "902  [malam, ini, repeated, proyek, allcaps, benda,...   \n",
              "903       [pontang, panting, di, koyak, covid, number]   \n",
              "904  [masalahnya, sekarang, isu, jangkitan, covid, ...   \n",
              "\n",
              "                                          Stop_removal  \n",
              "0    [lemes, banget, iya, mulut, beli, beli, obat, ...  \n",
              "1    [cegah, mata, rantai, covid, number, mari, dir...  \n",
              "2    [mohon, yaallah, semoga, wabah, covid, number,...  \n",
              "3    [pemprov, papua, naikkan, status, tanggap, dar...  \n",
              "4          [covid, nyampe, prigen, mbak, aduh, bohong]  \n",
              "..                                                 ...  \n",
              "900  [negara, dunia, mengalami, sulit, covid, numbe...  \n",
              "901  [covid, skripsi, disaster, selesai, banget, be...  \n",
              "902  [malam, repeated, proyek, allcaps, benda, binc...  \n",
              "903           [pontang, panting, koyak, covid, number]  \n",
              "904  [isu, jangkitan, covid, ala, elongated, bosan,...  \n",
              "\n",
              "[903 rows x 6 columns]"
            ],
            "text/html": [
              "\n",
              "  <div id=\"df-bda9ecb9-f8d3-42d5-9477-b8f63252f31a\" class=\"colab-df-container\">\n",
              "    <div>\n",
              "<style scoped>\n",
              "    .dataframe tbody tr th:only-of-type {\n",
              "        vertical-align: middle;\n",
              "    }\n",
              "\n",
              "    .dataframe tbody tr th {\n",
              "        vertical-align: top;\n",
              "    }\n",
              "\n",
              "    .dataframe thead th {\n",
              "        text-align: right;\n",
              "    }\n",
              "</style>\n",
              "<table border=\"1\" class=\"dataframe\">\n",
              "  <thead>\n",
              "    <tr style=\"text-align: right;\">\n",
              "      <th></th>\n",
              "      <th>Tweet</th>\n",
              "      <th>Sentimen</th>\n",
              "      <th>step01</th>\n",
              "      <th>tokens</th>\n",
              "      <th>tokens_perbaikan</th>\n",
              "      <th>Stop_removal</th>\n",
              "    </tr>\n",
              "  </thead>\n",
              "  <tbody>\n",
              "    <tr>\n",
              "      <th>0</th>\n",
              "      <td>emang lemes bgt ya mulut lu, gue yg mau beli-b...</td>\n",
              "      <td>-1.0</td>\n",
              "      <td>emang lemes bgt ya mulut lu gue yg mau beli be...</td>\n",
              "      <td>[emang, lemes, bgt, ya, mulut, lu, gue, yg, ma...</td>\n",
              "      <td>[memang, lemes, banget, iya, mulut, kamu, saya...</td>\n",
              "      <td>[lemes, banget, iya, mulut, beli, beli, obat, ...</td>\n",
              "    </tr>\n",
              "    <tr>\n",
              "      <th>1</th>\n",
              "      <td>Cegah mata rantai Covid-19,mari kita dirumah s...</td>\n",
              "      <td>1.0</td>\n",
              "      <td>cegah mata rantai covid number mari kita dirum...</td>\n",
              "      <td>[cegah, mata, rantai, covid, number, mari, kit...</td>\n",
              "      <td>[cegah, mata, rantai, covid, number, mari, kit...</td>\n",
              "      <td>[cegah, mata, rantai, covid, number, mari, dir...</td>\n",
              "    </tr>\n",
              "    <tr>\n",
              "      <th>2</th>\n",
              "      <td>aku mohon yaAllah semoga wabah covid-19 menghi...</td>\n",
              "      <td>1.0</td>\n",
              "      <td>aku mohon yaallah semoga wabah covid number me...</td>\n",
              "      <td>[aku, mohon, yaallah, semoga, wabah, covid, nu...</td>\n",
              "      <td>[aku, mohon, yaallah, semoga, wabah, covid, nu...</td>\n",
              "      <td>[mohon, yaallah, semoga, wabah, covid, number,...</td>\n",
              "    </tr>\n",
              "    <tr>\n",
              "      <th>3</th>\n",
              "      <td>Pemprov Papua Naikkan Status Jadi Tanggap Daru...</td>\n",
              "      <td>1.0</td>\n",
              "      <td>pemprov papua naikkan status jadi tanggap daru...</td>\n",
              "      <td>[pemprov, papua, naikkan, status, jadi, tangga...</td>\n",
              "      <td>[pemprov, papua, naikkan, status, jadi, tangga...</td>\n",
              "      <td>[pemprov, papua, naikkan, status, tanggap, dar...</td>\n",
              "    </tr>\n",
              "    <tr>\n",
              "      <th>4</th>\n",
              "      <td>Covid belum nyampe prigen mbak hmm hoax</td>\n",
              "      <td>0.0</td>\n",
              "      <td>covid belum nyampe prigen mbak hmm hoax</td>\n",
              "      <td>[covid, belum, nyampe, prigen, mbak, hmm, hoax]</td>\n",
              "      <td>[covid, belum, nyampe, prigen, mbak, aduh, boh...</td>\n",
              "      <td>[covid, nyampe, prigen, mbak, aduh, bohong]</td>\n",
              "    </tr>\n",
              "    <tr>\n",
              "      <th>...</th>\n",
              "      <td>...</td>\n",
              "      <td>...</td>\n",
              "      <td>...</td>\n",
              "      <td>...</td>\n",
              "      <td>...</td>\n",
              "      <td>...</td>\n",
              "    </tr>\n",
              "    <tr>\n",
              "      <th>900</th>\n",
              "      <td>Seluruh negara di dunia mengalami masa sulit k...</td>\n",
              "      <td>1.0</td>\n",
              "      <td>seluruh negara di dunia mengalami masa sulit k...</td>\n",
              "      <td>[seluruh, negara, di, dunia, mengalami, masa, ...</td>\n",
              "      <td>[seluruh, negara, di, dunia, mengalami, masa, ...</td>\n",
              "      <td>[negara, dunia, mengalami, sulit, covid, numbe...</td>\n",
              "    </tr>\n",
              "    <tr>\n",
              "      <th>901</th>\n",
              "      <td>Setelah covid dan skripsi disaster selesai, ma...</td>\n",
              "      <td>1.0</td>\n",
              "      <td>setelah covid dan skripsi disaster selesai mau...</td>\n",
              "      <td>[setelah, covid, dan, skripsi, disaster, seles...</td>\n",
              "      <td>[setelah, covid, dan, skripsi, disaster, seles...</td>\n",
              "      <td>[covid, skripsi, disaster, selesai, banget, be...</td>\n",
              "    </tr>\n",
              "    <tr>\n",
              "      <th>902</th>\n",
              "      <td>Malam ini!! Projek \"BENDA BOLEH BINCANG\" 9 mal...</td>\n",
              "      <td>0.0</td>\n",
              "      <td>malam ini repeated projek allcaps benda boleh ...</td>\n",
              "      <td>[malam, ini, repeated, projek, allcaps, benda,...</td>\n",
              "      <td>[malam, ini, repeated, proyek, allcaps, benda,...</td>\n",
              "      <td>[malam, repeated, proyek, allcaps, benda, binc...</td>\n",
              "    </tr>\n",
              "    <tr>\n",
              "      <th>903</th>\n",
              "      <td>Pontang - panting di koyak covid 19</td>\n",
              "      <td>-1.0</td>\n",
              "      <td>pontang panting di koyak covid number</td>\n",
              "      <td>[pontang, panting, di, koyak, covid, number]</td>\n",
              "      <td>[pontang, panting, di, koyak, covid, number]</td>\n",
              "      <td>[pontang, panting, koyak, covid, number]</td>\n",
              "    </tr>\n",
              "    <tr>\n",
              "      <th>904</th>\n",
              "      <td>Masalahnya sekarang isu jangkitan covid. Alaaa...</td>\n",
              "      <td>-1.0</td>\n",
              "      <td>masalahnya sekarang isu jangkitan covid ala el...</td>\n",
              "      <td>[masalahnya, sekarang, isu, jangkitan, covid, ...</td>\n",
              "      <td>[masalahnya, sekarang, isu, jangkitan, covid, ...</td>\n",
              "      <td>[isu, jangkitan, covid, ala, elongated, bosan,...</td>\n",
              "    </tr>\n",
              "  </tbody>\n",
              "</table>\n",
              "<p>903 rows × 6 columns</p>\n",
              "</div>\n",
              "    <div class=\"colab-df-buttons\">\n",
              "\n",
              "  <div class=\"colab-df-container\">\n",
              "    <button class=\"colab-df-convert\" onclick=\"convertToInteractive('df-bda9ecb9-f8d3-42d5-9477-b8f63252f31a')\"\n",
              "            title=\"Convert this dataframe to an interactive table.\"\n",
              "            style=\"display:none;\">\n",
              "\n",
              "  <svg xmlns=\"http://www.w3.org/2000/svg\" height=\"24px\" viewBox=\"0 -960 960 960\">\n",
              "    <path d=\"M120-120v-720h720v720H120Zm60-500h600v-160H180v160Zm220 220h160v-160H400v160Zm0 220h160v-160H400v160ZM180-400h160v-160H180v160Zm440 0h160v-160H620v160ZM180-180h160v-160H180v160Zm440 0h160v-160H620v160Z\"/>\n",
              "  </svg>\n",
              "    </button>\n",
              "\n",
              "  <style>\n",
              "    .colab-df-container {\n",
              "      display:flex;\n",
              "      gap: 12px;\n",
              "    }\n",
              "\n",
              "    .colab-df-convert {\n",
              "      background-color: #E8F0FE;\n",
              "      border: none;\n",
              "      border-radius: 50%;\n",
              "      cursor: pointer;\n",
              "      display: none;\n",
              "      fill: #1967D2;\n",
              "      height: 32px;\n",
              "      padding: 0 0 0 0;\n",
              "      width: 32px;\n",
              "    }\n",
              "\n",
              "    .colab-df-convert:hover {\n",
              "      background-color: #E2EBFA;\n",
              "      box-shadow: 0px 1px 2px rgba(60, 64, 67, 0.3), 0px 1px 3px 1px rgba(60, 64, 67, 0.15);\n",
              "      fill: #174EA6;\n",
              "    }\n",
              "\n",
              "    .colab-df-buttons div {\n",
              "      margin-bottom: 4px;\n",
              "    }\n",
              "\n",
              "    [theme=dark] .colab-df-convert {\n",
              "      background-color: #3B4455;\n",
              "      fill: #D2E3FC;\n",
              "    }\n",
              "\n",
              "    [theme=dark] .colab-df-convert:hover {\n",
              "      background-color: #434B5C;\n",
              "      box-shadow: 0px 1px 3px 1px rgba(0, 0, 0, 0.15);\n",
              "      filter: drop-shadow(0px 1px 2px rgba(0, 0, 0, 0.3));\n",
              "      fill: #FFFFFF;\n",
              "    }\n",
              "  </style>\n",
              "\n",
              "    <script>\n",
              "      const buttonEl =\n",
              "        document.querySelector('#df-bda9ecb9-f8d3-42d5-9477-b8f63252f31a button.colab-df-convert');\n",
              "      buttonEl.style.display =\n",
              "        google.colab.kernel.accessAllowed ? 'block' : 'none';\n",
              "\n",
              "      async function convertToInteractive(key) {\n",
              "        const element = document.querySelector('#df-bda9ecb9-f8d3-42d5-9477-b8f63252f31a');\n",
              "        const dataTable =\n",
              "          await google.colab.kernel.invokeFunction('convertToInteractive',\n",
              "                                                    [key], {});\n",
              "        if (!dataTable) return;\n",
              "\n",
              "        const docLinkHtml = 'Like what you see? Visit the ' +\n",
              "          '<a target=\"_blank\" href=https://colab.research.google.com/notebooks/data_table.ipynb>data table notebook</a>'\n",
              "          + ' to learn more about interactive tables.';\n",
              "        element.innerHTML = '';\n",
              "        dataTable['output_type'] = 'display_data';\n",
              "        await google.colab.output.renderOutput(dataTable, element);\n",
              "        const docLink = document.createElement('div');\n",
              "        docLink.innerHTML = docLinkHtml;\n",
              "        element.appendChild(docLink);\n",
              "      }\n",
              "    </script>\n",
              "  </div>\n",
              "\n",
              "\n",
              "<div id=\"df-c99015de-a55d-4652-a63d-0132cead88b1\">\n",
              "  <button class=\"colab-df-quickchart\" onclick=\"quickchart('df-c99015de-a55d-4652-a63d-0132cead88b1')\"\n",
              "            title=\"Suggest charts\"\n",
              "            style=\"display:none;\">\n",
              "\n",
              "<svg xmlns=\"http://www.w3.org/2000/svg\" height=\"24px\"viewBox=\"0 0 24 24\"\n",
              "     width=\"24px\">\n",
              "    <g>\n",
              "        <path d=\"M19 3H5c-1.1 0-2 .9-2 2v14c0 1.1.9 2 2 2h14c1.1 0 2-.9 2-2V5c0-1.1-.9-2-2-2zM9 17H7v-7h2v7zm4 0h-2V7h2v10zm4 0h-2v-4h2v4z\"/>\n",
              "    </g>\n",
              "</svg>\n",
              "  </button>\n",
              "\n",
              "<style>\n",
              "  .colab-df-quickchart {\n",
              "      --bg-color: #E8F0FE;\n",
              "      --fill-color: #1967D2;\n",
              "      --hover-bg-color: #E2EBFA;\n",
              "      --hover-fill-color: #174EA6;\n",
              "      --disabled-fill-color: #AAA;\n",
              "      --disabled-bg-color: #DDD;\n",
              "  }\n",
              "\n",
              "  [theme=dark] .colab-df-quickchart {\n",
              "      --bg-color: #3B4455;\n",
              "      --fill-color: #D2E3FC;\n",
              "      --hover-bg-color: #434B5C;\n",
              "      --hover-fill-color: #FFFFFF;\n",
              "      --disabled-bg-color: #3B4455;\n",
              "      --disabled-fill-color: #666;\n",
              "  }\n",
              "\n",
              "  .colab-df-quickchart {\n",
              "    background-color: var(--bg-color);\n",
              "    border: none;\n",
              "    border-radius: 50%;\n",
              "    cursor: pointer;\n",
              "    display: none;\n",
              "    fill: var(--fill-color);\n",
              "    height: 32px;\n",
              "    padding: 0;\n",
              "    width: 32px;\n",
              "  }\n",
              "\n",
              "  .colab-df-quickchart:hover {\n",
              "    background-color: var(--hover-bg-color);\n",
              "    box-shadow: 0 1px 2px rgba(60, 64, 67, 0.3), 0 1px 3px 1px rgba(60, 64, 67, 0.15);\n",
              "    fill: var(--button-hover-fill-color);\n",
              "  }\n",
              "\n",
              "  .colab-df-quickchart-complete:disabled,\n",
              "  .colab-df-quickchart-complete:disabled:hover {\n",
              "    background-color: var(--disabled-bg-color);\n",
              "    fill: var(--disabled-fill-color);\n",
              "    box-shadow: none;\n",
              "  }\n",
              "\n",
              "  .colab-df-spinner {\n",
              "    border: 2px solid var(--fill-color);\n",
              "    border-color: transparent;\n",
              "    border-bottom-color: var(--fill-color);\n",
              "    animation:\n",
              "      spin 1s steps(1) infinite;\n",
              "  }\n",
              "\n",
              "  @keyframes spin {\n",
              "    0% {\n",
              "      border-color: transparent;\n",
              "      border-bottom-color: var(--fill-color);\n",
              "      border-left-color: var(--fill-color);\n",
              "    }\n",
              "    20% {\n",
              "      border-color: transparent;\n",
              "      border-left-color: var(--fill-color);\n",
              "      border-top-color: var(--fill-color);\n",
              "    }\n",
              "    30% {\n",
              "      border-color: transparent;\n",
              "      border-left-color: var(--fill-color);\n",
              "      border-top-color: var(--fill-color);\n",
              "      border-right-color: var(--fill-color);\n",
              "    }\n",
              "    40% {\n",
              "      border-color: transparent;\n",
              "      border-right-color: var(--fill-color);\n",
              "      border-top-color: var(--fill-color);\n",
              "    }\n",
              "    60% {\n",
              "      border-color: transparent;\n",
              "      border-right-color: var(--fill-color);\n",
              "    }\n",
              "    80% {\n",
              "      border-color: transparent;\n",
              "      border-right-color: var(--fill-color);\n",
              "      border-bottom-color: var(--fill-color);\n",
              "    }\n",
              "    90% {\n",
              "      border-color: transparent;\n",
              "      border-bottom-color: var(--fill-color);\n",
              "    }\n",
              "  }\n",
              "</style>\n",
              "\n",
              "  <script>\n",
              "    async function quickchart(key) {\n",
              "      const quickchartButtonEl =\n",
              "        document.querySelector('#' + key + ' button');\n",
              "      quickchartButtonEl.disabled = true;  // To prevent multiple clicks.\n",
              "      quickchartButtonEl.classList.add('colab-df-spinner');\n",
              "      try {\n",
              "        const charts = await google.colab.kernel.invokeFunction(\n",
              "            'suggestCharts', [key], {});\n",
              "      } catch (error) {\n",
              "        console.error('Error during call to suggestCharts:', error);\n",
              "      }\n",
              "      quickchartButtonEl.classList.remove('colab-df-spinner');\n",
              "      quickchartButtonEl.classList.add('colab-df-quickchart-complete');\n",
              "    }\n",
              "    (() => {\n",
              "      let quickchartButtonEl =\n",
              "        document.querySelector('#df-c99015de-a55d-4652-a63d-0132cead88b1 button');\n",
              "      quickchartButtonEl.style.display =\n",
              "        google.colab.kernel.accessAllowed ? 'block' : 'none';\n",
              "    })();\n",
              "  </script>\n",
              "</div>\n",
              "    </div>\n",
              "  </div>\n"
            ]
          },
          "metadata": {},
          "execution_count": 31
        }
      ],
      "source": [
        "stopword = nltk.corpus.stopwords.words('indonesian')\n",
        "\n",
        "def remove_stopwords(text):\n",
        "  text = [word for word in text if word not in stopword]\n",
        "  return text\n",
        "\n",
        "df_new['Stop_removal'] = df_new['tokens_perbaikan'].apply(lambda x: remove_stopwords(x))\n",
        "df_new"
      ]
    },
    {
      "cell_type": "code",
      "execution_count": 32,
      "metadata": {
        "colab": {
          "base_uri": "https://localhost:8080/"
        },
        "id": "gOSOFPEBwx5v",
        "outputId": "479a4407-46a1-4362-ce92-4a1897d6db43",
        "tags": []
      },
      "outputs": [
        {
          "output_type": "execute_result",
          "data": {
            "text/plain": [
              "['memang',\n",
              " 'lemes',\n",
              " 'banget',\n",
              " 'iya',\n",
              " 'mulut',\n",
              " 'kamu',\n",
              " 'saya',\n",
              " 'yang',\n",
              " 'mau',\n",
              " 'beli',\n",
              " 'beli',\n",
              " 'obat',\n",
              " 'saja',\n",
              " 'mikirr',\n",
              " 'drmn',\n",
              " 'bisa',\n",
              " 'beli',\n",
              " 'obat',\n",
              " 'kalau',\n",
              " 'tidak',\n",
              " 'kerja',\n",
              " 'devil']"
            ]
          },
          "metadata": {},
          "execution_count": 32
        }
      ],
      "source": [
        "df_new.iloc[0].tokens_perbaikan"
      ]
    },
    {
      "cell_type": "code",
      "execution_count": 33,
      "metadata": {
        "colab": {
          "base_uri": "https://localhost:8080/"
        },
        "id": "w9Zqsdw8w0YU",
        "outputId": "d197bd86-b7ea-4ca1-ad68-348d2fae9385",
        "tags": []
      },
      "outputs": [
        {
          "output_type": "execute_result",
          "data": {
            "text/plain": [
              "['lemes',\n",
              " 'banget',\n",
              " 'iya',\n",
              " 'mulut',\n",
              " 'beli',\n",
              " 'beli',\n",
              " 'obat',\n",
              " 'mikirr',\n",
              " 'drmn',\n",
              " 'beli',\n",
              " 'obat',\n",
              " 'kerja',\n",
              " 'devil']"
            ]
          },
          "metadata": {},
          "execution_count": 33
        }
      ],
      "source": [
        "df_new.iloc[0].Stop_removal"
      ]
    },
    {
      "cell_type": "code",
      "execution_count": 34,
      "metadata": {
        "id": "GscKs3PpJLcc",
        "tags": []
      },
      "outputs": [],
      "source": [
        "i=0\n",
        "final_string_tokens = []\n",
        "for text in df_new['Stop_removal'].values:\n",
        "    EachReviewText = \"\"\n",
        "    EachReviewText = ' '.join(text)\n",
        "    final_string_tokens.append(EachReviewText)"
      ]
    },
    {
      "cell_type": "code",
      "execution_count": 35,
      "metadata": {
        "id": "o4-6_3weJkEj",
        "tags": []
      },
      "outputs": [],
      "source": [
        "df_new[\"step02\"] = final_string_tokens"
      ]
    },
    {
      "cell_type": "code",
      "execution_count": 36,
      "metadata": {
        "colab": {
          "base_uri": "https://localhost:8080/",
          "height": 518
        },
        "id": "Ty8ykeoaJpO7",
        "outputId": "072124c4-f629-47da-c94f-7ea83e36c965",
        "tags": []
      },
      "outputs": [
        {
          "output_type": "execute_result",
          "data": {
            "text/plain": [
              "                                               Tweet  Sentimen  \\\n",
              "0  emang lemes bgt ya mulut lu, gue yg mau beli-b...      -1.0   \n",
              "1  Cegah mata rantai Covid-19,mari kita dirumah s...       1.0   \n",
              "2  aku mohon yaAllah semoga wabah covid-19 menghi...       1.0   \n",
              "3  Pemprov Papua Naikkan Status Jadi Tanggap Daru...       1.0   \n",
              "4            Covid belum nyampe prigen mbak hmm hoax       0.0   \n",
              "\n",
              "                                              step01  \\\n",
              "0  emang lemes bgt ya mulut lu gue yg mau beli be...   \n",
              "1  cegah mata rantai covid number mari kita dirum...   \n",
              "2  aku mohon yaallah semoga wabah covid number me...   \n",
              "3  pemprov papua naikkan status jadi tanggap daru...   \n",
              "4            covid belum nyampe prigen mbak hmm hoax   \n",
              "\n",
              "                                              tokens  \\\n",
              "0  [emang, lemes, bgt, ya, mulut, lu, gue, yg, ma...   \n",
              "1  [cegah, mata, rantai, covid, number, mari, kit...   \n",
              "2  [aku, mohon, yaallah, semoga, wabah, covid, nu...   \n",
              "3  [pemprov, papua, naikkan, status, jadi, tangga...   \n",
              "4    [covid, belum, nyampe, prigen, mbak, hmm, hoax]   \n",
              "\n",
              "                                    tokens_perbaikan  \\\n",
              "0  [memang, lemes, banget, iya, mulut, kamu, saya...   \n",
              "1  [cegah, mata, rantai, covid, number, mari, kit...   \n",
              "2  [aku, mohon, yaallah, semoga, wabah, covid, nu...   \n",
              "3  [pemprov, papua, naikkan, status, jadi, tangga...   \n",
              "4  [covid, belum, nyampe, prigen, mbak, aduh, boh...   \n",
              "\n",
              "                                        Stop_removal  \\\n",
              "0  [lemes, banget, iya, mulut, beli, beli, obat, ...   \n",
              "1  [cegah, mata, rantai, covid, number, mari, dir...   \n",
              "2  [mohon, yaallah, semoga, wabah, covid, number,...   \n",
              "3  [pemprov, papua, naikkan, status, tanggap, dar...   \n",
              "4        [covid, nyampe, prigen, mbak, aduh, bohong]   \n",
              "\n",
              "                                              step02  \n",
              "0  lemes banget iya mulut beli beli obat mikirr d...  \n",
              "1  cegah mata rantai covid number mari dirumah mi...  \n",
              "2  mohon yaallah semoga wabah covid number menghi...  \n",
              "3  pemprov papua naikkan status tanggap darurat c...  \n",
              "4               covid nyampe prigen mbak aduh bohong  "
            ],
            "text/html": [
              "\n",
              "  <div id=\"df-94524a94-d300-4949-be62-51d7defa6c94\" class=\"colab-df-container\">\n",
              "    <div>\n",
              "<style scoped>\n",
              "    .dataframe tbody tr th:only-of-type {\n",
              "        vertical-align: middle;\n",
              "    }\n",
              "\n",
              "    .dataframe tbody tr th {\n",
              "        vertical-align: top;\n",
              "    }\n",
              "\n",
              "    .dataframe thead th {\n",
              "        text-align: right;\n",
              "    }\n",
              "</style>\n",
              "<table border=\"1\" class=\"dataframe\">\n",
              "  <thead>\n",
              "    <tr style=\"text-align: right;\">\n",
              "      <th></th>\n",
              "      <th>Tweet</th>\n",
              "      <th>Sentimen</th>\n",
              "      <th>step01</th>\n",
              "      <th>tokens</th>\n",
              "      <th>tokens_perbaikan</th>\n",
              "      <th>Stop_removal</th>\n",
              "      <th>step02</th>\n",
              "    </tr>\n",
              "  </thead>\n",
              "  <tbody>\n",
              "    <tr>\n",
              "      <th>0</th>\n",
              "      <td>emang lemes bgt ya mulut lu, gue yg mau beli-b...</td>\n",
              "      <td>-1.0</td>\n",
              "      <td>emang lemes bgt ya mulut lu gue yg mau beli be...</td>\n",
              "      <td>[emang, lemes, bgt, ya, mulut, lu, gue, yg, ma...</td>\n",
              "      <td>[memang, lemes, banget, iya, mulut, kamu, saya...</td>\n",
              "      <td>[lemes, banget, iya, mulut, beli, beli, obat, ...</td>\n",
              "      <td>lemes banget iya mulut beli beli obat mikirr d...</td>\n",
              "    </tr>\n",
              "    <tr>\n",
              "      <th>1</th>\n",
              "      <td>Cegah mata rantai Covid-19,mari kita dirumah s...</td>\n",
              "      <td>1.0</td>\n",
              "      <td>cegah mata rantai covid number mari kita dirum...</td>\n",
              "      <td>[cegah, mata, rantai, covid, number, mari, kit...</td>\n",
              "      <td>[cegah, mata, rantai, covid, number, mari, kit...</td>\n",
              "      <td>[cegah, mata, rantai, covid, number, mari, dir...</td>\n",
              "      <td>cegah mata rantai covid number mari dirumah mi...</td>\n",
              "    </tr>\n",
              "    <tr>\n",
              "      <th>2</th>\n",
              "      <td>aku mohon yaAllah semoga wabah covid-19 menghi...</td>\n",
              "      <td>1.0</td>\n",
              "      <td>aku mohon yaallah semoga wabah covid number me...</td>\n",
              "      <td>[aku, mohon, yaallah, semoga, wabah, covid, nu...</td>\n",
              "      <td>[aku, mohon, yaallah, semoga, wabah, covid, nu...</td>\n",
              "      <td>[mohon, yaallah, semoga, wabah, covid, number,...</td>\n",
              "      <td>mohon yaallah semoga wabah covid number menghi...</td>\n",
              "    </tr>\n",
              "    <tr>\n",
              "      <th>3</th>\n",
              "      <td>Pemprov Papua Naikkan Status Jadi Tanggap Daru...</td>\n",
              "      <td>1.0</td>\n",
              "      <td>pemprov papua naikkan status jadi tanggap daru...</td>\n",
              "      <td>[pemprov, papua, naikkan, status, jadi, tangga...</td>\n",
              "      <td>[pemprov, papua, naikkan, status, jadi, tangga...</td>\n",
              "      <td>[pemprov, papua, naikkan, status, tanggap, dar...</td>\n",
              "      <td>pemprov papua naikkan status tanggap darurat c...</td>\n",
              "    </tr>\n",
              "    <tr>\n",
              "      <th>4</th>\n",
              "      <td>Covid belum nyampe prigen mbak hmm hoax</td>\n",
              "      <td>0.0</td>\n",
              "      <td>covid belum nyampe prigen mbak hmm hoax</td>\n",
              "      <td>[covid, belum, nyampe, prigen, mbak, hmm, hoax]</td>\n",
              "      <td>[covid, belum, nyampe, prigen, mbak, aduh, boh...</td>\n",
              "      <td>[covid, nyampe, prigen, mbak, aduh, bohong]</td>\n",
              "      <td>covid nyampe prigen mbak aduh bohong</td>\n",
              "    </tr>\n",
              "  </tbody>\n",
              "</table>\n",
              "</div>\n",
              "    <div class=\"colab-df-buttons\">\n",
              "\n",
              "  <div class=\"colab-df-container\">\n",
              "    <button class=\"colab-df-convert\" onclick=\"convertToInteractive('df-94524a94-d300-4949-be62-51d7defa6c94')\"\n",
              "            title=\"Convert this dataframe to an interactive table.\"\n",
              "            style=\"display:none;\">\n",
              "\n",
              "  <svg xmlns=\"http://www.w3.org/2000/svg\" height=\"24px\" viewBox=\"0 -960 960 960\">\n",
              "    <path d=\"M120-120v-720h720v720H120Zm60-500h600v-160H180v160Zm220 220h160v-160H400v160Zm0 220h160v-160H400v160ZM180-400h160v-160H180v160Zm440 0h160v-160H620v160ZM180-180h160v-160H180v160Zm440 0h160v-160H620v160Z\"/>\n",
              "  </svg>\n",
              "    </button>\n",
              "\n",
              "  <style>\n",
              "    .colab-df-container {\n",
              "      display:flex;\n",
              "      gap: 12px;\n",
              "    }\n",
              "\n",
              "    .colab-df-convert {\n",
              "      background-color: #E8F0FE;\n",
              "      border: none;\n",
              "      border-radius: 50%;\n",
              "      cursor: pointer;\n",
              "      display: none;\n",
              "      fill: #1967D2;\n",
              "      height: 32px;\n",
              "      padding: 0 0 0 0;\n",
              "      width: 32px;\n",
              "    }\n",
              "\n",
              "    .colab-df-convert:hover {\n",
              "      background-color: #E2EBFA;\n",
              "      box-shadow: 0px 1px 2px rgba(60, 64, 67, 0.3), 0px 1px 3px 1px rgba(60, 64, 67, 0.15);\n",
              "      fill: #174EA6;\n",
              "    }\n",
              "\n",
              "    .colab-df-buttons div {\n",
              "      margin-bottom: 4px;\n",
              "    }\n",
              "\n",
              "    [theme=dark] .colab-df-convert {\n",
              "      background-color: #3B4455;\n",
              "      fill: #D2E3FC;\n",
              "    }\n",
              "\n",
              "    [theme=dark] .colab-df-convert:hover {\n",
              "      background-color: #434B5C;\n",
              "      box-shadow: 0px 1px 3px 1px rgba(0, 0, 0, 0.15);\n",
              "      filter: drop-shadow(0px 1px 2px rgba(0, 0, 0, 0.3));\n",
              "      fill: #FFFFFF;\n",
              "    }\n",
              "  </style>\n",
              "\n",
              "    <script>\n",
              "      const buttonEl =\n",
              "        document.querySelector('#df-94524a94-d300-4949-be62-51d7defa6c94 button.colab-df-convert');\n",
              "      buttonEl.style.display =\n",
              "        google.colab.kernel.accessAllowed ? 'block' : 'none';\n",
              "\n",
              "      async function convertToInteractive(key) {\n",
              "        const element = document.querySelector('#df-94524a94-d300-4949-be62-51d7defa6c94');\n",
              "        const dataTable =\n",
              "          await google.colab.kernel.invokeFunction('convertToInteractive',\n",
              "                                                    [key], {});\n",
              "        if (!dataTable) return;\n",
              "\n",
              "        const docLinkHtml = 'Like what you see? Visit the ' +\n",
              "          '<a target=\"_blank\" href=https://colab.research.google.com/notebooks/data_table.ipynb>data table notebook</a>'\n",
              "          + ' to learn more about interactive tables.';\n",
              "        element.innerHTML = '';\n",
              "        dataTable['output_type'] = 'display_data';\n",
              "        await google.colab.output.renderOutput(dataTable, element);\n",
              "        const docLink = document.createElement('div');\n",
              "        docLink.innerHTML = docLinkHtml;\n",
              "        element.appendChild(docLink);\n",
              "      }\n",
              "    </script>\n",
              "  </div>\n",
              "\n",
              "\n",
              "<div id=\"df-a232ab80-3ad0-42ab-9c5f-8b13e182d7c7\">\n",
              "  <button class=\"colab-df-quickchart\" onclick=\"quickchart('df-a232ab80-3ad0-42ab-9c5f-8b13e182d7c7')\"\n",
              "            title=\"Suggest charts\"\n",
              "            style=\"display:none;\">\n",
              "\n",
              "<svg xmlns=\"http://www.w3.org/2000/svg\" height=\"24px\"viewBox=\"0 0 24 24\"\n",
              "     width=\"24px\">\n",
              "    <g>\n",
              "        <path d=\"M19 3H5c-1.1 0-2 .9-2 2v14c0 1.1.9 2 2 2h14c1.1 0 2-.9 2-2V5c0-1.1-.9-2-2-2zM9 17H7v-7h2v7zm4 0h-2V7h2v10zm4 0h-2v-4h2v4z\"/>\n",
              "    </g>\n",
              "</svg>\n",
              "  </button>\n",
              "\n",
              "<style>\n",
              "  .colab-df-quickchart {\n",
              "      --bg-color: #E8F0FE;\n",
              "      --fill-color: #1967D2;\n",
              "      --hover-bg-color: #E2EBFA;\n",
              "      --hover-fill-color: #174EA6;\n",
              "      --disabled-fill-color: #AAA;\n",
              "      --disabled-bg-color: #DDD;\n",
              "  }\n",
              "\n",
              "  [theme=dark] .colab-df-quickchart {\n",
              "      --bg-color: #3B4455;\n",
              "      --fill-color: #D2E3FC;\n",
              "      --hover-bg-color: #434B5C;\n",
              "      --hover-fill-color: #FFFFFF;\n",
              "      --disabled-bg-color: #3B4455;\n",
              "      --disabled-fill-color: #666;\n",
              "  }\n",
              "\n",
              "  .colab-df-quickchart {\n",
              "    background-color: var(--bg-color);\n",
              "    border: none;\n",
              "    border-radius: 50%;\n",
              "    cursor: pointer;\n",
              "    display: none;\n",
              "    fill: var(--fill-color);\n",
              "    height: 32px;\n",
              "    padding: 0;\n",
              "    width: 32px;\n",
              "  }\n",
              "\n",
              "  .colab-df-quickchart:hover {\n",
              "    background-color: var(--hover-bg-color);\n",
              "    box-shadow: 0 1px 2px rgba(60, 64, 67, 0.3), 0 1px 3px 1px rgba(60, 64, 67, 0.15);\n",
              "    fill: var(--button-hover-fill-color);\n",
              "  }\n",
              "\n",
              "  .colab-df-quickchart-complete:disabled,\n",
              "  .colab-df-quickchart-complete:disabled:hover {\n",
              "    background-color: var(--disabled-bg-color);\n",
              "    fill: var(--disabled-fill-color);\n",
              "    box-shadow: none;\n",
              "  }\n",
              "\n",
              "  .colab-df-spinner {\n",
              "    border: 2px solid var(--fill-color);\n",
              "    border-color: transparent;\n",
              "    border-bottom-color: var(--fill-color);\n",
              "    animation:\n",
              "      spin 1s steps(1) infinite;\n",
              "  }\n",
              "\n",
              "  @keyframes spin {\n",
              "    0% {\n",
              "      border-color: transparent;\n",
              "      border-bottom-color: var(--fill-color);\n",
              "      border-left-color: var(--fill-color);\n",
              "    }\n",
              "    20% {\n",
              "      border-color: transparent;\n",
              "      border-left-color: var(--fill-color);\n",
              "      border-top-color: var(--fill-color);\n",
              "    }\n",
              "    30% {\n",
              "      border-color: transparent;\n",
              "      border-left-color: var(--fill-color);\n",
              "      border-top-color: var(--fill-color);\n",
              "      border-right-color: var(--fill-color);\n",
              "    }\n",
              "    40% {\n",
              "      border-color: transparent;\n",
              "      border-right-color: var(--fill-color);\n",
              "      border-top-color: var(--fill-color);\n",
              "    }\n",
              "    60% {\n",
              "      border-color: transparent;\n",
              "      border-right-color: var(--fill-color);\n",
              "    }\n",
              "    80% {\n",
              "      border-color: transparent;\n",
              "      border-right-color: var(--fill-color);\n",
              "      border-bottom-color: var(--fill-color);\n",
              "    }\n",
              "    90% {\n",
              "      border-color: transparent;\n",
              "      border-bottom-color: var(--fill-color);\n",
              "    }\n",
              "  }\n",
              "</style>\n",
              "\n",
              "  <script>\n",
              "    async function quickchart(key) {\n",
              "      const quickchartButtonEl =\n",
              "        document.querySelector('#' + key + ' button');\n",
              "      quickchartButtonEl.disabled = true;  // To prevent multiple clicks.\n",
              "      quickchartButtonEl.classList.add('colab-df-spinner');\n",
              "      try {\n",
              "        const charts = await google.colab.kernel.invokeFunction(\n",
              "            'suggestCharts', [key], {});\n",
              "      } catch (error) {\n",
              "        console.error('Error during call to suggestCharts:', error);\n",
              "      }\n",
              "      quickchartButtonEl.classList.remove('colab-df-spinner');\n",
              "      quickchartButtonEl.classList.add('colab-df-quickchart-complete');\n",
              "    }\n",
              "    (() => {\n",
              "      let quickchartButtonEl =\n",
              "        document.querySelector('#df-a232ab80-3ad0-42ab-9c5f-8b13e182d7c7 button');\n",
              "      quickchartButtonEl.style.display =\n",
              "        google.colab.kernel.accessAllowed ? 'block' : 'none';\n",
              "    })();\n",
              "  </script>\n",
              "</div>\n",
              "    </div>\n",
              "  </div>\n"
            ]
          },
          "metadata": {},
          "execution_count": 36
        }
      ],
      "source": [
        "df_new.head()"
      ]
    },
    {
      "cell_type": "markdown",
      "metadata": {
        "id": "-F9_5pJIHw6-"
      },
      "source": [
        "## Stemming - Menggunakan Sastrawi"
      ]
    },
    {
      "cell_type": "code",
      "execution_count": 37,
      "metadata": {
        "id": "fYG4PHGxGs8E",
        "tags": [],
        "colab": {
          "base_uri": "https://localhost:8080/"
        },
        "outputId": "5bd59ec9-25d2-494f-fe6c-56f2cfe8d316"
      },
      "outputs": [
        {
          "output_type": "stream",
          "name": "stdout",
          "text": [
            "Collecting sastrawi\n",
            "  Downloading Sastrawi-1.0.1-py2.py3-none-any.whl (209 kB)\n",
            "\u001b[?25l     \u001b[90m━━━━━━━━━━━━━━━━━━━━━━━━━━━━━━━━━━━━━━━━\u001b[0m \u001b[32m0.0/209.7 kB\u001b[0m \u001b[31m?\u001b[0m eta \u001b[36m-:--:--\u001b[0m\r\u001b[2K     \u001b[91m━━━━━━━━━━━━━━━━━━━━━━━━━━━━━\u001b[0m\u001b[90m╺\u001b[0m\u001b[90m━━━━━━━━━━\u001b[0m \u001b[32m153.6/209.7 kB\u001b[0m \u001b[31m4.4 MB/s\u001b[0m eta \u001b[36m0:00:01\u001b[0m\r\u001b[2K     \u001b[90m━━━━━━━━━━━━━━━━━━━━━━━━━━━━━━━━━━━━━━━━\u001b[0m \u001b[32m209.7/209.7 kB\u001b[0m \u001b[31m4.7 MB/s\u001b[0m eta \u001b[36m0:00:00\u001b[0m\n",
            "\u001b[?25hInstalling collected packages: sastrawi\n",
            "Successfully installed sastrawi-1.0.1\n"
          ]
        }
      ],
      "source": [
        "!pip install sastrawi"
      ]
    },
    {
      "cell_type": "code",
      "execution_count": 38,
      "metadata": {
        "id": "Qhuf9k2CGs5z",
        "tags": []
      },
      "outputs": [],
      "source": [
        "from Sastrawi.Stemmer.StemmerFactory import StemmerFactory\n",
        "factory = StemmerFactory()\n",
        "stemmer = factory.create_stemmer()"
      ]
    },
    {
      "cell_type": "code",
      "execution_count": 39,
      "metadata": {
        "id": "nd-QecH2Gs3O",
        "tags": []
      },
      "outputs": [],
      "source": [
        "final_string = []\n",
        "s = \"\"\n",
        "for sentence in df_new[\"step02\"].values:\n",
        "    filteredSentence = []\n",
        "    EachReviewText = \"\"\n",
        "    s = (stemmer.stem(sentence))\n",
        "    filteredSentence.append(s)\n",
        "\n",
        "    EachReviewText = ' '.join(filteredSentence)\n",
        "    final_string.append(EachReviewText)"
      ]
    },
    {
      "cell_type": "code",
      "execution_count": 40,
      "metadata": {
        "id": "6Fu05R6NN1nU",
        "tags": []
      },
      "outputs": [],
      "source": [
        "df_new[\"ProcessedText\"] = final_string"
      ]
    },
    {
      "cell_type": "code",
      "execution_count": 41,
      "metadata": {
        "colab": {
          "base_uri": "https://localhost:8080/",
          "height": 1000
        },
        "id": "HRbSfQ91Gszo",
        "outputId": "e0f53199-e927-47cc-a590-3508f80989b4",
        "tags": []
      },
      "outputs": [
        {
          "output_type": "execute_result",
          "data": {
            "text/plain": [
              "                                               Tweet  Sentimen  \\\n",
              "0  emang lemes bgt ya mulut lu, gue yg mau beli-b...      -1.0   \n",
              "1  Cegah mata rantai Covid-19,mari kita dirumah s...       1.0   \n",
              "2  aku mohon yaAllah semoga wabah covid-19 menghi...       1.0   \n",
              "3  Pemprov Papua Naikkan Status Jadi Tanggap Daru...       1.0   \n",
              "4            Covid belum nyampe prigen mbak hmm hoax       0.0   \n",
              "5  Nyuruh orang pintar, lu aja Togog. Itu kerumun...      -1.0   \n",
              "6  Pikir2 balik byk mnde plk nk setelkn lepas covid.       0.0   \n",
              "7  Selamat pagi, hari jum'at. Jum'at keempat di k...       1.0   \n",
              "8  Hikmah di balik musibah covid-19, smg para pej...       1.0   \n",
              "9  Cegah covid-19 beserta jajaran Polsek Kuranji ...       1.0   \n",
              "\n",
              "                                              step01  \\\n",
              "0  emang lemes bgt ya mulut lu gue yg mau beli be...   \n",
              "1  cegah mata rantai covid number mari kita dirum...   \n",
              "2  aku mohon yaallah semoga wabah covid number me...   \n",
              "3  pemprov papua naikkan status jadi tanggap daru...   \n",
              "4            covid belum nyampe prigen mbak hmm hoax   \n",
              "5  nyuruh orang pintar lu aja togog itu kerumunan...   \n",
              "6   pikir2 balik byk mnde plk nk setelkn lepas covid   \n",
              "7  selamat pagi hari jum at jum at keempat di kal...   \n",
              "8  hikmah di balik musibah covid number smg para ...   \n",
              "9  cegah covid number beserta jajaran polsek kura...   \n",
              "\n",
              "                                              tokens  \\\n",
              "0  [emang, lemes, bgt, ya, mulut, lu, gue, yg, ma...   \n",
              "1  [cegah, mata, rantai, covid, number, mari, kit...   \n",
              "2  [aku, mohon, yaallah, semoga, wabah, covid, nu...   \n",
              "3  [pemprov, papua, naikkan, status, jadi, tangga...   \n",
              "4    [covid, belum, nyampe, prigen, mbak, hmm, hoax]   \n",
              "5  [nyuruh, orang, pintar, lu, aja, togog, itu, k...   \n",
              "6  [pikir2, balik, byk, mnde, plk, nk, setelkn, l...   \n",
              "7  [selamat, pagi, hari, jum, at, jum, at, keempa...   \n",
              "8  [hikmah, di, balik, musibah, covid, number, sm...   \n",
              "9  [cegah, covid, number, beserta, jajaran, polse...   \n",
              "\n",
              "                                    tokens_perbaikan  \\\n",
              "0  [memang, lemes, banget, iya, mulut, kamu, saya...   \n",
              "1  [cegah, mata, rantai, covid, number, mari, kit...   \n",
              "2  [aku, mohon, yaallah, semoga, wabah, covid, nu...   \n",
              "3  [pemprov, papua, naikkan, status, jadi, tangga...   \n",
              "4  [covid, belum, nyampe, prigen, mbak, aduh, boh...   \n",
              "5  [nyuruh, orang, pintar, kamu, saja, togog, itu...   \n",
              "6  [pikir2, balik, banyak, mnde, plk, nk, setelkn...   \n",
              "7  [selamat, pagi, hari, jum, at, jum, at, keempa...   \n",
              "8  [hikmah, di, balik, musibah, covid, number, se...   \n",
              "9  [cegah, covid, number, beserta, jajaran, polse...   \n",
              "\n",
              "                                        Stop_removal  \\\n",
              "0  [lemes, banget, iya, mulut, beli, beli, obat, ...   \n",
              "1  [cegah, mata, rantai, covid, number, mari, dir...   \n",
              "2  [mohon, yaallah, semoga, wabah, covid, number,...   \n",
              "3  [pemprov, papua, naikkan, status, tanggap, dar...   \n",
              "4        [covid, nyampe, prigen, mbak, aduh, bohong]   \n",
              "5  [nyuruh, orang, pintar, togog, kerumunan, oran...   \n",
              "6     [pikir2, mnde, plk, nk, setelkn, lepas, covid]   \n",
              "7  [selamat, pagi, jum, at, jum, at, keempat, pan...   \n",
              "8  [hikmah, musibah, covid, number, semoga, pejab...   \n",
              "9  [cegah, covid, number, beserta, jajaran, polse...   \n",
              "\n",
              "                                              step02  \\\n",
              "0  lemes banget iya mulut beli beli obat mikirr d...   \n",
              "1  cegah mata rantai covid number mari dirumah mi...   \n",
              "2  mohon yaallah semoga wabah covid number menghi...   \n",
              "3  pemprov papua naikkan status tanggap darurat c...   \n",
              "4               covid nyampe prigen mbak aduh bohong   \n",
              "5  nyuruh orang pintar togog kerumunan orang nula...   \n",
              "6             pikir2 mnde plk nk setelkn lepas covid   \n",
              "7  selamat pagi jum at jum at keempat pandemi cov...   \n",
              "8  hikmah musibah covid number semoga pejabat pem...   \n",
              "9  cegah covid number beserta jajaran polsek kura...   \n",
              "\n",
              "                                       ProcessedText  \n",
              "0  lemes banget iya mulut beli beli obat mikirr d...  \n",
              "1  cegah mata rantai covid number mari rumah ming...  \n",
              "2  mohon yaallah moga wabah covid number hilang r...  \n",
              "3  pemprov papua naik status tanggap darurat covi...  \n",
              "4               covid nyampe prigen mbak aduh bohong  \n",
              "5  nyuruh orang pintar togog kerumun orang nulari...  \n",
              "6             pikir2 mnde plk nk setelkn lepas covid  \n",
              "7  selamat pagi jum at jum at empat pandemi covid...  \n",
              "8  hikmah musibah covid number moga jabat perinta...  \n",
              "9  cegah covid number serta jajar polsek ranji ak...  "
            ],
            "text/html": [
              "\n",
              "  <div id=\"df-178fda66-c932-4ec9-91a1-30fbfcf9aa3b\" class=\"colab-df-container\">\n",
              "    <div>\n",
              "<style scoped>\n",
              "    .dataframe tbody tr th:only-of-type {\n",
              "        vertical-align: middle;\n",
              "    }\n",
              "\n",
              "    .dataframe tbody tr th {\n",
              "        vertical-align: top;\n",
              "    }\n",
              "\n",
              "    .dataframe thead th {\n",
              "        text-align: right;\n",
              "    }\n",
              "</style>\n",
              "<table border=\"1\" class=\"dataframe\">\n",
              "  <thead>\n",
              "    <tr style=\"text-align: right;\">\n",
              "      <th></th>\n",
              "      <th>Tweet</th>\n",
              "      <th>Sentimen</th>\n",
              "      <th>step01</th>\n",
              "      <th>tokens</th>\n",
              "      <th>tokens_perbaikan</th>\n",
              "      <th>Stop_removal</th>\n",
              "      <th>step02</th>\n",
              "      <th>ProcessedText</th>\n",
              "    </tr>\n",
              "  </thead>\n",
              "  <tbody>\n",
              "    <tr>\n",
              "      <th>0</th>\n",
              "      <td>emang lemes bgt ya mulut lu, gue yg mau beli-b...</td>\n",
              "      <td>-1.0</td>\n",
              "      <td>emang lemes bgt ya mulut lu gue yg mau beli be...</td>\n",
              "      <td>[emang, lemes, bgt, ya, mulut, lu, gue, yg, ma...</td>\n",
              "      <td>[memang, lemes, banget, iya, mulut, kamu, saya...</td>\n",
              "      <td>[lemes, banget, iya, mulut, beli, beli, obat, ...</td>\n",
              "      <td>lemes banget iya mulut beli beli obat mikirr d...</td>\n",
              "      <td>lemes banget iya mulut beli beli obat mikirr d...</td>\n",
              "    </tr>\n",
              "    <tr>\n",
              "      <th>1</th>\n",
              "      <td>Cegah mata rantai Covid-19,mari kita dirumah s...</td>\n",
              "      <td>1.0</td>\n",
              "      <td>cegah mata rantai covid number mari kita dirum...</td>\n",
              "      <td>[cegah, mata, rantai, covid, number, mari, kit...</td>\n",
              "      <td>[cegah, mata, rantai, covid, number, mari, kit...</td>\n",
              "      <td>[cegah, mata, rantai, covid, number, mari, dir...</td>\n",
              "      <td>cegah mata rantai covid number mari dirumah mi...</td>\n",
              "      <td>cegah mata rantai covid number mari rumah ming...</td>\n",
              "    </tr>\n",
              "    <tr>\n",
              "      <th>2</th>\n",
              "      <td>aku mohon yaAllah semoga wabah covid-19 menghi...</td>\n",
              "      <td>1.0</td>\n",
              "      <td>aku mohon yaallah semoga wabah covid number me...</td>\n",
              "      <td>[aku, mohon, yaallah, semoga, wabah, covid, nu...</td>\n",
              "      <td>[aku, mohon, yaallah, semoga, wabah, covid, nu...</td>\n",
              "      <td>[mohon, yaallah, semoga, wabah, covid, number,...</td>\n",
              "      <td>mohon yaallah semoga wabah covid number menghi...</td>\n",
              "      <td>mohon yaallah moga wabah covid number hilang r...</td>\n",
              "    </tr>\n",
              "    <tr>\n",
              "      <th>3</th>\n",
              "      <td>Pemprov Papua Naikkan Status Jadi Tanggap Daru...</td>\n",
              "      <td>1.0</td>\n",
              "      <td>pemprov papua naikkan status jadi tanggap daru...</td>\n",
              "      <td>[pemprov, papua, naikkan, status, jadi, tangga...</td>\n",
              "      <td>[pemprov, papua, naikkan, status, jadi, tangga...</td>\n",
              "      <td>[pemprov, papua, naikkan, status, tanggap, dar...</td>\n",
              "      <td>pemprov papua naikkan status tanggap darurat c...</td>\n",
              "      <td>pemprov papua naik status tanggap darurat covi...</td>\n",
              "    </tr>\n",
              "    <tr>\n",
              "      <th>4</th>\n",
              "      <td>Covid belum nyampe prigen mbak hmm hoax</td>\n",
              "      <td>0.0</td>\n",
              "      <td>covid belum nyampe prigen mbak hmm hoax</td>\n",
              "      <td>[covid, belum, nyampe, prigen, mbak, hmm, hoax]</td>\n",
              "      <td>[covid, belum, nyampe, prigen, mbak, aduh, boh...</td>\n",
              "      <td>[covid, nyampe, prigen, mbak, aduh, bohong]</td>\n",
              "      <td>covid nyampe prigen mbak aduh bohong</td>\n",
              "      <td>covid nyampe prigen mbak aduh bohong</td>\n",
              "    </tr>\n",
              "    <tr>\n",
              "      <th>5</th>\n",
              "      <td>Nyuruh orang pintar, lu aja Togog. Itu kerumun...</td>\n",
              "      <td>-1.0</td>\n",
              "      <td>nyuruh orang pintar lu aja togog itu kerumunan...</td>\n",
              "      <td>[nyuruh, orang, pintar, lu, aja, togog, itu, k...</td>\n",
              "      <td>[nyuruh, orang, pintar, kamu, saja, togog, itu...</td>\n",
              "      <td>[nyuruh, orang, pintar, togog, kerumunan, oran...</td>\n",
              "      <td>nyuruh orang pintar togog kerumunan orang nula...</td>\n",
              "      <td>nyuruh orang pintar togog kerumun orang nulari...</td>\n",
              "    </tr>\n",
              "    <tr>\n",
              "      <th>6</th>\n",
              "      <td>Pikir2 balik byk mnde plk nk setelkn lepas covid.</td>\n",
              "      <td>0.0</td>\n",
              "      <td>pikir2 balik byk mnde plk nk setelkn lepas covid</td>\n",
              "      <td>[pikir2, balik, byk, mnde, plk, nk, setelkn, l...</td>\n",
              "      <td>[pikir2, balik, banyak, mnde, plk, nk, setelkn...</td>\n",
              "      <td>[pikir2, mnde, plk, nk, setelkn, lepas, covid]</td>\n",
              "      <td>pikir2 mnde plk nk setelkn lepas covid</td>\n",
              "      <td>pikir2 mnde plk nk setelkn lepas covid</td>\n",
              "    </tr>\n",
              "    <tr>\n",
              "      <th>7</th>\n",
              "      <td>Selamat pagi, hari jum'at. Jum'at keempat di k...</td>\n",
              "      <td>1.0</td>\n",
              "      <td>selamat pagi hari jum at jum at keempat di kal...</td>\n",
              "      <td>[selamat, pagi, hari, jum, at, jum, at, keempa...</td>\n",
              "      <td>[selamat, pagi, hari, jum, at, jum, at, keempa...</td>\n",
              "      <td>[selamat, pagi, jum, at, jum, at, keempat, pan...</td>\n",
              "      <td>selamat pagi jum at jum at keempat pandemi cov...</td>\n",
              "      <td>selamat pagi jum at jum at empat pandemi covid...</td>\n",
              "    </tr>\n",
              "    <tr>\n",
              "      <th>8</th>\n",
              "      <td>Hikmah di balik musibah covid-19, smg para pej...</td>\n",
              "      <td>1.0</td>\n",
              "      <td>hikmah di balik musibah covid number smg para ...</td>\n",
              "      <td>[hikmah, di, balik, musibah, covid, number, sm...</td>\n",
              "      <td>[hikmah, di, balik, musibah, covid, number, se...</td>\n",
              "      <td>[hikmah, musibah, covid, number, semoga, pejab...</td>\n",
              "      <td>hikmah musibah covid number semoga pejabat pem...</td>\n",
              "      <td>hikmah musibah covid number moga jabat perinta...</td>\n",
              "    </tr>\n",
              "    <tr>\n",
              "      <th>9</th>\n",
              "      <td>Cegah covid-19 beserta jajaran Polsek Kuranji ...</td>\n",
              "      <td>1.0</td>\n",
              "      <td>cegah covid number beserta jajaran polsek kura...</td>\n",
              "      <td>[cegah, covid, number, beserta, jajaran, polse...</td>\n",
              "      <td>[cegah, covid, number, beserta, jajaran, polse...</td>\n",
              "      <td>[cegah, covid, number, beserta, jajaran, polse...</td>\n",
              "      <td>cegah covid number beserta jajaran polsek kura...</td>\n",
              "      <td>cegah covid number serta jajar polsek ranji ak...</td>\n",
              "    </tr>\n",
              "  </tbody>\n",
              "</table>\n",
              "</div>\n",
              "    <div class=\"colab-df-buttons\">\n",
              "\n",
              "  <div class=\"colab-df-container\">\n",
              "    <button class=\"colab-df-convert\" onclick=\"convertToInteractive('df-178fda66-c932-4ec9-91a1-30fbfcf9aa3b')\"\n",
              "            title=\"Convert this dataframe to an interactive table.\"\n",
              "            style=\"display:none;\">\n",
              "\n",
              "  <svg xmlns=\"http://www.w3.org/2000/svg\" height=\"24px\" viewBox=\"0 -960 960 960\">\n",
              "    <path d=\"M120-120v-720h720v720H120Zm60-500h600v-160H180v160Zm220 220h160v-160H400v160Zm0 220h160v-160H400v160ZM180-400h160v-160H180v160Zm440 0h160v-160H620v160ZM180-180h160v-160H180v160Zm440 0h160v-160H620v160Z\"/>\n",
              "  </svg>\n",
              "    </button>\n",
              "\n",
              "  <style>\n",
              "    .colab-df-container {\n",
              "      display:flex;\n",
              "      gap: 12px;\n",
              "    }\n",
              "\n",
              "    .colab-df-convert {\n",
              "      background-color: #E8F0FE;\n",
              "      border: none;\n",
              "      border-radius: 50%;\n",
              "      cursor: pointer;\n",
              "      display: none;\n",
              "      fill: #1967D2;\n",
              "      height: 32px;\n",
              "      padding: 0 0 0 0;\n",
              "      width: 32px;\n",
              "    }\n",
              "\n",
              "    .colab-df-convert:hover {\n",
              "      background-color: #E2EBFA;\n",
              "      box-shadow: 0px 1px 2px rgba(60, 64, 67, 0.3), 0px 1px 3px 1px rgba(60, 64, 67, 0.15);\n",
              "      fill: #174EA6;\n",
              "    }\n",
              "\n",
              "    .colab-df-buttons div {\n",
              "      margin-bottom: 4px;\n",
              "    }\n",
              "\n",
              "    [theme=dark] .colab-df-convert {\n",
              "      background-color: #3B4455;\n",
              "      fill: #D2E3FC;\n",
              "    }\n",
              "\n",
              "    [theme=dark] .colab-df-convert:hover {\n",
              "      background-color: #434B5C;\n",
              "      box-shadow: 0px 1px 3px 1px rgba(0, 0, 0, 0.15);\n",
              "      filter: drop-shadow(0px 1px 2px rgba(0, 0, 0, 0.3));\n",
              "      fill: #FFFFFF;\n",
              "    }\n",
              "  </style>\n",
              "\n",
              "    <script>\n",
              "      const buttonEl =\n",
              "        document.querySelector('#df-178fda66-c932-4ec9-91a1-30fbfcf9aa3b button.colab-df-convert');\n",
              "      buttonEl.style.display =\n",
              "        google.colab.kernel.accessAllowed ? 'block' : 'none';\n",
              "\n",
              "      async function convertToInteractive(key) {\n",
              "        const element = document.querySelector('#df-178fda66-c932-4ec9-91a1-30fbfcf9aa3b');\n",
              "        const dataTable =\n",
              "          await google.colab.kernel.invokeFunction('convertToInteractive',\n",
              "                                                    [key], {});\n",
              "        if (!dataTable) return;\n",
              "\n",
              "        const docLinkHtml = 'Like what you see? Visit the ' +\n",
              "          '<a target=\"_blank\" href=https://colab.research.google.com/notebooks/data_table.ipynb>data table notebook</a>'\n",
              "          + ' to learn more about interactive tables.';\n",
              "        element.innerHTML = '';\n",
              "        dataTable['output_type'] = 'display_data';\n",
              "        await google.colab.output.renderOutput(dataTable, element);\n",
              "        const docLink = document.createElement('div');\n",
              "        docLink.innerHTML = docLinkHtml;\n",
              "        element.appendChild(docLink);\n",
              "      }\n",
              "    </script>\n",
              "  </div>\n",
              "\n",
              "\n",
              "<div id=\"df-7af23e9b-434d-46b6-b522-b5286da03052\">\n",
              "  <button class=\"colab-df-quickchart\" onclick=\"quickchart('df-7af23e9b-434d-46b6-b522-b5286da03052')\"\n",
              "            title=\"Suggest charts\"\n",
              "            style=\"display:none;\">\n",
              "\n",
              "<svg xmlns=\"http://www.w3.org/2000/svg\" height=\"24px\"viewBox=\"0 0 24 24\"\n",
              "     width=\"24px\">\n",
              "    <g>\n",
              "        <path d=\"M19 3H5c-1.1 0-2 .9-2 2v14c0 1.1.9 2 2 2h14c1.1 0 2-.9 2-2V5c0-1.1-.9-2-2-2zM9 17H7v-7h2v7zm4 0h-2V7h2v10zm4 0h-2v-4h2v4z\"/>\n",
              "    </g>\n",
              "</svg>\n",
              "  </button>\n",
              "\n",
              "<style>\n",
              "  .colab-df-quickchart {\n",
              "      --bg-color: #E8F0FE;\n",
              "      --fill-color: #1967D2;\n",
              "      --hover-bg-color: #E2EBFA;\n",
              "      --hover-fill-color: #174EA6;\n",
              "      --disabled-fill-color: #AAA;\n",
              "      --disabled-bg-color: #DDD;\n",
              "  }\n",
              "\n",
              "  [theme=dark] .colab-df-quickchart {\n",
              "      --bg-color: #3B4455;\n",
              "      --fill-color: #D2E3FC;\n",
              "      --hover-bg-color: #434B5C;\n",
              "      --hover-fill-color: #FFFFFF;\n",
              "      --disabled-bg-color: #3B4455;\n",
              "      --disabled-fill-color: #666;\n",
              "  }\n",
              "\n",
              "  .colab-df-quickchart {\n",
              "    background-color: var(--bg-color);\n",
              "    border: none;\n",
              "    border-radius: 50%;\n",
              "    cursor: pointer;\n",
              "    display: none;\n",
              "    fill: var(--fill-color);\n",
              "    height: 32px;\n",
              "    padding: 0;\n",
              "    width: 32px;\n",
              "  }\n",
              "\n",
              "  .colab-df-quickchart:hover {\n",
              "    background-color: var(--hover-bg-color);\n",
              "    box-shadow: 0 1px 2px rgba(60, 64, 67, 0.3), 0 1px 3px 1px rgba(60, 64, 67, 0.15);\n",
              "    fill: var(--button-hover-fill-color);\n",
              "  }\n",
              "\n",
              "  .colab-df-quickchart-complete:disabled,\n",
              "  .colab-df-quickchart-complete:disabled:hover {\n",
              "    background-color: var(--disabled-bg-color);\n",
              "    fill: var(--disabled-fill-color);\n",
              "    box-shadow: none;\n",
              "  }\n",
              "\n",
              "  .colab-df-spinner {\n",
              "    border: 2px solid var(--fill-color);\n",
              "    border-color: transparent;\n",
              "    border-bottom-color: var(--fill-color);\n",
              "    animation:\n",
              "      spin 1s steps(1) infinite;\n",
              "  }\n",
              "\n",
              "  @keyframes spin {\n",
              "    0% {\n",
              "      border-color: transparent;\n",
              "      border-bottom-color: var(--fill-color);\n",
              "      border-left-color: var(--fill-color);\n",
              "    }\n",
              "    20% {\n",
              "      border-color: transparent;\n",
              "      border-left-color: var(--fill-color);\n",
              "      border-top-color: var(--fill-color);\n",
              "    }\n",
              "    30% {\n",
              "      border-color: transparent;\n",
              "      border-left-color: var(--fill-color);\n",
              "      border-top-color: var(--fill-color);\n",
              "      border-right-color: var(--fill-color);\n",
              "    }\n",
              "    40% {\n",
              "      border-color: transparent;\n",
              "      border-right-color: var(--fill-color);\n",
              "      border-top-color: var(--fill-color);\n",
              "    }\n",
              "    60% {\n",
              "      border-color: transparent;\n",
              "      border-right-color: var(--fill-color);\n",
              "    }\n",
              "    80% {\n",
              "      border-color: transparent;\n",
              "      border-right-color: var(--fill-color);\n",
              "      border-bottom-color: var(--fill-color);\n",
              "    }\n",
              "    90% {\n",
              "      border-color: transparent;\n",
              "      border-bottom-color: var(--fill-color);\n",
              "    }\n",
              "  }\n",
              "</style>\n",
              "\n",
              "  <script>\n",
              "    async function quickchart(key) {\n",
              "      const quickchartButtonEl =\n",
              "        document.querySelector('#' + key + ' button');\n",
              "      quickchartButtonEl.disabled = true;  // To prevent multiple clicks.\n",
              "      quickchartButtonEl.classList.add('colab-df-spinner');\n",
              "      try {\n",
              "        const charts = await google.colab.kernel.invokeFunction(\n",
              "            'suggestCharts', [key], {});\n",
              "      } catch (error) {\n",
              "        console.error('Error during call to suggestCharts:', error);\n",
              "      }\n",
              "      quickchartButtonEl.classList.remove('colab-df-spinner');\n",
              "      quickchartButtonEl.classList.add('colab-df-quickchart-complete');\n",
              "    }\n",
              "    (() => {\n",
              "      let quickchartButtonEl =\n",
              "        document.querySelector('#df-7af23e9b-434d-46b6-b522-b5286da03052 button');\n",
              "      quickchartButtonEl.style.display =\n",
              "        google.colab.kernel.accessAllowed ? 'block' : 'none';\n",
              "    })();\n",
              "  </script>\n",
              "</div>\n",
              "    </div>\n",
              "  </div>\n"
            ]
          },
          "metadata": {},
          "execution_count": 41
        }
      ],
      "source": [
        "df_new.head(10)"
      ]
    },
    {
      "cell_type": "markdown",
      "metadata": {
        "id": "jVMr6XUee0Y6"
      },
      "source": [
        "## simpan hasil preprocessing"
      ]
    },
    {
      "cell_type": "code",
      "execution_count": 42,
      "metadata": {
        "id": "GGZFw6G9evQG",
        "tags": []
      },
      "outputs": [],
      "source": [
        "df_new.to_csv('clean_dataset_part01.csv',sep=\";\")"
      ]
    },
    {
      "cell_type": "markdown",
      "metadata": {
        "id": "MrkJ4dCTe-_J"
      },
      "source": [
        "# Penataan Data"
      ]
    },
    {
      "cell_type": "markdown",
      "metadata": {
        "id": "llyNObWFMbT_"
      },
      "source": [
        "## pembagian fitur dan label"
      ]
    },
    {
      "cell_type": "code",
      "execution_count": 43,
      "metadata": {
        "id": "yNpmt4magLnx",
        "tags": []
      },
      "outputs": [],
      "source": [
        "import pandas as pd\n",
        "import numpy as np"
      ]
    },
    {
      "cell_type": "code",
      "execution_count": 44,
      "metadata": {
        "id": "6uHL0jjJLjJo",
        "tags": []
      },
      "outputs": [],
      "source": [
        "dataset = pd.read_csv('clean_dataset_part01.csv',sep=\";\")"
      ]
    },
    {
      "cell_type": "code",
      "execution_count": 45,
      "metadata": {
        "colab": {
          "base_uri": "https://localhost:8080/"
        },
        "id": "jxvzWAcdyKRD",
        "outputId": "1745f0fd-1c57-4a47-dfc8-0dbee6700c8c",
        "tags": []
      },
      "outputs": [
        {
          "output_type": "stream",
          "name": "stdout",
          "text": [
            "<class 'pandas.core.frame.DataFrame'>\n",
            "RangeIndex: 903 entries, 0 to 902\n",
            "Data columns (total 9 columns):\n",
            " #   Column            Non-Null Count  Dtype  \n",
            "---  ------            --------------  -----  \n",
            " 0   Unnamed: 0        903 non-null    int64  \n",
            " 1   Tweet             903 non-null    object \n",
            " 2   Sentimen          903 non-null    float64\n",
            " 3   step01            903 non-null    object \n",
            " 4   tokens            903 non-null    object \n",
            " 5   tokens_perbaikan  903 non-null    object \n",
            " 6   Stop_removal      903 non-null    object \n",
            " 7   step02            903 non-null    object \n",
            " 8   ProcessedText     903 non-null    object \n",
            "dtypes: float64(1), int64(1), object(7)\n",
            "memory usage: 63.6+ KB\n"
          ]
        }
      ],
      "source": [
        "dataset.info()"
      ]
    },
    {
      "cell_type": "code",
      "execution_count": 46,
      "metadata": {
        "id": "2CQhuVgALr0J",
        "tags": []
      },
      "outputs": [],
      "source": [
        "dataset_feature = dataset['ProcessedText'].astype(str)"
      ]
    },
    {
      "cell_type": "code",
      "execution_count": 47,
      "metadata": {
        "colab": {
          "base_uri": "https://localhost:8080/"
        },
        "id": "nhOB8hceMQhE",
        "outputId": "0cca7187-82c5-46cb-c487-6556e35dafa1",
        "tags": []
      },
      "outputs": [
        {
          "output_type": "execute_result",
          "data": {
            "text/plain": [
              "0    lemes banget iya mulut beli beli obat mikirr d...\n",
              "1    cegah mata rantai covid number mari rumah ming...\n",
              "2    mohon yaallah moga wabah covid number hilang r...\n",
              "3    pemprov papua naik status tanggap darurat covi...\n",
              "4                 covid nyampe prigen mbak aduh bohong\n",
              "5    nyuruh orang pintar togog kerumun orang nulari...\n",
              "6               pikir2 mnde plk nk setelkn lepas covid\n",
              "7    selamat pagi jum at jum at empat pandemi covid...\n",
              "8    hikmah musibah covid number moga jabat perinta...\n",
              "9    cegah covid number serta jajar polsek ranji ak...\n",
              "Name: ProcessedText, dtype: object"
            ]
          },
          "metadata": {},
          "execution_count": 47
        }
      ],
      "source": [
        "dataset_feature.head(10)"
      ]
    },
    {
      "cell_type": "code",
      "execution_count": 48,
      "metadata": {
        "id": "V0JQGHvqMQw3",
        "tags": []
      },
      "outputs": [],
      "source": [
        "dataset_label = dataset['Sentimen']"
      ]
    },
    {
      "cell_type": "code",
      "execution_count": 49,
      "metadata": {
        "colab": {
          "base_uri": "https://localhost:8080/"
        },
        "id": "3uxBA6OiMUy_",
        "outputId": "84f62820-0634-4fa0-fe56-2ca1e9d6458c",
        "tags": []
      },
      "outputs": [
        {
          "output_type": "execute_result",
          "data": {
            "text/plain": [
              "0   -1.0\n",
              "1    1.0\n",
              "2    1.0\n",
              "3    1.0\n",
              "4    0.0\n",
              "5   -1.0\n",
              "6    0.0\n",
              "7    1.0\n",
              "8    1.0\n",
              "9    1.0\n",
              "Name: Sentimen, dtype: float64"
            ]
          },
          "metadata": {},
          "execution_count": 49
        }
      ],
      "source": [
        "dataset_label.head(10)"
      ]
    },
    {
      "cell_type": "markdown",
      "metadata": {
        "id": "iCSb35pwMXvP"
      },
      "source": [
        "## distribusi label"
      ]
    },
    {
      "cell_type": "code",
      "execution_count": 50,
      "metadata": {
        "id": "dYRcULM9MaJm",
        "tags": []
      },
      "outputs": [],
      "source": [
        "import matplotlib.pyplot as plt\n",
        "import seaborn as sns\n",
        "%matplotlib inline"
      ]
    },
    {
      "cell_type": "code",
      "execution_count": 51,
      "metadata": {
        "colab": {
          "base_uri": "https://localhost:8080/",
          "height": 790
        },
        "id": "FtY6ATtHMgfh",
        "outputId": "2ceef430-48cb-4562-8633-fceec61afc48",
        "tags": []
      },
      "outputs": [
        {
          "output_type": "stream",
          "name": "stderr",
          "text": [
            "<ipython-input-51-6b19bd2067b7>:3: UserWarning: \n",
            "\n",
            "`distplot` is a deprecated function and will be removed in seaborn v0.14.0.\n",
            "\n",
            "Please adapt your code to use either `displot` (a figure-level function with\n",
            "similar flexibility) or `histplot` (an axes-level function for histograms).\n",
            "\n",
            "For a guide to updating your code to use the new functions, please see\n",
            "https://gist.github.com/mwaskom/de44147ed2974457ad6372750bbe5751\n",
            "\n",
            "  sns.distplot(dataset_label, label=f'target, skew: {dataset_label.skew():.2f}')\n"
          ]
        },
        {
          "output_type": "display_data",
          "data": {
            "text/plain": [
              "<Figure size 1200x800 with 1 Axes>"
            ],
            "image/png": "[encoded data removed]"
          },
          "metadata": {}
        }
      ],
      "source": [
        "# Visualizing the target variable\n",
        "plt.figure(figsize=(12,8))\n",
        "sns.distplot(dataset_label, label=f'target, skew: {dataset_label.skew():.2f}')\n",
        "plt.legend(loc='best')\n",
        "plt.show()"
      ]
    },
    {
      "cell_type": "code",
      "execution_count": 52,
      "metadata": {
        "colab": {
          "base_uri": "https://localhost:8080/"
        },
        "id": "zvqzsl49MheB",
        "outputId": "c522da1a-5526-41ee-e253-9dfa8c6bb64f",
        "tags": []
      },
      "outputs": [
        {
          "output_type": "execute_result",
          "data": {
            "text/plain": [
              " 1.0    441\n",
              " 0.0    266\n",
              "-1.0    196\n",
              "Name: Sentimen, dtype: int64"
            ]
          },
          "metadata": {},
          "execution_count": 52
        }
      ],
      "source": [
        "dataset_label.value_counts()"
      ]
    },
    {
      "cell_type": "markdown",
      "metadata": {
        "id": "AjkdN3kOMk_I"
      },
      "source": [
        "# Ekstraksi Fitur dan Machine Learning"
      ]
    },
    {
      "cell_type": "code",
      "execution_count": 53,
      "metadata": {
        "id": "-aMoIuqfMkYK",
        "tags": []
      },
      "outputs": [],
      "source": [
        "from sklearn.model_selection import GridSearchCV\n",
        "from sklearn.metrics import accuracy_score\n",
        "from sklearn.metrics import recall_score\n",
        "from sklearn.metrics import f1_score\n",
        "from sklearn.metrics import precision_score\n",
        "from sklearn.model_selection import train_test_split"
      ]
    },
    {
      "cell_type": "code",
      "execution_count": 54,
      "metadata": {
        "id": "JDw5U3eRMx1K",
        "tags": []
      },
      "outputs": [],
      "source": [
        "train_x, test_x, train_label, test_label = train_test_split(dataset_feature, dataset_label, test_size = 0.3, random_state=42)"
      ]
    },
    {
      "cell_type": "code",
      "execution_count": 55,
      "metadata": {
        "tags": [],
        "id": "sqYI4KYH9W1Q",
        "outputId": "af650c76-7f36-4d0f-d10f-6f1440284208",
        "colab": {
          "base_uri": "https://localhost:8080/"
        }
      },
      "outputs": [
        {
          "output_type": "execute_result",
          "data": {
            "text/plain": [
              "70     tips ilmuwan tingkat kebal tubuh mari lawan co...\n",
              "457    cegah covid number serta jajar polsek ranji ak...\n",
              "218    warga kabupaten lampung utara nyata positif pa...\n",
              "250    mimpi malam allcaps psbb allcaps tahan batal c...\n",
              "39     ayo elongated repeated putus mata rantai seman...\n",
              "                             ...                        \n",
              "864          orang bahaya covid number lurus belok pergi\n",
              "638    halo gerak lawan covid number ayo juang inform...\n",
              "352    personil polsek karanglewas laksana patroli ma...\n",
              "465    amal langkah langkah cegah tular allcaps covid...\n",
              "640    wakakakkaka repeated puter cahaya tolong time ...\n",
              "Name: ProcessedText, Length: 271, dtype: object"
            ]
          },
          "metadata": {},
          "execution_count": 55
        }
      ],
      "source": [
        "test_x"
      ]
    },
    {
      "cell_type": "markdown",
      "metadata": {
        "id": "vPvBu0LrM0oD"
      },
      "source": [
        "## load TF-IDF"
      ]
    },
    {
      "cell_type": "code",
      "execution_count": 56,
      "metadata": {
        "id": "XwzScubZMzgY",
        "tags": []
      },
      "outputs": [],
      "source": [
        "from sklearn.feature_extraction.text import TfidfVectorizer\n",
        "Tfidf_Vectorizer = TfidfVectorizer()"
      ]
    },
    {
      "cell_type": "markdown",
      "metadata": {
        "id": "sYaLrOg2M5AP"
      },
      "source": [
        "## Naive Bayes"
      ]
    },
    {
      "cell_type": "code",
      "execution_count": 71,
      "metadata": {
        "id": "2i-BhMXXM4FS",
        "tags": []
      },
      "outputs": [],
      "source": [
        "from sklearn.naive_bayes import MultinomialNB"
      ]
    },
    {
      "cell_type": "code",
      "execution_count": 72,
      "metadata": {
        "id": "2qSlLSEGM7sa",
        "tags": []
      },
      "outputs": [],
      "source": [
        "from sklearn.pipeline import Pipeline\n",
        "classifier_nb = Pipeline([\n",
        "    ('tfidf', TfidfVectorizer()),\n",
        "    ('model', MultinomialNB()),\n",
        "])"
      ]
    },
    {
      "cell_type": "code",
      "execution_count": 73,
      "metadata": {
        "id": "brvxUKO0M87t",
        "tags": []
      },
      "outputs": [],
      "source": [
        "parameters_nb = {\n",
        "    'tfidf__ngram_range': [(1, 1), (1, 2), (1, 3), (1, 4)],\n",
        "    'model__alpha': (0.0001, 0.001, 0.1, 1, 10, 100)\n",
        "}"
      ]
    },
    {
      "cell_type": "code",
      "execution_count": 74,
      "metadata": {
        "id": "UEQHo9ZoNACG",
        "tags": []
      },
      "outputs": [],
      "source": [
        "classifier_nb = GridSearchCV(classifier_nb, parameters_nb, cv = 3, n_jobs=-1)"
      ]
    },
    {
      "cell_type": "code",
      "execution_count": 75,
      "metadata": {
        "colab": {
          "base_uri": "https://localhost:8080/",
          "height": 150
        },
        "id": "Y64S8WkyNBoL",
        "outputId": "1d3a2b28-f383-4cfc-97d5-d394e7826fa5",
        "tags": []
      },
      "outputs": [
        {
          "output_type": "execute_result",
          "data": {
            "text/plain": [
              "GridSearchCV(cv=3,\n",
              "             estimator=Pipeline(steps=[('tfidf', TfidfVectorizer()),\n",
              "                                       ('model', MultinomialNB())]),\n",
              "             n_jobs=-1,\n",
              "             param_grid={'model__alpha': (0.0001, 0.001, 0.1, 1, 10, 100),\n",
              "                         'tfidf__ngram_range': [(1, 1), (1, 2), (1, 3),\n",
              "                                                (1, 4)]})"
            ],
            "text/html": [
              "<style>#sk-container-id-2 {color: black;background-color: white;}#sk-container-id-2 pre{padding: 0;}#sk-container-id-2 div.sk-toggleable {background-color: white;}#sk-container-id-2 label.sk-toggleable__label {cursor: pointer;display: block;width: 100%;margin-bottom: 0;padding: 0.3em;box-sizing: border-box;text-align: center;}#sk-container-id-2 label.sk-toggleable__label-arrow:before {content: \"▸\";float: left;margin-right: 0.25em;color: #696969;}#sk-container-id-2 label.sk-toggleable__label-arrow:hover:before {color: black;}#sk-container-id-2 div.sk-estimator:hover label.sk-toggleable__label-arrow:before {color: black;}#sk-container-id-2 div.sk-toggleable__content {max-height: 0;max-width: 0;overflow: hidden;text-align: left;background-color: #f0f8ff;}#sk-container-id-2 div.sk-toggleable__content pre {margin: 0.2em;color: black;border-radius: 0.25em;background-color: #f0f8ff;}#sk-container-id-2 input.sk-toggleable__control:checked~div.sk-toggleable__content {max-height: 200px;max-width: 100%;overflow: auto;}#sk-container-id-2 input.sk-toggleable__control:checked~label.sk-toggleable__label-arrow:before {content: \"▾\";}#sk-container-id-2 div.sk-estimator input.sk-toggleable__control:checked~label.sk-toggleable__label {background-color: #d4ebff;}#sk-container-id-2 div.sk-label input.sk-toggleable__control:checked~label.sk-toggleable__label {background-color: #d4ebff;}#sk-container-id-2 input.sk-hidden--visually {border: 0;clip: rect(1px 1px 1px 1px);clip: rect(1px, 1px, 1px, 1px);height: 1px;margin: -1px;overflow: hidden;padding: 0;position: absolute;width: 1px;}#sk-container-id-2 div.sk-estimator {font-family: monospace;background-color: #f0f8ff;border: 1px dotted black;border-radius: 0.25em;box-sizing: border-box;margin-bottom: 0.5em;}#sk-container-id-2 div.sk-estimator:hover {background-color: #d4ebff;}#sk-container-id-2 div.sk-parallel-item::after {content: \"\";width: 100%;border-bottom: 1px solid gray;flex-grow: 1;}#sk-container-id-2 div.sk-label:hover label.sk-toggleable__label {background-color: #d4ebff;}#sk-container-id-2 div.sk-serial::before {content: \"\";position: absolute;border-left: 1px solid gray;box-sizing: border-box;top: 0;bottom: 0;left: 50%;z-index: 0;}#sk-container-id-2 div.sk-serial {display: flex;flex-direction: column;align-items: center;background-color: white;padding-right: 0.2em;padding-left: 0.2em;position: relative;}#sk-container-id-2 div.sk-item {position: relative;z-index: 1;}#sk-container-id-2 div.sk-parallel {display: flex;align-items: stretch;justify-content: center;background-color: white;position: relative;}#sk-container-id-2 div.sk-item::before, #sk-container-id-2 div.sk-parallel-item::before {content: \"\";position: absolute;border-left: 1px solid gray;box-sizing: border-box;top: 0;bottom: 0;left: 50%;z-index: -1;}#sk-container-id-2 div.sk-parallel-item {display: flex;flex-direction: column;z-index: 1;position: relative;background-color: white;}#sk-container-id-2 div.sk-parallel-item:first-child::after {align-self: flex-end;width: 50%;}#sk-container-id-2 div.sk-parallel-item:last-child::after {align-self: flex-start;width: 50%;}#sk-container-id-2 div.sk-parallel-item:only-child::after {width: 0;}#sk-container-id-2 div.sk-dashed-wrapped {border: 1px dashed gray;margin: 0 0.4em 0.5em 0.4em;box-sizing: border-box;padding-bottom: 0.4em;background-color: white;}#sk-container-id-2 div.sk-label label {font-family: monospace;font-weight: bold;display: inline-block;line-height: 1.2em;}#sk-container-id-2 div.sk-label-container {text-align: center;}#sk-container-id-2 div.sk-container {/* jupyter's `normalize.less` sets `[hidden] { display: none; }` but bootstrap.min.css set `[hidden] { display: none !important; }` so we also need the `!important` here to be able to override the default hidden behavior on the sphinx rendered scikit-learn.org. See: https://github.com/scikit-learn/scikit-learn/issues/21755 */display: inline-block !important;position: relative;}#sk-container-id-2 div.sk-text-repr-fallback {display: none;}</style><div id=\"sk-container-id-2\" class=\"sk-top-container\"><div class=\"sk-text-repr-fallback\"><pre>GridSearchCV(cv=3,\n",
              "             estimator=Pipeline(steps=[(&#x27;tfidf&#x27;, TfidfVectorizer()),\n",
              "                                       (&#x27;model&#x27;, MultinomialNB())]),\n",
              "             n_jobs=-1,\n",
              "             param_grid={&#x27;model__alpha&#x27;: (0.0001, 0.001, 0.1, 1, 10, 100),\n",
              "                         &#x27;tfidf__ngram_range&#x27;: [(1, 1), (1, 2), (1, 3),\n",
              "                                                (1, 4)]})</pre><b>In a Jupyter environment, please rerun this cell to show the HTML representation or trust the notebook. <br />On GitHub, the HTML representation is unable to render, please try loading this page with nbviewer.org.</b></div><div class=\"sk-container\" hidden><div class=\"sk-item sk-dashed-wrapped\"><div class=\"sk-label-container\"><div class=\"sk-label sk-toggleable\"><input class=\"sk-toggleable__control sk-hidden--visually\" id=\"sk-estimator-id-5\" type=\"checkbox\" ><label for=\"sk-estimator-id-5\" class=\"sk-toggleable__label sk-toggleable__label-arrow\">GridSearchCV</label><div class=\"sk-toggleable__content\"><pre>GridSearchCV(cv=3,\n",
              "             estimator=Pipeline(steps=[(&#x27;tfidf&#x27;, TfidfVectorizer()),\n",
              "                                       (&#x27;model&#x27;, MultinomialNB())]),\n",
              "             n_jobs=-1,\n",
              "             param_grid={&#x27;model__alpha&#x27;: (0.0001, 0.001, 0.1, 1, 10, 100),\n",
              "                         &#x27;tfidf__ngram_range&#x27;: [(1, 1), (1, 2), (1, 3),\n",
              "                                                (1, 4)]})</pre></div></div></div><div class=\"sk-parallel\"><div class=\"sk-parallel-item\"><div class=\"sk-item\"><div class=\"sk-label-container\"><div class=\"sk-label sk-toggleable\"><input class=\"sk-toggleable__control sk-hidden--visually\" id=\"sk-estimator-id-6\" type=\"checkbox\" ><label for=\"sk-estimator-id-6\" class=\"sk-toggleable__label sk-toggleable__label-arrow\">estimator: Pipeline</label><div class=\"sk-toggleable__content\"><pre>Pipeline(steps=[(&#x27;tfidf&#x27;, TfidfVectorizer()), (&#x27;model&#x27;, MultinomialNB())])</pre></div></div></div><div class=\"sk-serial\"><div class=\"sk-item\"><div class=\"sk-serial\"><div class=\"sk-item\"><div class=\"sk-estimator sk-toggleable\"><input class=\"sk-toggleable__control sk-hidden--visually\" id=\"sk-estimator-id-7\" type=\"checkbox\" ><label for=\"sk-estimator-id-7\" class=\"sk-toggleable__label sk-toggleable__label-arrow\">TfidfVectorizer</label><div class=\"sk-toggleable__content\"><pre>TfidfVectorizer()</pre></div></div></div><div class=\"sk-item\"><div class=\"sk-estimator sk-toggleable\"><input class=\"sk-toggleable__control sk-hidden--visually\" id=\"sk-estimator-id-8\" type=\"checkbox\" ><label for=\"sk-estimator-id-8\" class=\"sk-toggleable__label sk-toggleable__label-arrow\">MultinomialNB</label><div class=\"sk-toggleable__content\"><pre>MultinomialNB()</pre></div></div></div></div></div></div></div></div></div></div></div></div>"
            ]
          },
          "metadata": {},
          "execution_count": 75
        }
      ],
      "source": [
        "classifier_nb.fit(train_x, train_label.ravel())"
      ]
    },
    {
      "cell_type": "code",
      "execution_count": 76,
      "metadata": {
        "colab": {
          "base_uri": "https://localhost:8080/"
        },
        "id": "ffb4ytJlNC0F",
        "outputId": "355de1f3-7d9c-4a64-ad09-b084ee8b47b9",
        "tags": []
      },
      "outputs": [
        {
          "output_type": "stream",
          "name": "stdout",
          "text": [
            "Accuracy Training set:  0.9762658227848101\n",
            "Accuracy Test set:  0.5904059040590406\n"
          ]
        }
      ],
      "source": [
        "y_pred_nb_train = classifier_nb.predict(train_x)\n",
        "accuracy_nb_train = accuracy_score(train_label, y_pred_nb_train)\n",
        "print(\"Accuracy Training set: \", accuracy_nb_train)\n",
        "\n",
        "y_pred_nb_test = classifier_nb.predict(test_x)\n",
        "accuracy_nb_test = accuracy_score(test_label, y_pred_nb_test)\n",
        "print(\"Accuracy Test set: \", accuracy_nb_test)"
      ]
    },
    {
      "cell_type": "code",
      "execution_count": 77,
      "metadata": {
        "colab": {
          "base_uri": "https://localhost:8080/"
        },
        "id": "JxAILTVzNEeq",
        "outputId": "0b787392-bc2d-4b3a-ba60-8168d20dd233",
        "tags": []
      },
      "outputs": [
        {
          "output_type": "stream",
          "name": "stdout",
          "text": [
            "Recall Training set:  0.9762658227848101\n",
            "Recall Test set:  0.5904059040590406\n"
          ]
        }
      ],
      "source": [
        "recall_nb_train = recall_score(train_label, y_pred_nb_train, average='weighted')\n",
        "print(\"Recall Training set: \", recall_nb_train)\n",
        "\n",
        "recall_nb_test = recall_score(test_label, y_pred_nb_test, average='weighted')\n",
        "print(\"Recall Test set: \", recall_nb_test)"
      ]
    },
    {
      "cell_type": "code",
      "execution_count": 78,
      "metadata": {
        "colab": {
          "base_uri": "https://localhost:8080/"
        },
        "id": "CZtIV1euNF69",
        "outputId": "b919c440-6e87-4d31-e65d-235bf20d4828",
        "tags": []
      },
      "outputs": [
        {
          "output_type": "stream",
          "name": "stdout",
          "text": [
            "Precision Training set:  0.9763676139089341\n",
            "Precision Test set:  0.569541371806291\n"
          ]
        }
      ],
      "source": [
        "precision_nb_train = precision_score(train_label, y_pred_nb_train, average='weighted')\n",
        "print(\"Precision Training set: \", precision_nb_train)\n",
        "\n",
        "precision_nb_test = precision_score(test_label, y_pred_nb_test, average='weighted')\n",
        "print(\"Precision Test set: \", precision_nb_test)"
      ]
    },
    {
      "cell_type": "code",
      "execution_count": 79,
      "metadata": {
        "colab": {
          "base_uri": "https://localhost:8080/"
        },
        "id": "-9gyuq9rNHWf",
        "outputId": "dc4b6d3f-75e9-4fc4-d33e-03abfea2f5a0",
        "tags": []
      },
      "outputs": [
        {
          "output_type": "stream",
          "name": "stdout",
          "text": [
            "F1 Training set:  0.9762757318902684\n",
            "F1 Test set:  0.5723164269765864\n"
          ]
        }
      ],
      "source": [
        "f1_nb_train = f1_score(train_label, y_pred_nb_train, average='weighted')\n",
        "print(\"F1 Training set: \", f1_nb_train)\n",
        "\n",
        "f1_nb_test = f1_score(test_label, y_pred_nb_test, average='weighted')\n",
        "print(\"F1 Test set: \", f1_nb_test)"
      ]
    },
    {
      "cell_type": "code",
      "execution_count": 80,
      "metadata": {
        "colab": {
          "base_uri": "https://localhost:8080/",
          "height": 509
        },
        "id": "-zZjJnhVNIjD",
        "outputId": "ad649e6b-ae7a-4567-be10-1423b989faf0",
        "tags": []
      },
      "outputs": [
        {
          "output_type": "display_data",
          "data": {
            "text/plain": [
              "<Figure size 640x480 with 2 Axes>"
            ],
            "image/png": "[encoded data removed]"
          },
          "metadata": {}
        }
      ],
      "source": [
        "from sklearn.metrics import confusion_matrix\n",
        "sns.heatmap(confusion_matrix(test_label, y_pred_nb_test), annot=True, cmap = 'viridis', fmt='.0f')\n",
        "plt.xlabel(\"Predicted values\", fontdict = {'size':14}, labelpad = 10)\n",
        "plt.ylabel(\"Actual values\"   , fontdict = {'size':14}, labelpad = 10)\n",
        "plt.title (\"Confusion Matrix\", fontdict = {'size':18}, pad = 20)\n",
        "plt.show()"
      ]
    },
    {
      "cell_type": "code",
      "execution_count": 81,
      "metadata": {
        "colab": {
          "base_uri": "https://localhost:8080/",
          "height": 124
        },
        "id": "DCTkN29ENJrT",
        "outputId": "c698240c-08bb-41e4-91dc-0230982db008",
        "tags": []
      },
      "outputs": [
        {
          "output_type": "execute_result",
          "data": {
            "text/plain": [
              "Pipeline(steps=[('tfidf', TfidfVectorizer()),\n",
              "                ('model', MultinomialNB(alpha=0.1))])"
            ],
            "text/html": [
              "<style>#sk-container-id-3 {color: black;background-color: white;}#sk-container-id-3 pre{padding: 0;}#sk-container-id-3 div.sk-toggleable {background-color: white;}#sk-container-id-3 label.sk-toggleable__label {cursor: pointer;display: block;width: 100%;margin-bottom: 0;padding: 0.3em;box-sizing: border-box;text-align: center;}#sk-container-id-3 label.sk-toggleable__label-arrow:before {content: \"▸\";float: left;margin-right: 0.25em;color: #696969;}#sk-container-id-3 label.sk-toggleable__label-arrow:hover:before {color: black;}#sk-container-id-3 div.sk-estimator:hover label.sk-toggleable__label-arrow:before {color: black;}#sk-container-id-3 div.sk-toggleable__content {max-height: 0;max-width: 0;overflow: hidden;text-align: left;background-color: #f0f8ff;}#sk-container-id-3 div.sk-toggleable__content pre {margin: 0.2em;color: black;border-radius: 0.25em;background-color: #f0f8ff;}#sk-container-id-3 input.sk-toggleable__control:checked~div.sk-toggleable__content {max-height: 200px;max-width: 100%;overflow: auto;}#sk-container-id-3 input.sk-toggleable__control:checked~label.sk-toggleable__label-arrow:before {content: \"▾\";}#sk-container-id-3 div.sk-estimator input.sk-toggleable__control:checked~label.sk-toggleable__label {background-color: #d4ebff;}#sk-container-id-3 div.sk-label input.sk-toggleable__control:checked~label.sk-toggleable__label {background-color: #d4ebff;}#sk-container-id-3 input.sk-hidden--visually {border: 0;clip: rect(1px 1px 1px 1px);clip: rect(1px, 1px, 1px, 1px);height: 1px;margin: -1px;overflow: hidden;padding: 0;position: absolute;width: 1px;}#sk-container-id-3 div.sk-estimator {font-family: monospace;background-color: #f0f8ff;border: 1px dotted black;border-radius: 0.25em;box-sizing: border-box;margin-bottom: 0.5em;}#sk-container-id-3 div.sk-estimator:hover {background-color: #d4ebff;}#sk-container-id-3 div.sk-parallel-item::after {content: \"\";width: 100%;border-bottom: 1px solid gray;flex-grow: 1;}#sk-container-id-3 div.sk-label:hover label.sk-toggleable__label {background-color: #d4ebff;}#sk-container-id-3 div.sk-serial::before {content: \"\";position: absolute;border-left: 1px solid gray;box-sizing: border-box;top: 0;bottom: 0;left: 50%;z-index: 0;}#sk-container-id-3 div.sk-serial {display: flex;flex-direction: column;align-items: center;background-color: white;padding-right: 0.2em;padding-left: 0.2em;position: relative;}#sk-container-id-3 div.sk-item {position: relative;z-index: 1;}#sk-container-id-3 div.sk-parallel {display: flex;align-items: stretch;justify-content: center;background-color: white;position: relative;}#sk-container-id-3 div.sk-item::before, #sk-container-id-3 div.sk-parallel-item::before {content: \"\";position: absolute;border-left: 1px solid gray;box-sizing: border-box;top: 0;bottom: 0;left: 50%;z-index: -1;}#sk-container-id-3 div.sk-parallel-item {display: flex;flex-direction: column;z-index: 1;position: relative;background-color: white;}#sk-container-id-3 div.sk-parallel-item:first-child::after {align-self: flex-end;width: 50%;}#sk-container-id-3 div.sk-parallel-item:last-child::after {align-self: flex-start;width: 50%;}#sk-container-id-3 div.sk-parallel-item:only-child::after {width: 0;}#sk-container-id-3 div.sk-dashed-wrapped {border: 1px dashed gray;margin: 0 0.4em 0.5em 0.4em;box-sizing: border-box;padding-bottom: 0.4em;background-color: white;}#sk-container-id-3 div.sk-label label {font-family: monospace;font-weight: bold;display: inline-block;line-height: 1.2em;}#sk-container-id-3 div.sk-label-container {text-align: center;}#sk-container-id-3 div.sk-container {/* jupyter's `normalize.less` sets `[hidden] { display: none; }` but bootstrap.min.css set `[hidden] { display: none !important; }` so we also need the `!important` here to be able to override the default hidden behavior on the sphinx rendered scikit-learn.org. See: https://github.com/scikit-learn/scikit-learn/issues/21755 */display: inline-block !important;position: relative;}#sk-container-id-3 div.sk-text-repr-fallback {display: none;}</style><div id=\"sk-container-id-3\" class=\"sk-top-container\"><div class=\"sk-text-repr-fallback\"><pre>Pipeline(steps=[(&#x27;tfidf&#x27;, TfidfVectorizer()),\n",
              "                (&#x27;model&#x27;, MultinomialNB(alpha=0.1))])</pre><b>In a Jupyter environment, please rerun this cell to show the HTML representation or trust the notebook. <br />On GitHub, the HTML representation is unable to render, please try loading this page with nbviewer.org.</b></div><div class=\"sk-container\" hidden><div class=\"sk-item sk-dashed-wrapped\"><div class=\"sk-label-container\"><div class=\"sk-label sk-toggleable\"><input class=\"sk-toggleable__control sk-hidden--visually\" id=\"sk-estimator-id-9\" type=\"checkbox\" ><label for=\"sk-estimator-id-9\" class=\"sk-toggleable__label sk-toggleable__label-arrow\">Pipeline</label><div class=\"sk-toggleable__content\"><pre>Pipeline(steps=[(&#x27;tfidf&#x27;, TfidfVectorizer()),\n",
              "                (&#x27;model&#x27;, MultinomialNB(alpha=0.1))])</pre></div></div></div><div class=\"sk-serial\"><div class=\"sk-item\"><div class=\"sk-estimator sk-toggleable\"><input class=\"sk-toggleable__control sk-hidden--visually\" id=\"sk-estimator-id-10\" type=\"checkbox\" ><label for=\"sk-estimator-id-10\" class=\"sk-toggleable__label sk-toggleable__label-arrow\">TfidfVectorizer</label><div class=\"sk-toggleable__content\"><pre>TfidfVectorizer()</pre></div></div></div><div class=\"sk-item\"><div class=\"sk-estimator sk-toggleable\"><input class=\"sk-toggleable__control sk-hidden--visually\" id=\"sk-estimator-id-11\" type=\"checkbox\" ><label for=\"sk-estimator-id-11\" class=\"sk-toggleable__label sk-toggleable__label-arrow\">MultinomialNB</label><div class=\"sk-toggleable__content\"><pre>MultinomialNB(alpha=0.1)</pre></div></div></div></div></div></div></div>"
            ]
          },
          "metadata": {},
          "execution_count": 81
        }
      ],
      "source": [
        "classifier_nb.best_estimator_"
      ]
    },
    {
      "cell_type": "code",
      "execution_count": 82,
      "metadata": {
        "colab": {
          "base_uri": "https://localhost:8080/"
        },
        "id": "d1u8QJO_NLGt",
        "outputId": "0d8e453f-a67e-4ec4-bafe-bf7cd5377c1c",
        "tags": []
      },
      "outputs": [
        {
          "output_type": "stream",
          "name": "stdout",
          "text": [
            "model__alpha: 0.1\n",
            "tfidf__ngram_range: (1, 1)\n"
          ]
        }
      ],
      "source": [
        "for param_name in sorted(parameters_nb.keys()):\n",
        "    print(\"%s: %r\" % (param_name, classifier_nb.best_params_[param_name]))"
      ]
    },
    {
      "cell_type": "markdown",
      "metadata": {
        "id": "nK2mEQb_9W1T"
      },
      "source": [
        "## KNN"
      ]
    },
    {
      "cell_type": "code",
      "source": [
        "from sklearn.neighbors import KNeighborsClassifier\n"
      ],
      "metadata": {
        "id": "px551zp8ZdBW"
      },
      "execution_count": 83,
      "outputs": []
    },
    {
      "cell_type": "code",
      "execution_count": 84,
      "metadata": {
        "tags": [],
        "id": "bMUe15c-9W1T",
        "outputId": "5718912d-ebf7-45c5-d10f-b2626c4b5ee4",
        "colab": {
          "base_uri": "https://localhost:8080/"
        }
      },
      "outputs": [
        {
          "output_type": "execute_result",
          "data": {
            "text/plain": [
              "dtype('O')"
            ]
          },
          "metadata": {},
          "execution_count": 84
        }
      ],
      "source": [
        "train_x.dtype"
      ]
    },
    {
      "cell_type": "code",
      "execution_count": 85,
      "metadata": {
        "tags": [],
        "id": "4e3aVMLI9W1U"
      },
      "outputs": [],
      "source": [
        "from sklearn.preprocessing import LabelEncoder\n",
        "\n",
        "label_encoder = LabelEncoder()\n",
        "train_x_encoded = label_encoder.fit_transform(train_x)"
      ]
    },
    {
      "cell_type": "code",
      "execution_count": 86,
      "metadata": {
        "tags": [],
        "id": "rFtbBZaL9W1U"
      },
      "outputs": [],
      "source": [
        "test_x_encoded = label_encoder.fit_transform(test_x)"
      ]
    },
    {
      "cell_type": "code",
      "execution_count": 87,
      "metadata": {
        "tags": [],
        "id": "Os-baFhl9W1U",
        "outputId": "6f261a3b-38e8-4f13-c2eb-26a8a5b50269",
        "colab": {
          "base_uri": "https://localhost:8080/"
        }
      },
      "outputs": [
        {
          "output_type": "execute_result",
          "data": {
            "text/plain": [
              "dtype('int64')"
            ]
          },
          "metadata": {},
          "execution_count": 87
        }
      ],
      "source": [
        "train_x_encoded.dtype"
      ]
    },
    {
      "cell_type": "code",
      "execution_count": 88,
      "metadata": {
        "tags": [],
        "id": "jiAdZ4Vl9W1U"
      },
      "outputs": [],
      "source": [
        "train_x_encoded = train_x_encoded.reshape(-1, 1)"
      ]
    },
    {
      "cell_type": "code",
      "execution_count": 89,
      "metadata": {
        "tags": [],
        "id": "5p3bBs0U9W1U"
      },
      "outputs": [],
      "source": [
        "test_x_encoded = test_x_encoded.reshape(-1, 1)"
      ]
    },
    {
      "cell_type": "code",
      "execution_count": 90,
      "metadata": {
        "tags": [],
        "id": "fMnA4Oh99W1U",
        "outputId": "f190ba27-b63d-4b8a-d3f2-4a4582a10ff3",
        "colab": {
          "base_uri": "https://localhost:8080/",
          "height": 74
        }
      },
      "outputs": [
        {
          "output_type": "execute_result",
          "data": {
            "text/plain": [
              "KNeighborsClassifier(n_neighbors=3)"
            ],
            "text/html": [
              "<style>#sk-container-id-4 {color: black;background-color: white;}#sk-container-id-4 pre{padding: 0;}#sk-container-id-4 div.sk-toggleable {background-color: white;}#sk-container-id-4 label.sk-toggleable__label {cursor: pointer;display: block;width: 100%;margin-bottom: 0;padding: 0.3em;box-sizing: border-box;text-align: center;}#sk-container-id-4 label.sk-toggleable__label-arrow:before {content: \"▸\";float: left;margin-right: 0.25em;color: #696969;}#sk-container-id-4 label.sk-toggleable__label-arrow:hover:before {color: black;}#sk-container-id-4 div.sk-estimator:hover label.sk-toggleable__label-arrow:before {color: black;}#sk-container-id-4 div.sk-toggleable__content {max-height: 0;max-width: 0;overflow: hidden;text-align: left;background-color: #f0f8ff;}#sk-container-id-4 div.sk-toggleable__content pre {margin: 0.2em;color: black;border-radius: 0.25em;background-color: #f0f8ff;}#sk-container-id-4 input.sk-toggleable__control:checked~div.sk-toggleable__content {max-height: 200px;max-width: 100%;overflow: auto;}#sk-container-id-4 input.sk-toggleable__control:checked~label.sk-toggleable__label-arrow:before {content: \"▾\";}#sk-container-id-4 div.sk-estimator input.sk-toggleable__control:checked~label.sk-toggleable__label {background-color: #d4ebff;}#sk-container-id-4 div.sk-label input.sk-toggleable__control:checked~label.sk-toggleable__label {background-color: #d4ebff;}#sk-container-id-4 input.sk-hidden--visually {border: 0;clip: rect(1px 1px 1px 1px);clip: rect(1px, 1px, 1px, 1px);height: 1px;margin: -1px;overflow: hidden;padding: 0;position: absolute;width: 1px;}#sk-container-id-4 div.sk-estimator {font-family: monospace;background-color: #f0f8ff;border: 1px dotted black;border-radius: 0.25em;box-sizing: border-box;margin-bottom: 0.5em;}#sk-container-id-4 div.sk-estimator:hover {background-color: #d4ebff;}#sk-container-id-4 div.sk-parallel-item::after {content: \"\";width: 100%;border-bottom: 1px solid gray;flex-grow: 1;}#sk-container-id-4 div.sk-label:hover label.sk-toggleable__label {background-color: #d4ebff;}#sk-container-id-4 div.sk-serial::before {content: \"\";position: absolute;border-left: 1px solid gray;box-sizing: border-box;top: 0;bottom: 0;left: 50%;z-index: 0;}#sk-container-id-4 div.sk-serial {display: flex;flex-direction: column;align-items: center;background-color: white;padding-right: 0.2em;padding-left: 0.2em;position: relative;}#sk-container-id-4 div.sk-item {position: relative;z-index: 1;}#sk-container-id-4 div.sk-parallel {display: flex;align-items: stretch;justify-content: center;background-color: white;position: relative;}#sk-container-id-4 div.sk-item::before, #sk-container-id-4 div.sk-parallel-item::before {content: \"\";position: absolute;border-left: 1px solid gray;box-sizing: border-box;top: 0;bottom: 0;left: 50%;z-index: -1;}#sk-container-id-4 div.sk-parallel-item {display: flex;flex-direction: column;z-index: 1;position: relative;background-color: white;}#sk-container-id-4 div.sk-parallel-item:first-child::after {align-self: flex-end;width: 50%;}#sk-container-id-4 div.sk-parallel-item:last-child::after {align-self: flex-start;width: 50%;}#sk-container-id-4 div.sk-parallel-item:only-child::after {width: 0;}#sk-container-id-4 div.sk-dashed-wrapped {border: 1px dashed gray;margin: 0 0.4em 0.5em 0.4em;box-sizing: border-box;padding-bottom: 0.4em;background-color: white;}#sk-container-id-4 div.sk-label label {font-family: monospace;font-weight: bold;display: inline-block;line-height: 1.2em;}#sk-container-id-4 div.sk-label-container {text-align: center;}#sk-container-id-4 div.sk-container {/* jupyter's `normalize.less` sets `[hidden] { display: none; }` but bootstrap.min.css set `[hidden] { display: none !important; }` so we also need the `!important` here to be able to override the default hidden behavior on the sphinx rendered scikit-learn.org. See: https://github.com/scikit-learn/scikit-learn/issues/21755 */display: inline-block !important;position: relative;}#sk-container-id-4 div.sk-text-repr-fallback {display: none;}</style><div id=\"sk-container-id-4\" class=\"sk-top-container\"><div class=\"sk-text-repr-fallback\"><pre>KNeighborsClassifier(n_neighbors=3)</pre><b>In a Jupyter environment, please rerun this cell to show the HTML representation or trust the notebook. <br />On GitHub, the HTML representation is unable to render, please try loading this page with nbviewer.org.</b></div><div class=\"sk-container\" hidden><div class=\"sk-item\"><div class=\"sk-estimator sk-toggleable\"><input class=\"sk-toggleable__control sk-hidden--visually\" id=\"sk-estimator-id-12\" type=\"checkbox\" checked><label for=\"sk-estimator-id-12\" class=\"sk-toggleable__label sk-toggleable__label-arrow\">KNeighborsClassifier</label><div class=\"sk-toggleable__content\"><pre>KNeighborsClassifier(n_neighbors=3)</pre></div></div></div></div></div>"
            ]
          },
          "metadata": {},
          "execution_count": 90
        }
      ],
      "source": [
        "model = KNeighborsClassifier(n_neighbors=3)\n",
        "model.fit(train_x_encoded, train_label)"
      ]
    },
    {
      "cell_type": "code",
      "execution_count": 91,
      "metadata": {
        "tags": [],
        "id": "a-78Q1999W1V",
        "outputId": "51157c88-64e6-4fbc-8429-08c355b13fba",
        "colab": {
          "base_uri": "https://localhost:8080/"
        }
      },
      "outputs": [
        {
          "output_type": "stream",
          "name": "stdout",
          "text": [
            "Accuracy Training set:  0.6819620253164557\n",
            "Accuracy Test set:  0.36162361623616235\n"
          ]
        }
      ],
      "source": [
        "y_pred_knn_train = model.predict(train_x_encoded)\n",
        "accuracy_knn_train = accuracy_score(train_label, y_pred_knn_train)\n",
        "print(\"Accuracy Training set: \", accuracy_knn_train)\n",
        "\n",
        "y_pred_knn_test = model.predict(test_x_encoded)\n",
        "accuracy_knn_test = accuracy_score(test_label, y_pred_knn_test)\n",
        "print(\"Accuracy Test set: \", accuracy_knn_test)"
      ]
    },
    {
      "cell_type": "code",
      "execution_count": 92,
      "metadata": {
        "tags": [],
        "id": "k8GNGTcB9W1V",
        "outputId": "192cb9c2-53c2-478e-9d1d-980c34e18201",
        "colab": {
          "base_uri": "https://localhost:8080/"
        }
      },
      "outputs": [
        {
          "output_type": "stream",
          "name": "stdout",
          "text": [
            "Recall Training set:  0.6819620253164557\n",
            "Recall Test set:  0.36162361623616235\n"
          ]
        }
      ],
      "source": [
        "recall_knn_train = recall_score(train_label, y_pred_knn_train, average='weighted')\n",
        "print(\"Recall Training set: \", recall_knn_train)\n",
        "\n",
        "recall_knn_test = recall_score(test_label, y_pred_knn_test, average='weighted')\n",
        "print(\"Recall Test set: \", recall_knn_test)"
      ]
    },
    {
      "cell_type": "code",
      "execution_count": 93,
      "metadata": {
        "tags": [],
        "id": "l3OEUpEy9W1V",
        "outputId": "74a0aae8-978b-4790-93e6-b73e5d80c9d7",
        "colab": {
          "base_uri": "https://localhost:8080/"
        }
      },
      "outputs": [
        {
          "output_type": "stream",
          "name": "stdout",
          "text": [
            "Precision Training set:  0.7011272070435527\n",
            "Precision Test set:  0.39319546180536435\n"
          ]
        }
      ],
      "source": [
        "precision_knn_train = precision_score(train_label, y_pred_knn_train, average='weighted')\n",
        "print(\"Precision Training set: \", precision_knn_train)\n",
        "\n",
        "precision_knn_test = precision_score(test_label, y_pred_knn_test, average='weighted')\n",
        "print(\"Precision Test set: \", precision_knn_test)"
      ]
    },
    {
      "cell_type": "code",
      "execution_count": 94,
      "metadata": {
        "tags": [],
        "id": "fYlVu_CV9W1V",
        "outputId": "627ff0da-a0c0-49ab-b6e3-93a8091737f1",
        "colab": {
          "base_uri": "https://localhost:8080/"
        }
      },
      "outputs": [
        {
          "output_type": "stream",
          "name": "stdout",
          "text": [
            "F1 Training set:  0.6865068520468985\n",
            "F1 Test set:  0.3717346622765151\n"
          ]
        }
      ],
      "source": [
        "f1_knn_train = f1_score(train_label, y_pred_knn_train, average='weighted')\n",
        "print(\"F1 Training set: \", f1_knn_train)\n",
        "\n",
        "f1_knn_test = f1_score(test_label, y_pred_knn_test, average='weighted')\n",
        "print(\"F1 Test set: \", f1_knn_test)"
      ]
    },
    {
      "cell_type": "code",
      "execution_count": 95,
      "metadata": {
        "tags": [],
        "id": "3Y6C_QJO9W1V",
        "outputId": "bc82f7cd-adc3-4121-b4d0-3c2299c1c042",
        "colab": {
          "base_uri": "https://localhost:8080/",
          "height": 509
        }
      },
      "outputs": [
        {
          "output_type": "display_data",
          "data": {
            "text/plain": [
              "<Figure size 640x480 with 2 Axes>"
            ],
            "image/png": "[encoded data removed]"
          },
          "metadata": {}
        }
      ],
      "source": [
        "from sklearn.metrics import confusion_matrix\n",
        "sns.heatmap(confusion_matrix(test_label, y_pred_knn_test), annot=True, cmap = 'viridis', fmt='.0f')\n",
        "plt.xlabel(\"Predicted values\", fontdict = {'size':14}, labelpad = 10)\n",
        "plt.ylabel(\"Actual values\"   , fontdict = {'size':14}, labelpad = 10)\n",
        "plt.title (\"Confusion Matrix\", fontdict = {'size':18}, pad = 20)\n",
        "plt.show()"
      ]
    },
    {
      "cell_type": "markdown",
      "source": [
        "SVM"
      ],
      "metadata": {
        "id": "SPLFD39IgR4o"
      }
    },
    {
      "cell_type": "code",
      "source": [
        "from sklearn.svm import LinearSVC\n",
        "from sklearn.feature_extraction.text import TfidfVectorizer\n",
        "from sklearn.model_selection import GridSearchCV\n",
        "from sklearn.pipeline import Pipeline\n",
        "from sklearn.metrics import accuracy_score\n"
      ],
      "metadata": {
        "id": "pDWmppx1gTqq"
      },
      "execution_count": 57,
      "outputs": []
    },
    {
      "cell_type": "code",
      "source": [
        "# Assume you have train_x, train_label, test_x, and test_label defined\n",
        "# Create a pipeline with TF-IDF vectorizer and LinearSVC\n",
        "classifier_svm = Pipeline([\n",
        "    ('tfidf', TfidfVectorizer()),\n",
        "    ('model', LinearSVC()),\n",
        "])"
      ],
      "metadata": {
        "id": "Xy-oxwnxhU6L"
      },
      "execution_count": 58,
      "outputs": []
    },
    {
      "cell_type": "code",
      "source": [
        "# Define parameters for grid search\n",
        "parameters_svm = {\n",
        "    'tfidf__ngram_range': [(1, 1), (1, 2), (1, 3), (1, 4)],\n",
        "    'model__C': [0.1, 1, 10, 100],\n",
        "}\n"
      ],
      "metadata": {
        "id": "SKPs2zJyhVBQ"
      },
      "execution_count": 59,
      "outputs": []
    },
    {
      "cell_type": "code",
      "source": [
        "# Create a grid search object\n",
        "classifier_svm = GridSearchCV(classifier_svm, parameters_svm, cv=3, n_jobs=-1)"
      ],
      "metadata": {
        "id": "8-LI6vUehVGN"
      },
      "execution_count": 60,
      "outputs": []
    },
    {
      "cell_type": "code",
      "source": [
        "# Fit the model to the training data\n",
        "classifier_svm.fit(train_x, train_label.ravel())"
      ],
      "metadata": {
        "id": "NZid-cEKhVJr",
        "colab": {
          "base_uri": "https://localhost:8080/",
          "height": 150
        },
        "outputId": "5acd8a0e-27f8-4ea7-8f12-3a98f5a72ffe"
      },
      "execution_count": 61,
      "outputs": [
        {
          "output_type": "execute_result",
          "data": {
            "text/plain": [
              "GridSearchCV(cv=3,\n",
              "             estimator=Pipeline(steps=[('tfidf', TfidfVectorizer()),\n",
              "                                       ('model', LinearSVC())]),\n",
              "             n_jobs=-1,\n",
              "             param_grid={'model__C': [0.1, 1, 10, 100],\n",
              "                         'tfidf__ngram_range': [(1, 1), (1, 2), (1, 3),\n",
              "                                                (1, 4)]})"
            ],
            "text/html": [
              "<style>#sk-container-id-1 {color: black;background-color: white;}#sk-container-id-1 pre{padding: 0;}#sk-container-id-1 div.sk-toggleable {background-color: white;}#sk-container-id-1 label.sk-toggleable__label {cursor: pointer;display: block;width: 100%;margin-bottom: 0;padding: 0.3em;box-sizing: border-box;text-align: center;}#sk-container-id-1 label.sk-toggleable__label-arrow:before {content: \"▸\";float: left;margin-right: 0.25em;color: #696969;}#sk-container-id-1 label.sk-toggleable__label-arrow:hover:before {color: black;}#sk-container-id-1 div.sk-estimator:hover label.sk-toggleable__label-arrow:before {color: black;}#sk-container-id-1 div.sk-toggleable__content {max-height: 0;max-width: 0;overflow: hidden;text-align: left;background-color: #f0f8ff;}#sk-container-id-1 div.sk-toggleable__content pre {margin: 0.2em;color: black;border-radius: 0.25em;background-color: #f0f8ff;}#sk-container-id-1 input.sk-toggleable__control:checked~div.sk-toggleable__content {max-height: 200px;max-width: 100%;overflow: auto;}#sk-container-id-1 input.sk-toggleable__control:checked~label.sk-toggleable__label-arrow:before {content: \"▾\";}#sk-container-id-1 div.sk-estimator input.sk-toggleable__control:checked~label.sk-toggleable__label {background-color: #d4ebff;}#sk-container-id-1 div.sk-label input.sk-toggleable__control:checked~label.sk-toggleable__label {background-color: #d4ebff;}#sk-container-id-1 input.sk-hidden--visually {border: 0;clip: rect(1px 1px 1px 1px);clip: rect(1px, 1px, 1px, 1px);height: 1px;margin: -1px;overflow: hidden;padding: 0;position: absolute;width: 1px;}#sk-container-id-1 div.sk-estimator {font-family: monospace;background-color: #f0f8ff;border: 1px dotted black;border-radius: 0.25em;box-sizing: border-box;margin-bottom: 0.5em;}#sk-container-id-1 div.sk-estimator:hover {background-color: #d4ebff;}#sk-container-id-1 div.sk-parallel-item::after {content: \"\";width: 100%;border-bottom: 1px solid gray;flex-grow: 1;}#sk-container-id-1 div.sk-label:hover label.sk-toggleable__label {background-color: #d4ebff;}#sk-container-id-1 div.sk-serial::before {content: \"\";position: absolute;border-left: 1px solid gray;box-sizing: border-box;top: 0;bottom: 0;left: 50%;z-index: 0;}#sk-container-id-1 div.sk-serial {display: flex;flex-direction: column;align-items: center;background-color: white;padding-right: 0.2em;padding-left: 0.2em;position: relative;}#sk-container-id-1 div.sk-item {position: relative;z-index: 1;}#sk-container-id-1 div.sk-parallel {display: flex;align-items: stretch;justify-content: center;background-color: white;position: relative;}#sk-container-id-1 div.sk-item::before, #sk-container-id-1 div.sk-parallel-item::before {content: \"\";position: absolute;border-left: 1px solid gray;box-sizing: border-box;top: 0;bottom: 0;left: 50%;z-index: -1;}#sk-container-id-1 div.sk-parallel-item {display: flex;flex-direction: column;z-index: 1;position: relative;background-color: white;}#sk-container-id-1 div.sk-parallel-item:first-child::after {align-self: flex-end;width: 50%;}#sk-container-id-1 div.sk-parallel-item:last-child::after {align-self: flex-start;width: 50%;}#sk-container-id-1 div.sk-parallel-item:only-child::after {width: 0;}#sk-container-id-1 div.sk-dashed-wrapped {border: 1px dashed gray;margin: 0 0.4em 0.5em 0.4em;box-sizing: border-box;padding-bottom: 0.4em;background-color: white;}#sk-container-id-1 div.sk-label label {font-family: monospace;font-weight: bold;display: inline-block;line-height: 1.2em;}#sk-container-id-1 div.sk-label-container {text-align: center;}#sk-container-id-1 div.sk-container {/* jupyter's `normalize.less` sets `[hidden] { display: none; }` but bootstrap.min.css set `[hidden] { display: none !important; }` so we also need the `!important` here to be able to override the default hidden behavior on the sphinx rendered scikit-learn.org. See: https://github.com/scikit-learn/scikit-learn/issues/21755 */display: inline-block !important;position: relative;}#sk-container-id-1 div.sk-text-repr-fallback {display: none;}</style><div id=\"sk-container-id-1\" class=\"sk-top-container\"><div class=\"sk-text-repr-fallback\"><pre>GridSearchCV(cv=3,\n",
              "             estimator=Pipeline(steps=[(&#x27;tfidf&#x27;, TfidfVectorizer()),\n",
              "                                       (&#x27;model&#x27;, LinearSVC())]),\n",
              "             n_jobs=-1,\n",
              "             param_grid={&#x27;model__C&#x27;: [0.1, 1, 10, 100],\n",
              "                         &#x27;tfidf__ngram_range&#x27;: [(1, 1), (1, 2), (1, 3),\n",
              "                                                (1, 4)]})</pre><b>In a Jupyter environment, please rerun this cell to show the HTML representation or trust the notebook. <br />On GitHub, the HTML representation is unable to render, please try loading this page with nbviewer.org.</b></div><div class=\"sk-container\" hidden><div class=\"sk-item sk-dashed-wrapped\"><div class=\"sk-label-container\"><div class=\"sk-label sk-toggleable\"><input class=\"sk-toggleable__control sk-hidden--visually\" id=\"sk-estimator-id-1\" type=\"checkbox\" ><label for=\"sk-estimator-id-1\" class=\"sk-toggleable__label sk-toggleable__label-arrow\">GridSearchCV</label><div class=\"sk-toggleable__content\"><pre>GridSearchCV(cv=3,\n",
              "             estimator=Pipeline(steps=[(&#x27;tfidf&#x27;, TfidfVectorizer()),\n",
              "                                       (&#x27;model&#x27;, LinearSVC())]),\n",
              "             n_jobs=-1,\n",
              "             param_grid={&#x27;model__C&#x27;: [0.1, 1, 10, 100],\n",
              "                         &#x27;tfidf__ngram_range&#x27;: [(1, 1), (1, 2), (1, 3),\n",
              "                                                (1, 4)]})</pre></div></div></div><div class=\"sk-parallel\"><div class=\"sk-parallel-item\"><div class=\"sk-item\"><div class=\"sk-label-container\"><div class=\"sk-label sk-toggleable\"><input class=\"sk-toggleable__control sk-hidden--visually\" id=\"sk-estimator-id-2\" type=\"checkbox\" ><label for=\"sk-estimator-id-2\" class=\"sk-toggleable__label sk-toggleable__label-arrow\">estimator: Pipeline</label><div class=\"sk-toggleable__content\"><pre>Pipeline(steps=[(&#x27;tfidf&#x27;, TfidfVectorizer()), (&#x27;model&#x27;, LinearSVC())])</pre></div></div></div><div class=\"sk-serial\"><div class=\"sk-item\"><div class=\"sk-serial\"><div class=\"sk-item\"><div class=\"sk-estimator sk-toggleable\"><input class=\"sk-toggleable__control sk-hidden--visually\" id=\"sk-estimator-id-3\" type=\"checkbox\" ><label for=\"sk-estimator-id-3\" class=\"sk-toggleable__label sk-toggleable__label-arrow\">TfidfVectorizer</label><div class=\"sk-toggleable__content\"><pre>TfidfVectorizer()</pre></div></div></div><div class=\"sk-item\"><div class=\"sk-estimator sk-toggleable\"><input class=\"sk-toggleable__control sk-hidden--visually\" id=\"sk-estimator-id-4\" type=\"checkbox\" ><label for=\"sk-estimator-id-4\" class=\"sk-toggleable__label sk-toggleable__label-arrow\">LinearSVC</label><div class=\"sk-toggleable__content\"><pre>LinearSVC()</pre></div></div></div></div></div></div></div></div></div></div></div></div>"
            ]
          },
          "metadata": {},
          "execution_count": 61
        }
      ]
    },
    {
      "cell_type": "code",
      "source": [
        "# Make predictions on the training set\n",
        "y_pred_svm_train = classifier_svm.predict(train_x)\n",
        "accuracy_svm_train = accuracy_score(train_label, y_pred_svm_train)\n",
        "print(\"Accuracy Training set: \", accuracy_svm_train)\n",
        "\n",
        "# Make predictions on the test set\n",
        "y_pred_svm_test = classifier_svm.predict(test_x)\n",
        "accuracy_svm_test = accuracy_score(test_label, y_pred_svm_test)\n",
        "print(\"Accuracy Test set: \", accuracy_svm_test)"
      ],
      "metadata": {
        "id": "dyN1kl3-hVM9",
        "colab": {
          "base_uri": "https://localhost:8080/"
        },
        "outputId": "16938332-2b47-46d8-9ac0-56b165a21d47"
      },
      "execution_count": 66,
      "outputs": [
        {
          "output_type": "stream",
          "name": "stdout",
          "text": [
            "Accuracy Training set:  0.990506329113924\n",
            "Accuracy Test set:  0.5867158671586716\n"
          ]
        }
      ]
    },
    {
      "cell_type": "code",
      "source": [
        "recall_svm_train = recall_score(train_label, y_pred_svm_train, average='weighted')\n",
        "print(\"Recall Training set: \", recall_svm_train)\n",
        "\n",
        "recall_svm_test = recall_score(test_label, y_pred_svm_test, average='weighted')\n",
        "print(\"Recall Test set: \", recall_svm_test)"
      ],
      "metadata": {
        "id": "Q-APf0xfhVTO",
        "colab": {
          "base_uri": "https://localhost:8080/"
        },
        "outputId": "3ef974fa-7312-44fe-8287-d718708969bf"
      },
      "execution_count": 67,
      "outputs": [
        {
          "output_type": "stream",
          "name": "stdout",
          "text": [
            "Recall Training set:  0.990506329113924\n",
            "Recall Test set:  0.5867158671586716\n"
          ]
        }
      ]
    },
    {
      "cell_type": "code",
      "source": [
        "precision_svm_train = precision_score(train_label, y_pred_svm_train, average='weighted')\n",
        "print(\"Precision Training set: \", precision_svm_train)\n",
        "\n",
        "precision_svm_test = precision_score(test_label, y_pred_svm_test, average='weighted')\n",
        "print(\"Precision Test set: \", precision_svm_test)"
      ],
      "metadata": {
        "colab": {
          "base_uri": "https://localhost:8080/"
        },
        "id": "C7NG-joT3W93",
        "outputId": "63ff5846-9e95-4223-bc42-0cdb7113789d"
      },
      "execution_count": 68,
      "outputs": [
        {
          "output_type": "stream",
          "name": "stdout",
          "text": [
            "Precision Training set:  0.9905836620136753\n",
            "Precision Test set:  0.577082660227524\n"
          ]
        }
      ]
    },
    {
      "cell_type": "code",
      "source": [
        "f1_svm_train = f1_score(train_label, y_pred_svm_train, average='weighted')\n",
        "print(\"F1 Training set: \", f1_svm_train)\n",
        "\n",
        "f1_svm_test = f1_score(test_label, y_pred_svm_test, average='weighted')\n",
        "print(\"F1 Test set: \", f1_svm_test)"
      ],
      "metadata": {
        "colab": {
          "base_uri": "https://localhost:8080/"
        },
        "id": "G7bjBXOZ3XEu",
        "outputId": "91cc8d62-edf5-4647-d52f-9c26c0df02d1"
      },
      "execution_count": 69,
      "outputs": [
        {
          "output_type": "stream",
          "name": "stdout",
          "text": [
            "F1 Training set:  0.990515628125501\n",
            "F1 Test set:  0.5811329443343696\n"
          ]
        }
      ]
    },
    {
      "cell_type": "code",
      "source": [
        "from sklearn.metrics import confusion_matrix\n",
        "sns.heatmap(confusion_matrix(test_label, y_pred_svm_test), annot=True, cmap = 'viridis', fmt='.0f')\n",
        "plt.xlabel(\"Predicted values\", fontdict = {'size':14}, labelpad = 10)\n",
        "plt.ylabel(\"Actual values\"   , fontdict = {'size':14}, labelpad = 10)\n",
        "plt.title (\"Confusion Matrix\", fontdict = {'size':18}, pad = 20)\n",
        "plt.show()"
      ],
      "metadata": {
        "colab": {
          "base_uri": "https://localhost:8080/",
          "height": 509
        },
        "id": "cjGsbF9q3XJH",
        "outputId": "f7da43ea-1adb-4e91-801d-5c667e45b85d"
      },
      "execution_count": 70,
      "outputs": [
        {
          "output_type": "display_data",
          "data": {
            "text/plain": [
              "<Figure size 640x480 with 2 Axes>"
            ],
            "image/png": "[encoded data removed]"
          },
          "metadata": {}
        }
      ]
    },
    {
      "cell_type": "markdown",
      "metadata": {
        "id": "sx9QGpMhNQz2"
      },
      "source": [
        "# Visualisasi"
      ]
    },
    {
      "cell_type": "code",
      "execution_count": 96,
      "metadata": {
        "id": "PNe8zekbNMzJ",
        "tags": []
      },
      "outputs": [],
      "source": [
        "models = [\n",
        "          ('Naive Bayes Multinomial', accuracy_nb_train, accuracy_nb_test),\n",
        "          ('KNN', accuracy_knn_train, accuracy_knn_test),\n",
        "          ('SVM', accuracy_svm_train, accuracy_svm_test),\n",
        "         ]"
      ]
    },
    {
      "cell_type": "code",
      "execution_count": 97,
      "metadata": {
        "colab": {
          "base_uri": "https://localhost:8080/",
          "height": 143
        },
        "id": "PMDt0SP3NTvf",
        "outputId": "64660661-93ec-4f5c-f059-36b867f53625",
        "tags": []
      },
      "outputs": [
        {
          "output_type": "execute_result",
          "data": {
            "text/plain": [
              "                     Model  Training Accuracy  Test Accuracy\n",
              "0  Naive Bayes Multinomial           0.976266       0.590406\n",
              "1                      KNN           0.681962       0.361624\n",
              "2                      SVM           0.990506       0.586716"
            ],
            "text/html": [
              "\n",
              "  <div id=\"df-3cee47ad-dd9d-483e-896f-54421588f5dd\" class=\"colab-df-container\">\n",
              "    <div>\n",
              "<style scoped>\n",
              "    .dataframe tbody tr th:only-of-type {\n",
              "        vertical-align: middle;\n",
              "    }\n",
              "\n",
              "    .dataframe tbody tr th {\n",
              "        vertical-align: top;\n",
              "    }\n",
              "\n",
              "    .dataframe thead th {\n",
              "        text-align: right;\n",
              "    }\n",
              "</style>\n",
              "<table border=\"1\" class=\"dataframe\">\n",
              "  <thead>\n",
              "    <tr style=\"text-align: right;\">\n",
              "      <th></th>\n",
              "      <th>Model</th>\n",
              "      <th>Training Accuracy</th>\n",
              "      <th>Test Accuracy</th>\n",
              "    </tr>\n",
              "  </thead>\n",
              "  <tbody>\n",
              "    <tr>\n",
              "      <th>0</th>\n",
              "      <td>Naive Bayes Multinomial</td>\n",
              "      <td>0.976266</td>\n",
              "      <td>0.590406</td>\n",
              "    </tr>\n",
              "    <tr>\n",
              "      <th>1</th>\n",
              "      <td>KNN</td>\n",
              "      <td>0.681962</td>\n",
              "      <td>0.361624</td>\n",
              "    </tr>\n",
              "    <tr>\n",
              "      <th>2</th>\n",
              "      <td>SVM</td>\n",
              "      <td>0.990506</td>\n",
              "      <td>0.586716</td>\n",
              "    </tr>\n",
              "  </tbody>\n",
              "</table>\n",
              "</div>\n",
              "    <div class=\"colab-df-buttons\">\n",
              "\n",
              "  <div class=\"colab-df-container\">\n",
              "    <button class=\"colab-df-convert\" onclick=\"convertToInteractive('df-3cee47ad-dd9d-483e-896f-54421588f5dd')\"\n",
              "            title=\"Convert this dataframe to an interactive table.\"\n",
              "            style=\"display:none;\">\n",
              "\n",
              "  <svg xmlns=\"http://www.w3.org/2000/svg\" height=\"24px\" viewBox=\"0 -960 960 960\">\n",
              "    <path d=\"M120-120v-720h720v720H120Zm60-500h600v-160H180v160Zm220 220h160v-160H400v160Zm0 220h160v-160H400v160ZM180-400h160v-160H180v160Zm440 0h160v-160H620v160ZM180-180h160v-160H180v160Zm440 0h160v-160H620v160Z\"/>\n",
              "  </svg>\n",
              "    </button>\n",
              "\n",
              "  <style>\n",
              "    .colab-df-container {\n",
              "      display:flex;\n",
              "      gap: 12px;\n",
              "    }\n",
              "\n",
              "    .colab-df-convert {\n",
              "      background-color: #E8F0FE;\n",
              "      border: none;\n",
              "      border-radius: 50%;\n",
              "      cursor: pointer;\n",
              "      display: none;\n",
              "      fill: #1967D2;\n",
              "      height: 32px;\n",
              "      padding: 0 0 0 0;\n",
              "      width: 32px;\n",
              "    }\n",
              "\n",
              "    .colab-df-convert:hover {\n",
              "      background-color: #E2EBFA;\n",
              "      box-shadow: 0px 1px 2px rgba(60, 64, 67, 0.3), 0px 1px 3px 1px rgba(60, 64, 67, 0.15);\n",
              "      fill: #174EA6;\n",
              "    }\n",
              "\n",
              "    .colab-df-buttons div {\n",
              "      margin-bottom: 4px;\n",
              "    }\n",
              "\n",
              "    [theme=dark] .colab-df-convert {\n",
              "      background-color: #3B4455;\n",
              "      fill: #D2E3FC;\n",
              "    }\n",
              "\n",
              "    [theme=dark] .colab-df-convert:hover {\n",
              "      background-color: #434B5C;\n",
              "      box-shadow: 0px 1px 3px 1px rgba(0, 0, 0, 0.15);\n",
              "      filter: drop-shadow(0px 1px 2px rgba(0, 0, 0, 0.3));\n",
              "      fill: #FFFFFF;\n",
              "    }\n",
              "  </style>\n",
              "\n",
              "    <script>\n",
              "      const buttonEl =\n",
              "        document.querySelector('#df-3cee47ad-dd9d-483e-896f-54421588f5dd button.colab-df-convert');\n",
              "      buttonEl.style.display =\n",
              "        google.colab.kernel.accessAllowed ? 'block' : 'none';\n",
              "\n",
              "      async function convertToInteractive(key) {\n",
              "        const element = document.querySelector('#df-3cee47ad-dd9d-483e-896f-54421588f5dd');\n",
              "        const dataTable =\n",
              "          await google.colab.kernel.invokeFunction('convertToInteractive',\n",
              "                                                    [key], {});\n",
              "        if (!dataTable) return;\n",
              "\n",
              "        const docLinkHtml = 'Like what you see? Visit the ' +\n",
              "          '<a target=\"_blank\" href=https://colab.research.google.com/notebooks/data_table.ipynb>data table notebook</a>'\n",
              "          + ' to learn more about interactive tables.';\n",
              "        element.innerHTML = '';\n",
              "        dataTable['output_type'] = 'display_data';\n",
              "        await google.colab.output.renderOutput(dataTable, element);\n",
              "        const docLink = document.createElement('div');\n",
              "        docLink.innerHTML = docLinkHtml;\n",
              "        element.appendChild(docLink);\n",
              "      }\n",
              "    </script>\n",
              "  </div>\n",
              "\n",
              "\n",
              "<div id=\"df-571a88d4-cd81-4c04-9783-b15e46a018b7\">\n",
              "  <button class=\"colab-df-quickchart\" onclick=\"quickchart('df-571a88d4-cd81-4c04-9783-b15e46a018b7')\"\n",
              "            title=\"Suggest charts\"\n",
              "            style=\"display:none;\">\n",
              "\n",
              "<svg xmlns=\"http://www.w3.org/2000/svg\" height=\"24px\"viewBox=\"0 0 24 24\"\n",
              "     width=\"24px\">\n",
              "    <g>\n",
              "        <path d=\"M19 3H5c-1.1 0-2 .9-2 2v14c0 1.1.9 2 2 2h14c1.1 0 2-.9 2-2V5c0-1.1-.9-2-2-2zM9 17H7v-7h2v7zm4 0h-2V7h2v10zm4 0h-2v-4h2v4z\"/>\n",
              "    </g>\n",
              "</svg>\n",
              "  </button>\n",
              "\n",
              "<style>\n",
              "  .colab-df-quickchart {\n",
              "      --bg-color: #E8F0FE;\n",
              "      --fill-color: #1967D2;\n",
              "      --hover-bg-color: #E2EBFA;\n",
              "      --hover-fill-color: #174EA6;\n",
              "      --disabled-fill-color: #AAA;\n",
              "      --disabled-bg-color: #DDD;\n",
              "  }\n",
              "\n",
              "  [theme=dark] .colab-df-quickchart {\n",
              "      --bg-color: #3B4455;\n",
              "      --fill-color: #D2E3FC;\n",
              "      --hover-bg-color: #434B5C;\n",
              "      --hover-fill-color: #FFFFFF;\n",
              "      --disabled-bg-color: #3B4455;\n",
              "      --disabled-fill-color: #666;\n",
              "  }\n",
              "\n",
              "  .colab-df-quickchart {\n",
              "    background-color: var(--bg-color);\n",
              "    border: none;\n",
              "    border-radius: 50%;\n",
              "    cursor: pointer;\n",
              "    display: none;\n",
              "    fill: var(--fill-color);\n",
              "    height: 32px;\n",
              "    padding: 0;\n",
              "    width: 32px;\n",
              "  }\n",
              "\n",
              "  .colab-df-quickchart:hover {\n",
              "    background-color: var(--hover-bg-color);\n",
              "    box-shadow: 0 1px 2px rgba(60, 64, 67, 0.3), 0 1px 3px 1px rgba(60, 64, 67, 0.15);\n",
              "    fill: var(--button-hover-fill-color);\n",
              "  }\n",
              "\n",
              "  .colab-df-quickchart-complete:disabled,\n",
              "  .colab-df-quickchart-complete:disabled:hover {\n",
              "    background-color: var(--disabled-bg-color);\n",
              "    fill: var(--disabled-fill-color);\n",
              "    box-shadow: none;\n",
              "  }\n",
              "\n",
              "  .colab-df-spinner {\n",
              "    border: 2px solid var(--fill-color);\n",
              "    border-color: transparent;\n",
              "    border-bottom-color: var(--fill-color);\n",
              "    animation:\n",
              "      spin 1s steps(1) infinite;\n",
              "  }\n",
              "\n",
              "  @keyframes spin {\n",
              "    0% {\n",
              "      border-color: transparent;\n",
              "      border-bottom-color: var(--fill-color);\n",
              "      border-left-color: var(--fill-color);\n",
              "    }\n",
              "    20% {\n",
              "      border-color: transparent;\n",
              "      border-left-color: var(--fill-color);\n",
              "      border-top-color: var(--fill-color);\n",
              "    }\n",
              "    30% {\n",
              "      border-color: transparent;\n",
              "      border-left-color: var(--fill-color);\n",
              "      border-top-color: var(--fill-color);\n",
              "      border-right-color: var(--fill-color);\n",
              "    }\n",
              "    40% {\n",
              "      border-color: transparent;\n",
              "      border-right-color: var(--fill-color);\n",
              "      border-top-color: var(--fill-color);\n",
              "    }\n",
              "    60% {\n",
              "      border-color: transparent;\n",
              "      border-right-color: var(--fill-color);\n",
              "    }\n",
              "    80% {\n",
              "      border-color: transparent;\n",
              "      border-right-color: var(--fill-color);\n",
              "      border-bottom-color: var(--fill-color);\n",
              "    }\n",
              "    90% {\n",
              "      border-color: transparent;\n",
              "      border-bottom-color: var(--fill-color);\n",
              "    }\n",
              "  }\n",
              "</style>\n",
              "\n",
              "  <script>\n",
              "    async function quickchart(key) {\n",
              "      const quickchartButtonEl =\n",
              "        document.querySelector('#' + key + ' button');\n",
              "      quickchartButtonEl.disabled = true;  // To prevent multiple clicks.\n",
              "      quickchartButtonEl.classList.add('colab-df-spinner');\n",
              "      try {\n",
              "        const charts = await google.colab.kernel.invokeFunction(\n",
              "            'suggestCharts', [key], {});\n",
              "      } catch (error) {\n",
              "        console.error('Error during call to suggestCharts:', error);\n",
              "      }\n",
              "      quickchartButtonEl.classList.remove('colab-df-spinner');\n",
              "      quickchartButtonEl.classList.add('colab-df-quickchart-complete');\n",
              "    }\n",
              "    (() => {\n",
              "      let quickchartButtonEl =\n",
              "        document.querySelector('#df-571a88d4-cd81-4c04-9783-b15e46a018b7 button');\n",
              "      quickchartButtonEl.style.display =\n",
              "        google.colab.kernel.accessAllowed ? 'block' : 'none';\n",
              "    })();\n",
              "  </script>\n",
              "</div>\n",
              "    </div>\n",
              "  </div>\n"
            ]
          },
          "metadata": {},
          "execution_count": 97
        }
      ],
      "source": [
        "predict = pd.DataFrame(data = models, columns=['Model', 'Training Accuracy', 'Test Accuracy'])\n",
        "predict"
      ]
    },
    {
      "cell_type": "code",
      "execution_count": 98,
      "metadata": {
        "id": "E7dNcRN6NU7c",
        "tags": []
      },
      "outputs": [],
      "source": [
        "models_comparison = [\n",
        "                        ('Naive Bayes Multinomial', accuracy_nb_test, recall_nb_test, precision_nb_test, f1_nb_test),\n",
        "                        ('KNN', accuracy_knn_test, recall_knn_test, precision_knn_test, f1_knn_test),\n",
        "                        ('SVM', accuracy_svm_test, recall_svm_test, precision_svm_test, f1_svm_test),\n",
        "                    ]"
      ]
    },
    {
      "cell_type": "code",
      "execution_count": 99,
      "metadata": {
        "colab": {
          "base_uri": "https://localhost:8080/",
          "height": 143
        },
        "id": "ag1KxvizNYKY",
        "outputId": "142ca1b4-5f5d-4b22-8bdd-9e60474e47b5",
        "tags": []
      },
      "outputs": [
        {
          "output_type": "execute_result",
          "data": {
            "text/plain": [
              "                     Model  Accuracy    Recall  Precision  F1 Weighted\n",
              "0  Naive Bayes Multinomial  0.590406  0.590406   0.569541     0.572316\n",
              "1                      KNN  0.361624  0.361624   0.393195     0.371735\n",
              "2                      SVM  0.586716  0.586716   0.577083     0.581133"
            ],
            "text/html": [
              "\n",
              "  <div id=\"df-d073d4a0-96bc-42bd-8d35-af25a996a023\" class=\"colab-df-container\">\n",
              "    <div>\n",
              "<style scoped>\n",
              "    .dataframe tbody tr th:only-of-type {\n",
              "        vertical-align: middle;\n",
              "    }\n",
              "\n",
              "    .dataframe tbody tr th {\n",
              "        vertical-align: top;\n",
              "    }\n",
              "\n",
              "    .dataframe thead th {\n",
              "        text-align: right;\n",
              "    }\n",
              "</style>\n",
              "<table border=\"1\" class=\"dataframe\">\n",
              "  <thead>\n",
              "    <tr style=\"text-align: right;\">\n",
              "      <th></th>\n",
              "      <th>Model</th>\n",
              "      <th>Accuracy</th>\n",
              "      <th>Recall</th>\n",
              "      <th>Precision</th>\n",
              "      <th>F1 Weighted</th>\n",
              "    </tr>\n",
              "  </thead>\n",
              "  <tbody>\n",
              "    <tr>\n",
              "      <th>0</th>\n",
              "      <td>Naive Bayes Multinomial</td>\n",
              "      <td>0.590406</td>\n",
              "      <td>0.590406</td>\n",
              "      <td>0.569541</td>\n",
              "      <td>0.572316</td>\n",
              "    </tr>\n",
              "    <tr>\n",
              "      <th>1</th>\n",
              "      <td>KNN</td>\n",
              "      <td>0.361624</td>\n",
              "      <td>0.361624</td>\n",
              "      <td>0.393195</td>\n",
              "      <td>0.371735</td>\n",
              "    </tr>\n",
              "    <tr>\n",
              "      <th>2</th>\n",
              "      <td>SVM</td>\n",
              "      <td>0.586716</td>\n",
              "      <td>0.586716</td>\n",
              "      <td>0.577083</td>\n",
              "      <td>0.581133</td>\n",
              "    </tr>\n",
              "  </tbody>\n",
              "</table>\n",
              "</div>\n",
              "    <div class=\"colab-df-buttons\">\n",
              "\n",
              "  <div class=\"colab-df-container\">\n",
              "    <button class=\"colab-df-convert\" onclick=\"convertToInteractive('df-d073d4a0-96bc-42bd-8d35-af25a996a023')\"\n",
              "            title=\"Convert this dataframe to an interactive table.\"\n",
              "            style=\"display:none;\">\n",
              "\n",
              "  <svg xmlns=\"http://www.w3.org/2000/svg\" height=\"24px\" viewBox=\"0 -960 960 960\">\n",
              "    <path d=\"M120-120v-720h720v720H120Zm60-500h600v-160H180v160Zm220 220h160v-160H400v160Zm0 220h160v-160H400v160ZM180-400h160v-160H180v160Zm440 0h160v-160H620v160ZM180-180h160v-160H180v160Zm440 0h160v-160H620v160Z\"/>\n",
              "  </svg>\n",
              "    </button>\n",
              "\n",
              "  <style>\n",
              "    .colab-df-container {\n",
              "      display:flex;\n",
              "      gap: 12px;\n",
              "    }\n",
              "\n",
              "    .colab-df-convert {\n",
              "      background-color: #E8F0FE;\n",
              "      border: none;\n",
              "      border-radius: 50%;\n",
              "      cursor: pointer;\n",
              "      display: none;\n",
              "      fill: #1967D2;\n",
              "      height: 32px;\n",
              "      padding: 0 0 0 0;\n",
              "      width: 32px;\n",
              "    }\n",
              "\n",
              "    .colab-df-convert:hover {\n",
              "      background-color: #E2EBFA;\n",
              "      box-shadow: 0px 1px 2px rgba(60, 64, 67, 0.3), 0px 1px 3px 1px rgba(60, 64, 67, 0.15);\n",
              "      fill: #174EA6;\n",
              "    }\n",
              "\n",
              "    .colab-df-buttons div {\n",
              "      margin-bottom: 4px;\n",
              "    }\n",
              "\n",
              "    [theme=dark] .colab-df-convert {\n",
              "      background-color: #3B4455;\n",
              "      fill: #D2E3FC;\n",
              "    }\n",
              "\n",
              "    [theme=dark] .colab-df-convert:hover {\n",
              "      background-color: #434B5C;\n",
              "      box-shadow: 0px 1px 3px 1px rgba(0, 0, 0, 0.15);\n",
              "      filter: drop-shadow(0px 1px 2px rgba(0, 0, 0, 0.3));\n",
              "      fill: #FFFFFF;\n",
              "    }\n",
              "  </style>\n",
              "\n",
              "    <script>\n",
              "      const buttonEl =\n",
              "        document.querySelector('#df-d073d4a0-96bc-42bd-8d35-af25a996a023 button.colab-df-convert');\n",
              "      buttonEl.style.display =\n",
              "        google.colab.kernel.accessAllowed ? 'block' : 'none';\n",
              "\n",
              "      async function convertToInteractive(key) {\n",
              "        const element = document.querySelector('#df-d073d4a0-96bc-42bd-8d35-af25a996a023');\n",
              "        const dataTable =\n",
              "          await google.colab.kernel.invokeFunction('convertToInteractive',\n",
              "                                                    [key], {});\n",
              "        if (!dataTable) return;\n",
              "\n",
              "        const docLinkHtml = 'Like what you see? Visit the ' +\n",
              "          '<a target=\"_blank\" href=https://colab.research.google.com/notebooks/data_table.ipynb>data table notebook</a>'\n",
              "          + ' to learn more about interactive tables.';\n",
              "        element.innerHTML = '';\n",
              "        dataTable['output_type'] = 'display_data';\n",
              "        await google.colab.output.renderOutput(dataTable, element);\n",
              "        const docLink = document.createElement('div');\n",
              "        docLink.innerHTML = docLinkHtml;\n",
              "        element.appendChild(docLink);\n",
              "      }\n",
              "    </script>\n",
              "  </div>\n",
              "\n",
              "\n",
              "<div id=\"df-6ee3d2d4-9b28-44b7-9d56-0f2972552780\">\n",
              "  <button class=\"colab-df-quickchart\" onclick=\"quickchart('df-6ee3d2d4-9b28-44b7-9d56-0f2972552780')\"\n",
              "            title=\"Suggest charts\"\n",
              "            style=\"display:none;\">\n",
              "\n",
              "<svg xmlns=\"http://www.w3.org/2000/svg\" height=\"24px\"viewBox=\"0 0 24 24\"\n",
              "     width=\"24px\">\n",
              "    <g>\n",
              "        <path d=\"M19 3H5c-1.1 0-2 .9-2 2v14c0 1.1.9 2 2 2h14c1.1 0 2-.9 2-2V5c0-1.1-.9-2-2-2zM9 17H7v-7h2v7zm4 0h-2V7h2v10zm4 0h-2v-4h2v4z\"/>\n",
              "    </g>\n",
              "</svg>\n",
              "  </button>\n",
              "\n",
              "<style>\n",
              "  .colab-df-quickchart {\n",
              "      --bg-color: #E8F0FE;\n",
              "      --fill-color: #1967D2;\n",
              "      --hover-bg-color: #E2EBFA;\n",
              "      --hover-fill-color: #174EA6;\n",
              "      --disabled-fill-color: #AAA;\n",
              "      --disabled-bg-color: #DDD;\n",
              "  }\n",
              "\n",
              "  [theme=dark] .colab-df-quickchart {\n",
              "      --bg-color: #3B4455;\n",
              "      --fill-color: #D2E3FC;\n",
              "      --hover-bg-color: #434B5C;\n",
              "      --hover-fill-color: #FFFFFF;\n",
              "      --disabled-bg-color: #3B4455;\n",
              "      --disabled-fill-color: #666;\n",
              "  }\n",
              "\n",
              "  .colab-df-quickchart {\n",
              "    background-color: var(--bg-color);\n",
              "    border: none;\n",
              "    border-radius: 50%;\n",
              "    cursor: pointer;\n",
              "    display: none;\n",
              "    fill: var(--fill-color);\n",
              "    height: 32px;\n",
              "    padding: 0;\n",
              "    width: 32px;\n",
              "  }\n",
              "\n",
              "  .colab-df-quickchart:hover {\n",
              "    background-color: var(--hover-bg-color);\n",
              "    box-shadow: 0 1px 2px rgba(60, 64, 67, 0.3), 0 1px 3px 1px rgba(60, 64, 67, 0.15);\n",
              "    fill: var(--button-hover-fill-color);\n",
              "  }\n",
              "\n",
              "  .colab-df-quickchart-complete:disabled,\n",
              "  .colab-df-quickchart-complete:disabled:hover {\n",
              "    background-color: var(--disabled-bg-color);\n",
              "    fill: var(--disabled-fill-color);\n",
              "    box-shadow: none;\n",
              "  }\n",
              "\n",
              "  .colab-df-spinner {\n",
              "    border: 2px solid var(--fill-color);\n",
              "    border-color: transparent;\n",
              "    border-bottom-color: var(--fill-color);\n",
              "    animation:\n",
              "      spin 1s steps(1) infinite;\n",
              "  }\n",
              "\n",
              "  @keyframes spin {\n",
              "    0% {\n",
              "      border-color: transparent;\n",
              "      border-bottom-color: var(--fill-color);\n",
              "      border-left-color: var(--fill-color);\n",
              "    }\n",
              "    20% {\n",
              "      border-color: transparent;\n",
              "      border-left-color: var(--fill-color);\n",
              "      border-top-color: var(--fill-color);\n",
              "    }\n",
              "    30% {\n",
              "      border-color: transparent;\n",
              "      border-left-color: var(--fill-color);\n",
              "      border-top-color: var(--fill-color);\n",
              "      border-right-color: var(--fill-color);\n",
              "    }\n",
              "    40% {\n",
              "      border-color: transparent;\n",
              "      border-right-color: var(--fill-color);\n",
              "      border-top-color: var(--fill-color);\n",
              "    }\n",
              "    60% {\n",
              "      border-color: transparent;\n",
              "      border-right-color: var(--fill-color);\n",
              "    }\n",
              "    80% {\n",
              "      border-color: transparent;\n",
              "      border-right-color: var(--fill-color);\n",
              "      border-bottom-color: var(--fill-color);\n",
              "    }\n",
              "    90% {\n",
              "      border-color: transparent;\n",
              "      border-bottom-color: var(--fill-color);\n",
              "    }\n",
              "  }\n",
              "</style>\n",
              "\n",
              "  <script>\n",
              "    async function quickchart(key) {\n",
              "      const quickchartButtonEl =\n",
              "        document.querySelector('#' + key + ' button');\n",
              "      quickchartButtonEl.disabled = true;  // To prevent multiple clicks.\n",
              "      quickchartButtonEl.classList.add('colab-df-spinner');\n",
              "      try {\n",
              "        const charts = await google.colab.kernel.invokeFunction(\n",
              "            'suggestCharts', [key], {});\n",
              "      } catch (error) {\n",
              "        console.error('Error during call to suggestCharts:', error);\n",
              "      }\n",
              "      quickchartButtonEl.classList.remove('colab-df-spinner');\n",
              "      quickchartButtonEl.classList.add('colab-df-quickchart-complete');\n",
              "    }\n",
              "    (() => {\n",
              "      let quickchartButtonEl =\n",
              "        document.querySelector('#df-6ee3d2d4-9b28-44b7-9d56-0f2972552780 button');\n",
              "      quickchartButtonEl.style.display =\n",
              "        google.colab.kernel.accessAllowed ? 'block' : 'none';\n",
              "    })();\n",
              "  </script>\n",
              "</div>\n",
              "    </div>\n",
              "  </div>\n"
            ]
          },
          "metadata": {},
          "execution_count": 99
        }
      ],
      "source": [
        "comparison = pd.DataFrame(data = models_comparison, columns=['Model', 'Accuracy', 'Recall', 'Precision', 'F1 Weighted'])\n",
        "comparison"
      ]
    },
    {
      "cell_type": "code",
      "execution_count": 100,
      "metadata": {
        "colab": {
          "base_uri": "https://localhost:8080/",
          "height": 564
        },
        "id": "xfmY9uPfNaBl",
        "outputId": "421ad184-2c10-41b8-b58f-cb5f49a0bc92",
        "tags": []
      },
      "outputs": [
        {
          "output_type": "display_data",
          "data": {
            "text/plain": [
              "<Figure size 1400x1000 with 2 Axes>"
            ],
            "image/png": "[encoded data removed]"
          },
          "metadata": {}
        }
      ],
      "source": [
        "import numpy as np\n",
        "\n",
        "f, axes = plt.subplots(2,1, figsize=(14,10))\n",
        "\n",
        "predict.sort_values(by=['Training Accuracy'], ascending=False, inplace=True)\n",
        "\n",
        "sns.barplot(x='Training Accuracy', y='Model', data = predict, palette='Blues_d', ax = axes[0])\n",
        "#axes[0].set(xlabel='Region', ylabel='Charges')\n",
        "axes[0].set_xlabel('Training Accuracy', size=16)\n",
        "axes[0].set_ylabel('Model')\n",
        "axes[0].set_xlim(0,1.0)\n",
        "axes[0].set_xticks(np.arange(0, 1.1, 0.1))\n",
        "\n",
        "predict.sort_values(by=['Test Accuracy'], ascending=False, inplace=True)\n",
        "\n",
        "sns.barplot(x='Test Accuracy', y='Model', data = predict, palette='Greens_d', ax = axes[1])\n",
        "#axes[0].set(xlabel='Region', ylabel='Charges')\n",
        "axes[1].set_xlabel('Test Accuracy', size=16)\n",
        "axes[1].set_ylabel('Model')\n",
        "axes[1].set_xlim(0,1.0)\n",
        "axes[1].set_xticks(np.arange(0, 1.1, 0.1))\n",
        "\n",
        "plt.show()"
      ]
    },
    {
      "cell_type": "markdown",
      "metadata": {
        "id": "ax_0BYFhQoGl"
      },
      "source": [
        "# simpan kedalam joblib"
      ]
    },
    {
      "cell_type": "code",
      "execution_count": null,
      "metadata": {
        "id": "GXb1o8AeNfQf",
        "tags": []
      },
      "outputs": [],
      "source": [
        "import joblib"
      ]
    },
    {
      "cell_type": "code",
      "execution_count": null,
      "metadata": {
        "colab": {
          "base_uri": "https://localhost:8080/"
        },
        "id": "BM-gUqDMQqmv",
        "outputId": "4b4038c4-7fa4-45e4-b072-203d4927fc2c",
        "tags": []
      },
      "outputs": [
        {
          "output_type": "execute_result",
          "data": {
            "text/plain": [
              "['classifier_nb.best_estimator_.sav']"
            ]
          },
          "metadata": {},
          "execution_count": 87
        }
      ],
      "source": [
        "# save the model to disk\n",
        "joblib.dump(classifier_nb.best_estimator_, 'classifier_nb.best_estimator_.sav', compress=1)"
      ]
    }
  ],
  "metadata": {
    "colab": {
      "provenance": []
    },
    "kernelspec": {
      "display_name": "Python 3 (ipykernel)",
      "language": "python",
      "name": "python3"
    },
    "language_info": {
      "codemirror_mode": {
        "name": "ipython",
        "version": 3
      },
      "file_extension": ".py",
      "mimetype": "text/x-python",
      "name": "python",
      "nbconvert_exporter": "python",
      "pygments_lexer": "ipython3",
      "version": "3.10.10"
    }
  },
  "nbformat": 4,
  "nbformat_minor": 0
}